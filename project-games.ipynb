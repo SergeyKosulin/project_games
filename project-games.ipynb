{
 "cells": [
  {
   "cell_type": "markdown",
   "metadata": {},
   "source": [
    "# Анализ продаж компьютерных игр"
   ]
  },
  {
   "cell_type": "markdown",
   "metadata": {},
   "source": [
    "**Цель проекта**\n",
    "\n",
    "Выявить определяющие успешность игры закономерности. Это позволит сделать ставку на потенциально популярный продукт и спланировать рекламные кампании.\n",
    "\n",
    "**Описание данных:**\n",
    "\n",
    "- Name — название игры\n",
    "- Platform — платформа\n",
    "- Year_of_Release — год выпуска\n",
    "- Genre — жанр игры\n",
    "- NA_sales — продажи в Северной Америке (миллионы проданных копий)\n",
    "- EU_sales — продажи в Европе (миллионы проданных копий)\n",
    "- JP_sales — продажи в Японии (миллионы проданных копий)\n",
    "- Other_sales — продажи в других странах (миллионы проданных копий)\n",
    "- Critic_Score — оценка критиков (максимум 100)\n",
    "- User_Score — оценка пользователей (максимум 10)\n",
    "- Rating — рейтинг от организации ESRB (англ. Entertainment Software Rating Board). Эта ассоциация определяет рейтинг компьютерных игр и присваивает им подходящую возрастную категорию."
   ]
  },
  {
   "cell_type": "markdown",
   "metadata": {},
   "source": [
    "#  Общая информация"
   ]
  },
  {
   "cell_type": "code",
   "execution_count": 1,
   "metadata": {},
   "outputs": [],
   "source": [
    "import pandas as pd\n",
    "import numpy as np\n",
    "from matplotlib import pyplot as plt\n",
    "from scipy import stats as st\n",
    "import seaborn as sns"
   ]
  },
  {
   "cell_type": "code",
   "execution_count": 2,
   "metadata": {},
   "outputs": [
    {
     "data": {
      "text/plain": [
       "'датасет открыт'"
      ]
     },
     "metadata": {},
     "output_type": "display_data"
    }
   ],
   "source": [
    "try:\n",
    "    df = pd.read_csv('C:/Users/днс/OneDrive/Документы/GitHub/games_datasets/games.csv')\n",
    "    display('датасет открыт')\n",
    "except:\n",
    "    display('ошибка открытия датасета')"
   ]
  },
  {
   "cell_type": "code",
   "execution_count": 3,
   "metadata": {},
   "outputs": [
    {
     "name": "stdout",
     "output_type": "stream",
     "text": [
      "<class 'pandas.core.frame.DataFrame'>\n",
      "RangeIndex: 16715 entries, 0 to 16714\n",
      "Data columns (total 11 columns):\n",
      " #   Column           Non-Null Count  Dtype  \n",
      "---  ------           --------------  -----  \n",
      " 0   Name             16713 non-null  object \n",
      " 1   Platform         16715 non-null  object \n",
      " 2   Year_of_Release  16446 non-null  float64\n",
      " 3   Genre            16713 non-null  object \n",
      " 4   NA_sales         16715 non-null  float64\n",
      " 5   EU_sales         16715 non-null  float64\n",
      " 6   JP_sales         16715 non-null  float64\n",
      " 7   Other_sales      16715 non-null  float64\n",
      " 8   Critic_Score     8137 non-null   float64\n",
      " 9   User_Score       10014 non-null  object \n",
      " 10  Rating           9949 non-null   object \n",
      "dtypes: float64(6), object(5)\n",
      "memory usage: 1.4+ MB\n"
     ]
    }
   ],
   "source": [
    "df.info()\n",
    "# общая информация"
   ]
  },
  {
   "cell_type": "code",
   "execution_count": 4,
   "metadata": {},
   "outputs": [
    {
     "data": {
      "text/html": [
       "<div>\n",
       "<style scoped>\n",
       "    .dataframe tbody tr th:only-of-type {\n",
       "        vertical-align: middle;\n",
       "    }\n",
       "\n",
       "    .dataframe tbody tr th {\n",
       "        vertical-align: top;\n",
       "    }\n",
       "\n",
       "    .dataframe thead th {\n",
       "        text-align: right;\n",
       "    }\n",
       "</style>\n",
       "<table border=\"1\" class=\"dataframe\">\n",
       "  <thead>\n",
       "    <tr style=\"text-align: right;\">\n",
       "      <th></th>\n",
       "      <th>Name</th>\n",
       "      <th>Platform</th>\n",
       "      <th>Year_of_Release</th>\n",
       "      <th>Genre</th>\n",
       "      <th>NA_sales</th>\n",
       "      <th>EU_sales</th>\n",
       "      <th>JP_sales</th>\n",
       "      <th>Other_sales</th>\n",
       "      <th>Critic_Score</th>\n",
       "      <th>User_Score</th>\n",
       "      <th>Rating</th>\n",
       "    </tr>\n",
       "  </thead>\n",
       "  <tbody>\n",
       "    <tr>\n",
       "      <th>0</th>\n",
       "      <td>Wii Sports</td>\n",
       "      <td>Wii</td>\n",
       "      <td>2006.0</td>\n",
       "      <td>Sports</td>\n",
       "      <td>41.36</td>\n",
       "      <td>28.96</td>\n",
       "      <td>3.77</td>\n",
       "      <td>8.45</td>\n",
       "      <td>76.0</td>\n",
       "      <td>8</td>\n",
       "      <td>E</td>\n",
       "    </tr>\n",
       "    <tr>\n",
       "      <th>1</th>\n",
       "      <td>Super Mario Bros.</td>\n",
       "      <td>NES</td>\n",
       "      <td>1985.0</td>\n",
       "      <td>Platform</td>\n",
       "      <td>29.08</td>\n",
       "      <td>3.58</td>\n",
       "      <td>6.81</td>\n",
       "      <td>0.77</td>\n",
       "      <td>NaN</td>\n",
       "      <td>NaN</td>\n",
       "      <td>NaN</td>\n",
       "    </tr>\n",
       "    <tr>\n",
       "      <th>2</th>\n",
       "      <td>Mario Kart Wii</td>\n",
       "      <td>Wii</td>\n",
       "      <td>2008.0</td>\n",
       "      <td>Racing</td>\n",
       "      <td>15.68</td>\n",
       "      <td>12.76</td>\n",
       "      <td>3.79</td>\n",
       "      <td>3.29</td>\n",
       "      <td>82.0</td>\n",
       "      <td>8.3</td>\n",
       "      <td>E</td>\n",
       "    </tr>\n",
       "    <tr>\n",
       "      <th>3</th>\n",
       "      <td>Wii Sports Resort</td>\n",
       "      <td>Wii</td>\n",
       "      <td>2009.0</td>\n",
       "      <td>Sports</td>\n",
       "      <td>15.61</td>\n",
       "      <td>10.93</td>\n",
       "      <td>3.28</td>\n",
       "      <td>2.95</td>\n",
       "      <td>80.0</td>\n",
       "      <td>8</td>\n",
       "      <td>E</td>\n",
       "    </tr>\n",
       "    <tr>\n",
       "      <th>4</th>\n",
       "      <td>Pokemon Red/Pokemon Blue</td>\n",
       "      <td>GB</td>\n",
       "      <td>1996.0</td>\n",
       "      <td>Role-Playing</td>\n",
       "      <td>11.27</td>\n",
       "      <td>8.89</td>\n",
       "      <td>10.22</td>\n",
       "      <td>1.00</td>\n",
       "      <td>NaN</td>\n",
       "      <td>NaN</td>\n",
       "      <td>NaN</td>\n",
       "    </tr>\n",
       "  </tbody>\n",
       "</table>\n",
       "</div>"
      ],
      "text/plain": [
       "                       Name Platform  Year_of_Release         Genre  NA_sales  \\\n",
       "0                Wii Sports      Wii           2006.0        Sports     41.36   \n",
       "1         Super Mario Bros.      NES           1985.0      Platform     29.08   \n",
       "2            Mario Kart Wii      Wii           2008.0        Racing     15.68   \n",
       "3         Wii Sports Resort      Wii           2009.0        Sports     15.61   \n",
       "4  Pokemon Red/Pokemon Blue       GB           1996.0  Role-Playing     11.27   \n",
       "\n",
       "   EU_sales  JP_sales  Other_sales  Critic_Score User_Score Rating  \n",
       "0     28.96      3.77         8.45          76.0          8      E  \n",
       "1      3.58      6.81         0.77           NaN        NaN    NaN  \n",
       "2     12.76      3.79         3.29          82.0        8.3      E  \n",
       "3     10.93      3.28         2.95          80.0          8      E  \n",
       "4      8.89     10.22         1.00           NaN        NaN    NaN  "
      ]
     },
     "execution_count": 4,
     "metadata": {},
     "output_type": "execute_result"
    }
   ],
   "source": [
    "df.head()"
   ]
  },
  {
   "cell_type": "markdown",
   "metadata": {},
   "source": [
    "## Предообработка данных"
   ]
  },
  {
   "cell_type": "code",
   "execution_count": 5,
   "metadata": {},
   "outputs": [
    {
     "data": {
      "text/html": [
       "<div>\n",
       "<style scoped>\n",
       "    .dataframe tbody tr th:only-of-type {\n",
       "        vertical-align: middle;\n",
       "    }\n",
       "\n",
       "    .dataframe tbody tr th {\n",
       "        vertical-align: top;\n",
       "    }\n",
       "\n",
       "    .dataframe thead th {\n",
       "        text-align: right;\n",
       "    }\n",
       "</style>\n",
       "<table border=\"1\" class=\"dataframe\">\n",
       "  <thead>\n",
       "    <tr style=\"text-align: right;\">\n",
       "      <th></th>\n",
       "      <th>name</th>\n",
       "      <th>platform</th>\n",
       "      <th>year_of_release</th>\n",
       "      <th>genre</th>\n",
       "      <th>na_sales</th>\n",
       "      <th>eu_sales</th>\n",
       "      <th>jp_sales</th>\n",
       "      <th>other_sales</th>\n",
       "      <th>critic_score</th>\n",
       "      <th>user_score</th>\n",
       "      <th>rating</th>\n",
       "    </tr>\n",
       "  </thead>\n",
       "  <tbody>\n",
       "    <tr>\n",
       "      <th>0</th>\n",
       "      <td>Wii Sports</td>\n",
       "      <td>Wii</td>\n",
       "      <td>2006.0</td>\n",
       "      <td>Sports</td>\n",
       "      <td>41.36</td>\n",
       "      <td>28.96</td>\n",
       "      <td>3.77</td>\n",
       "      <td>8.45</td>\n",
       "      <td>76.0</td>\n",
       "      <td>8</td>\n",
       "      <td>E</td>\n",
       "    </tr>\n",
       "    <tr>\n",
       "      <th>1</th>\n",
       "      <td>Super Mario Bros.</td>\n",
       "      <td>NES</td>\n",
       "      <td>1985.0</td>\n",
       "      <td>Platform</td>\n",
       "      <td>29.08</td>\n",
       "      <td>3.58</td>\n",
       "      <td>6.81</td>\n",
       "      <td>0.77</td>\n",
       "      <td>NaN</td>\n",
       "      <td>NaN</td>\n",
       "      <td>NaN</td>\n",
       "    </tr>\n",
       "    <tr>\n",
       "      <th>2</th>\n",
       "      <td>Mario Kart Wii</td>\n",
       "      <td>Wii</td>\n",
       "      <td>2008.0</td>\n",
       "      <td>Racing</td>\n",
       "      <td>15.68</td>\n",
       "      <td>12.76</td>\n",
       "      <td>3.79</td>\n",
       "      <td>3.29</td>\n",
       "      <td>82.0</td>\n",
       "      <td>8.3</td>\n",
       "      <td>E</td>\n",
       "    </tr>\n",
       "    <tr>\n",
       "      <th>3</th>\n",
       "      <td>Wii Sports Resort</td>\n",
       "      <td>Wii</td>\n",
       "      <td>2009.0</td>\n",
       "      <td>Sports</td>\n",
       "      <td>15.61</td>\n",
       "      <td>10.93</td>\n",
       "      <td>3.28</td>\n",
       "      <td>2.95</td>\n",
       "      <td>80.0</td>\n",
       "      <td>8</td>\n",
       "      <td>E</td>\n",
       "    </tr>\n",
       "    <tr>\n",
       "      <th>4</th>\n",
       "      <td>Pokemon Red/Pokemon Blue</td>\n",
       "      <td>GB</td>\n",
       "      <td>1996.0</td>\n",
       "      <td>Role-Playing</td>\n",
       "      <td>11.27</td>\n",
       "      <td>8.89</td>\n",
       "      <td>10.22</td>\n",
       "      <td>1.00</td>\n",
       "      <td>NaN</td>\n",
       "      <td>NaN</td>\n",
       "      <td>NaN</td>\n",
       "    </tr>\n",
       "  </tbody>\n",
       "</table>\n",
       "</div>"
      ],
      "text/plain": [
       "                       name platform  year_of_release         genre  na_sales  \\\n",
       "0                Wii Sports      Wii           2006.0        Sports     41.36   \n",
       "1         Super Mario Bros.      NES           1985.0      Platform     29.08   \n",
       "2            Mario Kart Wii      Wii           2008.0        Racing     15.68   \n",
       "3         Wii Sports Resort      Wii           2009.0        Sports     15.61   \n",
       "4  Pokemon Red/Pokemon Blue       GB           1996.0  Role-Playing     11.27   \n",
       "\n",
       "   eu_sales  jp_sales  other_sales  critic_score user_score rating  \n",
       "0     28.96      3.77         8.45          76.0          8      E  \n",
       "1      3.58      6.81         0.77           NaN        NaN    NaN  \n",
       "2     12.76      3.79         3.29          82.0        8.3      E  \n",
       "3     10.93      3.28         2.95          80.0          8      E  \n",
       "4      8.89     10.22         1.00           NaN        NaN    NaN  "
      ]
     },
     "execution_count": 5,
     "metadata": {},
     "output_type": "execute_result"
    }
   ],
   "source": [
    "df.columns = df.columns.str.lower()\n",
    "# приведение название столбцов к нижнему регистру\n",
    "df.head()\n",
    "# первые пять сторок датасета"
   ]
  },
  {
   "cell_type": "code",
   "execution_count": 6,
   "metadata": {},
   "outputs": [
    {
     "data": {
      "text/plain": [
       "0"
      ]
     },
     "execution_count": 6,
     "metadata": {},
     "output_type": "execute_result"
    }
   ],
   "source": [
    "df.duplicated().sum()\n",
    "# поиск явных дубликатов"
   ]
  },
  {
   "cell_type": "markdown",
   "metadata": {},
   "source": [
    "###  Поиск пропусков"
   ]
  },
  {
   "cell_type": "code",
   "execution_count": 7,
   "metadata": {},
   "outputs": [
    {
     "data": {
      "text/plain": [
       "name                  2\n",
       "platform              0\n",
       "year_of_release     269\n",
       "genre                 2\n",
       "na_sales              0\n",
       "eu_sales              0\n",
       "jp_sales              0\n",
       "other_sales           0\n",
       "critic_score       8578\n",
       "user_score         6701\n",
       "rating             6766\n",
       "dtype: int64"
      ]
     },
     "execution_count": 7,
     "metadata": {},
     "output_type": "execute_result"
    }
   ],
   "source": [
    "df.isna().sum()\n",
    "# поиск пропусков"
   ]
  },
  {
   "cell_type": "markdown",
   "metadata": {},
   "source": [
    "**Выводы**\n",
    "\n",
    "Основные пропуски в оценках 50% от критиков и более в оценках поль зователей.Пропуски в рейтингах, скорее всего связаны с новыми играми, которые не успели получить тот или иной рейтинг.Пропуски в оценках не заполняем, т.к. это субъективное мнение и тут медиана или среднее никак не подойдет.Пропуски в оценках связаны, скорее всего, с непопулярностью игры или выходом новой игры."
   ]
  },
  {
   "cell_type": "markdown",
   "metadata": {},
   "source": [
    "### Проверка на дубликаты"
   ]
  },
  {
   "cell_type": "code",
   "execution_count": 8,
   "metadata": {},
   "outputs": [
    {
     "data": {
      "text/plain": [
       "array(['8', nan, '8.3', '8.5', '6.6', '8.4', '8.6', '7.7', '6.3', '7.4',\n",
       "       '8.2', '9', '7.9', '8.1', '8.7', '7.1', '3.4', '5.3', '4.8', '3.2',\n",
       "       '8.9', '6.4', '7.8', '7.5', '2.6', '7.2', '9.2', '7', '7.3', '4.3',\n",
       "       '7.6', '5.7', '5', '9.1', '6.5', 'tbd', '8.8', '6.9', '9.4', '6.8',\n",
       "       '6.1', '6.7', '5.4', '4', '4.9', '4.5', '9.3', '6.2', '4.2', '6',\n",
       "       '3.7', '4.1', '5.8', '5.6', '5.5', '4.4', '4.6', '5.9', '3.9',\n",
       "       '3.1', '2.9', '5.2', '3.3', '4.7', '5.1', '3.5', '2.5', '1.9', '3',\n",
       "       '2.7', '2.2', '2', '9.5', '2.1', '3.6', '2.8', '1.8', '3.8', '0',\n",
       "       '1.6', '9.6', '2.4', '1.7', '1.1', '0.3', '1.5', '0.7', '1.2',\n",
       "       '2.3', '0.5', '1.3', '0.2', '0.6', '1.4', '0.9', '1', '9.7'],\n",
       "      dtype=object)"
      ]
     },
     "execution_count": 8,
     "metadata": {},
     "output_type": "execute_result"
    }
   ],
   "source": [
    "df['user_score'].unique()\n",
    "# проверка на неявные дубликаты"
   ]
  },
  {
   "cell_type": "code",
   "execution_count": 9,
   "metadata": {},
   "outputs": [
    {
     "data": {
      "text/plain": [
       "array([76., nan, 82., 80., 89., 58., 87., 91., 61., 97., 95., 77., 88.,\n",
       "       83., 94., 93., 85., 86., 98., 96., 90., 84., 73., 74., 78., 92.,\n",
       "       71., 72., 68., 62., 49., 67., 81., 66., 56., 79., 70., 59., 64.,\n",
       "       75., 60., 63., 69., 50., 25., 42., 44., 55., 48., 57., 29., 47.,\n",
       "       65., 54., 20., 53., 37., 38., 33., 52., 30., 32., 43., 45., 51.,\n",
       "       40., 46., 39., 34., 35., 41., 36., 28., 31., 27., 26., 19., 23.,\n",
       "       24., 21., 17., 22., 13.])"
      ]
     },
     "execution_count": 9,
     "metadata": {},
     "output_type": "execute_result"
    }
   ],
   "source": [
    "df['critic_score'].unique()"
   ]
  },
  {
   "cell_type": "code",
   "execution_count": 10,
   "metadata": {},
   "outputs": [
    {
     "data": {
      "text/plain": [
       "array(['Wii Sports', 'Super Mario Bros.', 'Mario Kart Wii', ...,\n",
       "       'Woody Woodpecker in Crazy Castle 5', 'LMA Manager 2007',\n",
       "       'Haitaka no Psychedelica'], dtype=object)"
      ]
     },
     "execution_count": 10,
     "metadata": {},
     "output_type": "execute_result"
    }
   ],
   "source": [
    "df['name'].unique()"
   ]
  },
  {
   "cell_type": "code",
   "execution_count": 11,
   "metadata": {},
   "outputs": [
    {
     "data": {
      "text/plain": [
       "array(['E', nan, 'M', 'T', 'E10+', 'K-A', 'AO', 'EC', 'RP'], dtype=object)"
      ]
     },
     "execution_count": 11,
     "metadata": {},
     "output_type": "execute_result"
    }
   ],
   "source": [
    "df['rating'].unique()"
   ]
  },
  {
   "cell_type": "code",
   "execution_count": 12,
   "metadata": {},
   "outputs": [
    {
     "data": {
      "text/html": [
       "<div>\n",
       "<style scoped>\n",
       "    .dataframe tbody tr th:only-of-type {\n",
       "        vertical-align: middle;\n",
       "    }\n",
       "\n",
       "    .dataframe tbody tr th {\n",
       "        vertical-align: top;\n",
       "    }\n",
       "\n",
       "    .dataframe thead th {\n",
       "        text-align: right;\n",
       "    }\n",
       "</style>\n",
       "<table border=\"1\" class=\"dataframe\">\n",
       "  <thead>\n",
       "    <tr style=\"text-align: right;\">\n",
       "      <th></th>\n",
       "      <th>name</th>\n",
       "      <th>platform</th>\n",
       "      <th>year_of_release</th>\n",
       "      <th>genre</th>\n",
       "      <th>na_sales</th>\n",
       "      <th>eu_sales</th>\n",
       "      <th>jp_sales</th>\n",
       "      <th>other_sales</th>\n",
       "      <th>critic_score</th>\n",
       "      <th>user_score</th>\n",
       "      <th>rating</th>\n",
       "    </tr>\n",
       "  </thead>\n",
       "  <tbody>\n",
       "    <tr>\n",
       "      <th>119</th>\n",
       "      <td>Zumba Fitness</td>\n",
       "      <td>Wii</td>\n",
       "      <td>2010.0</td>\n",
       "      <td>Sports</td>\n",
       "      <td>3.45</td>\n",
       "      <td>2.59</td>\n",
       "      <td>0.0</td>\n",
       "      <td>0.66</td>\n",
       "      <td>NaN</td>\n",
       "      <td>tbd</td>\n",
       "      <td>E</td>\n",
       "    </tr>\n",
       "    <tr>\n",
       "      <th>301</th>\n",
       "      <td>Namco Museum: 50th Anniversary</td>\n",
       "      <td>PS2</td>\n",
       "      <td>2005.0</td>\n",
       "      <td>Misc</td>\n",
       "      <td>2.08</td>\n",
       "      <td>1.35</td>\n",
       "      <td>0.0</td>\n",
       "      <td>0.54</td>\n",
       "      <td>61.0</td>\n",
       "      <td>tbd</td>\n",
       "      <td>E10+</td>\n",
       "    </tr>\n",
       "    <tr>\n",
       "      <th>520</th>\n",
       "      <td>Zumba Fitness 2</td>\n",
       "      <td>Wii</td>\n",
       "      <td>2011.0</td>\n",
       "      <td>Sports</td>\n",
       "      <td>1.51</td>\n",
       "      <td>1.03</td>\n",
       "      <td>0.0</td>\n",
       "      <td>0.27</td>\n",
       "      <td>NaN</td>\n",
       "      <td>tbd</td>\n",
       "      <td>T</td>\n",
       "    </tr>\n",
       "    <tr>\n",
       "      <th>645</th>\n",
       "      <td>uDraw Studio</td>\n",
       "      <td>Wii</td>\n",
       "      <td>2010.0</td>\n",
       "      <td>Misc</td>\n",
       "      <td>1.65</td>\n",
       "      <td>0.57</td>\n",
       "      <td>0.0</td>\n",
       "      <td>0.20</td>\n",
       "      <td>71.0</td>\n",
       "      <td>tbd</td>\n",
       "      <td>E</td>\n",
       "    </tr>\n",
       "    <tr>\n",
       "      <th>657</th>\n",
       "      <td>Frogger's Adventures: Temple of the Frog</td>\n",
       "      <td>GBA</td>\n",
       "      <td>NaN</td>\n",
       "      <td>Adventure</td>\n",
       "      <td>2.15</td>\n",
       "      <td>0.18</td>\n",
       "      <td>0.0</td>\n",
       "      <td>0.07</td>\n",
       "      <td>73.0</td>\n",
       "      <td>tbd</td>\n",
       "      <td>E</td>\n",
       "    </tr>\n",
       "    <tr>\n",
       "      <th>...</th>\n",
       "      <td>...</td>\n",
       "      <td>...</td>\n",
       "      <td>...</td>\n",
       "      <td>...</td>\n",
       "      <td>...</td>\n",
       "      <td>...</td>\n",
       "      <td>...</td>\n",
       "      <td>...</td>\n",
       "      <td>...</td>\n",
       "      <td>...</td>\n",
       "      <td>...</td>\n",
       "    </tr>\n",
       "    <tr>\n",
       "      <th>16695</th>\n",
       "      <td>Planet Monsters</td>\n",
       "      <td>GBA</td>\n",
       "      <td>2001.0</td>\n",
       "      <td>Action</td>\n",
       "      <td>0.01</td>\n",
       "      <td>0.00</td>\n",
       "      <td>0.0</td>\n",
       "      <td>0.00</td>\n",
       "      <td>67.0</td>\n",
       "      <td>tbd</td>\n",
       "      <td>E</td>\n",
       "    </tr>\n",
       "    <tr>\n",
       "      <th>16697</th>\n",
       "      <td>Bust-A-Move 3000</td>\n",
       "      <td>GC</td>\n",
       "      <td>2003.0</td>\n",
       "      <td>Puzzle</td>\n",
       "      <td>0.01</td>\n",
       "      <td>0.00</td>\n",
       "      <td>0.0</td>\n",
       "      <td>0.00</td>\n",
       "      <td>53.0</td>\n",
       "      <td>tbd</td>\n",
       "      <td>E</td>\n",
       "    </tr>\n",
       "    <tr>\n",
       "      <th>16698</th>\n",
       "      <td>Mega Brain Boost</td>\n",
       "      <td>DS</td>\n",
       "      <td>2008.0</td>\n",
       "      <td>Puzzle</td>\n",
       "      <td>0.01</td>\n",
       "      <td>0.00</td>\n",
       "      <td>0.0</td>\n",
       "      <td>0.00</td>\n",
       "      <td>48.0</td>\n",
       "      <td>tbd</td>\n",
       "      <td>E</td>\n",
       "    </tr>\n",
       "    <tr>\n",
       "      <th>16704</th>\n",
       "      <td>Plushees</td>\n",
       "      <td>DS</td>\n",
       "      <td>2008.0</td>\n",
       "      <td>Simulation</td>\n",
       "      <td>0.01</td>\n",
       "      <td>0.00</td>\n",
       "      <td>0.0</td>\n",
       "      <td>0.00</td>\n",
       "      <td>NaN</td>\n",
       "      <td>tbd</td>\n",
       "      <td>E</td>\n",
       "    </tr>\n",
       "    <tr>\n",
       "      <th>16706</th>\n",
       "      <td>Men in Black II: Alien Escape</td>\n",
       "      <td>GC</td>\n",
       "      <td>2003.0</td>\n",
       "      <td>Shooter</td>\n",
       "      <td>0.01</td>\n",
       "      <td>0.00</td>\n",
       "      <td>0.0</td>\n",
       "      <td>0.00</td>\n",
       "      <td>NaN</td>\n",
       "      <td>tbd</td>\n",
       "      <td>T</td>\n",
       "    </tr>\n",
       "  </tbody>\n",
       "</table>\n",
       "<p>2424 rows × 11 columns</p>\n",
       "</div>"
      ],
      "text/plain": [
       "                                           name platform  year_of_release  \\\n",
       "119                               Zumba Fitness      Wii           2010.0   \n",
       "301              Namco Museum: 50th Anniversary      PS2           2005.0   \n",
       "520                             Zumba Fitness 2      Wii           2011.0   \n",
       "645                                uDraw Studio      Wii           2010.0   \n",
       "657    Frogger's Adventures: Temple of the Frog      GBA              NaN   \n",
       "...                                         ...      ...              ...   \n",
       "16695                           Planet Monsters      GBA           2001.0   \n",
       "16697                          Bust-A-Move 3000       GC           2003.0   \n",
       "16698                          Mega Brain Boost       DS           2008.0   \n",
       "16704                                  Plushees       DS           2008.0   \n",
       "16706             Men in Black II: Alien Escape       GC           2003.0   \n",
       "\n",
       "            genre  na_sales  eu_sales  jp_sales  other_sales  critic_score  \\\n",
       "119        Sports      3.45      2.59       0.0         0.66           NaN   \n",
       "301          Misc      2.08      1.35       0.0         0.54          61.0   \n",
       "520        Sports      1.51      1.03       0.0         0.27           NaN   \n",
       "645          Misc      1.65      0.57       0.0         0.20          71.0   \n",
       "657     Adventure      2.15      0.18       0.0         0.07          73.0   \n",
       "...           ...       ...       ...       ...          ...           ...   \n",
       "16695      Action      0.01      0.00       0.0         0.00          67.0   \n",
       "16697      Puzzle      0.01      0.00       0.0         0.00          53.0   \n",
       "16698      Puzzle      0.01      0.00       0.0         0.00          48.0   \n",
       "16704  Simulation      0.01      0.00       0.0         0.00           NaN   \n",
       "16706     Shooter      0.01      0.00       0.0         0.00           NaN   \n",
       "\n",
       "      user_score rating  \n",
       "119          tbd      E  \n",
       "301          tbd   E10+  \n",
       "520          tbd      T  \n",
       "645          tbd      E  \n",
       "657          tbd      E  \n",
       "...          ...    ...  \n",
       "16695        tbd      E  \n",
       "16697        tbd      E  \n",
       "16698        tbd      E  \n",
       "16704        tbd      E  \n",
       "16706        tbd      T  \n",
       "\n",
       "[2424 rows x 11 columns]"
      ]
     },
     "execution_count": 12,
     "metadata": {},
     "output_type": "execute_result"
    }
   ],
   "source": [
    "df[df['user_score'] == 'tbd']\n",
    "# срез данных"
   ]
  },
  {
   "cell_type": "markdown",
   "metadata": {},
   "source": [
    "### Изменение данных"
   ]
  },
  {
   "cell_type": "code",
   "execution_count": 13,
   "metadata": {},
   "outputs": [],
   "source": [
    " df = df.dropna(subset = ['genre'])\n",
    "# удаление ненужных строк"
   ]
  },
  {
   "cell_type": "code",
   "execution_count": 14,
   "metadata": {},
   "outputs": [],
   "source": [
    "df['rating'] = df['rating'].fillna('RP')\n",
    "# добавление значений\n",
    "# по классификации ESRB это raiting pending - ожидается присвоение рейтинга"
   ]
  },
  {
   "cell_type": "code",
   "execution_count": 15,
   "metadata": {},
   "outputs": [],
   "source": [
    "df['user_score'] = df['user_score'].replace('tbd', np.NaN)\n",
    "# замена значений на NaN"
   ]
  },
  {
   "cell_type": "markdown",
   "metadata": {},
   "source": [
    "в переводе to be determined(tbd) - пока не определён, поэтому меняем на пустое значение"
   ]
  },
  {
   "cell_type": "code",
   "execution_count": 16,
   "metadata": {},
   "outputs": [],
   "source": [
    "df['user_score'] = df['user_score'].astype('float64')\n",
    "# изменение типов данных"
   ]
  },
  {
   "cell_type": "code",
   "execution_count": 17,
   "metadata": {},
   "outputs": [
    {
     "data": {
      "text/plain": [
       "name                  0\n",
       "platform              0\n",
       "year_of_release     269\n",
       "genre                 0\n",
       "na_sales              0\n",
       "eu_sales              0\n",
       "jp_sales              0\n",
       "other_sales           0\n",
       "critic_score       8576\n",
       "user_score         9123\n",
       "rating                0\n",
       "dtype: int64"
      ]
     },
     "execution_count": 17,
     "metadata": {},
     "output_type": "execute_result"
    }
   ],
   "source": [
    "df.isna().sum()\n",
    "# проверка на пропуски"
   ]
  },
  {
   "cell_type": "code",
   "execution_count": 18,
   "metadata": {},
   "outputs": [
    {
     "name": "stdout",
     "output_type": "stream",
     "text": [
      "<class 'pandas.core.frame.DataFrame'>\n",
      "Int64Index: 16713 entries, 0 to 16714\n",
      "Data columns (total 11 columns):\n",
      " #   Column           Non-Null Count  Dtype  \n",
      "---  ------           --------------  -----  \n",
      " 0   name             16713 non-null  object \n",
      " 1   platform         16713 non-null  object \n",
      " 2   year_of_release  16444 non-null  float64\n",
      " 3   genre            16713 non-null  object \n",
      " 4   na_sales         16713 non-null  float64\n",
      " 5   eu_sales         16713 non-null  float64\n",
      " 6   jp_sales         16713 non-null  float64\n",
      " 7   other_sales      16713 non-null  float64\n",
      " 8   critic_score     8137 non-null   float64\n",
      " 9   user_score       7590 non-null   float64\n",
      " 10  rating           16713 non-null  object \n",
      "dtypes: float64(7), object(4)\n",
      "memory usage: 1.5+ MB\n"
     ]
    }
   ],
   "source": [
    "df.info()"
   ]
  },
  {
   "cell_type": "code",
   "execution_count": 19,
   "metadata": {},
   "outputs": [],
   "source": [
    "df['total_sales'] = df[['na_sales','eu_sales','jp_sales', 'other_sales']].sum(axis = 1)\n",
    "# подсчет продаж во всех регионах"
   ]
  },
  {
   "cell_type": "code",
   "execution_count": 20,
   "metadata": {},
   "outputs": [
    {
     "data": {
      "text/html": [
       "<div>\n",
       "<style scoped>\n",
       "    .dataframe tbody tr th:only-of-type {\n",
       "        vertical-align: middle;\n",
       "    }\n",
       "\n",
       "    .dataframe tbody tr th {\n",
       "        vertical-align: top;\n",
       "    }\n",
       "\n",
       "    .dataframe thead th {\n",
       "        text-align: right;\n",
       "    }\n",
       "</style>\n",
       "<table border=\"1\" class=\"dataframe\">\n",
       "  <thead>\n",
       "    <tr style=\"text-align: right;\">\n",
       "      <th></th>\n",
       "      <th>name</th>\n",
       "      <th>platform</th>\n",
       "      <th>year_of_release</th>\n",
       "      <th>genre</th>\n",
       "      <th>na_sales</th>\n",
       "      <th>eu_sales</th>\n",
       "      <th>jp_sales</th>\n",
       "      <th>other_sales</th>\n",
       "      <th>critic_score</th>\n",
       "      <th>user_score</th>\n",
       "      <th>rating</th>\n",
       "      <th>total_sales</th>\n",
       "    </tr>\n",
       "  </thead>\n",
       "  <tbody>\n",
       "    <tr>\n",
       "      <th>0</th>\n",
       "      <td>Wii Sports</td>\n",
       "      <td>Wii</td>\n",
       "      <td>2006.0</td>\n",
       "      <td>Sports</td>\n",
       "      <td>41.36</td>\n",
       "      <td>28.96</td>\n",
       "      <td>3.77</td>\n",
       "      <td>8.45</td>\n",
       "      <td>76.0</td>\n",
       "      <td>8.0</td>\n",
       "      <td>E</td>\n",
       "      <td>82.54</td>\n",
       "    </tr>\n",
       "    <tr>\n",
       "      <th>1</th>\n",
       "      <td>Super Mario Bros.</td>\n",
       "      <td>NES</td>\n",
       "      <td>1985.0</td>\n",
       "      <td>Platform</td>\n",
       "      <td>29.08</td>\n",
       "      <td>3.58</td>\n",
       "      <td>6.81</td>\n",
       "      <td>0.77</td>\n",
       "      <td>NaN</td>\n",
       "      <td>NaN</td>\n",
       "      <td>RP</td>\n",
       "      <td>40.24</td>\n",
       "    </tr>\n",
       "    <tr>\n",
       "      <th>2</th>\n",
       "      <td>Mario Kart Wii</td>\n",
       "      <td>Wii</td>\n",
       "      <td>2008.0</td>\n",
       "      <td>Racing</td>\n",
       "      <td>15.68</td>\n",
       "      <td>12.76</td>\n",
       "      <td>3.79</td>\n",
       "      <td>3.29</td>\n",
       "      <td>82.0</td>\n",
       "      <td>8.3</td>\n",
       "      <td>E</td>\n",
       "      <td>35.52</td>\n",
       "    </tr>\n",
       "    <tr>\n",
       "      <th>3</th>\n",
       "      <td>Wii Sports Resort</td>\n",
       "      <td>Wii</td>\n",
       "      <td>2009.0</td>\n",
       "      <td>Sports</td>\n",
       "      <td>15.61</td>\n",
       "      <td>10.93</td>\n",
       "      <td>3.28</td>\n",
       "      <td>2.95</td>\n",
       "      <td>80.0</td>\n",
       "      <td>8.0</td>\n",
       "      <td>E</td>\n",
       "      <td>32.77</td>\n",
       "    </tr>\n",
       "    <tr>\n",
       "      <th>4</th>\n",
       "      <td>Pokemon Red/Pokemon Blue</td>\n",
       "      <td>GB</td>\n",
       "      <td>1996.0</td>\n",
       "      <td>Role-Playing</td>\n",
       "      <td>11.27</td>\n",
       "      <td>8.89</td>\n",
       "      <td>10.22</td>\n",
       "      <td>1.00</td>\n",
       "      <td>NaN</td>\n",
       "      <td>NaN</td>\n",
       "      <td>RP</td>\n",
       "      <td>31.38</td>\n",
       "    </tr>\n",
       "  </tbody>\n",
       "</table>\n",
       "</div>"
      ],
      "text/plain": [
       "                       name platform  year_of_release         genre  na_sales  \\\n",
       "0                Wii Sports      Wii           2006.0        Sports     41.36   \n",
       "1         Super Mario Bros.      NES           1985.0      Platform     29.08   \n",
       "2            Mario Kart Wii      Wii           2008.0        Racing     15.68   \n",
       "3         Wii Sports Resort      Wii           2009.0        Sports     15.61   \n",
       "4  Pokemon Red/Pokemon Blue       GB           1996.0  Role-Playing     11.27   \n",
       "\n",
       "   eu_sales  jp_sales  other_sales  critic_score  user_score rating  \\\n",
       "0     28.96      3.77         8.45          76.0         8.0      E   \n",
       "1      3.58      6.81         0.77           NaN         NaN     RP   \n",
       "2     12.76      3.79         3.29          82.0         8.3      E   \n",
       "3     10.93      3.28         2.95          80.0         8.0      E   \n",
       "4      8.89     10.22         1.00           NaN         NaN     RP   \n",
       "\n",
       "   total_sales  \n",
       "0        82.54  \n",
       "1        40.24  \n",
       "2        35.52  \n",
       "3        32.77  \n",
       "4        31.38  "
      ]
     },
     "execution_count": 20,
     "metadata": {},
     "output_type": "execute_result"
    }
   ],
   "source": [
    "df.head()"
   ]
  },
  {
   "cell_type": "markdown",
   "metadata": {},
   "source": [
    "Пропуски в рейтинге поменяли  на RP -  ожидание присвоения рейтинга, изменение типов данных для дальнейшей работы с оценками пользователей."
   ]
  },
  {
   "cell_type": "markdown",
   "metadata": {},
   "source": [
    "## Исследовательский анализ данных"
   ]
  },
  {
   "cell_type": "code",
   "execution_count": 21,
   "metadata": {},
   "outputs": [
    {
     "data": {
      "text/plain": [
       "year_of_release    73926.0\n",
       "genre              16444.0\n",
       "dtype: float64"
      ]
     },
     "metadata": {},
     "output_type": "display_data"
    },
    {
     "data": {
      "text/html": [
       "<div>\n",
       "<style scoped>\n",
       "    .dataframe tbody tr th:only-of-type {\n",
       "        vertical-align: middle;\n",
       "    }\n",
       "\n",
       "    .dataframe tbody tr th {\n",
       "        vertical-align: top;\n",
       "    }\n",
       "\n",
       "    .dataframe thead th {\n",
       "        text-align: right;\n",
       "    }\n",
       "</style>\n",
       "<table border=\"1\" class=\"dataframe\">\n",
       "  <thead>\n",
       "    <tr style=\"text-align: right;\">\n",
       "      <th></th>\n",
       "      <th>year_of_release</th>\n",
       "      <th>genre</th>\n",
       "    </tr>\n",
       "  </thead>\n",
       "  <tbody>\n",
       "    <tr>\n",
       "      <th>0</th>\n",
       "      <td>2008.0</td>\n",
       "      <td>1427</td>\n",
       "    </tr>\n",
       "    <tr>\n",
       "      <th>1</th>\n",
       "      <td>2009.0</td>\n",
       "      <td>1426</td>\n",
       "    </tr>\n",
       "    <tr>\n",
       "      <th>2</th>\n",
       "      <td>2010.0</td>\n",
       "      <td>1255</td>\n",
       "    </tr>\n",
       "    <tr>\n",
       "      <th>3</th>\n",
       "      <td>2007.0</td>\n",
       "      <td>1197</td>\n",
       "    </tr>\n",
       "    <tr>\n",
       "      <th>4</th>\n",
       "      <td>2011.0</td>\n",
       "      <td>1136</td>\n",
       "    </tr>\n",
       "    <tr>\n",
       "      <th>5</th>\n",
       "      <td>2006.0</td>\n",
       "      <td>1006</td>\n",
       "    </tr>\n",
       "    <tr>\n",
       "      <th>6</th>\n",
       "      <td>2005.0</td>\n",
       "      <td>939</td>\n",
       "    </tr>\n",
       "    <tr>\n",
       "      <th>7</th>\n",
       "      <td>2002.0</td>\n",
       "      <td>829</td>\n",
       "    </tr>\n",
       "    <tr>\n",
       "      <th>8</th>\n",
       "      <td>2003.0</td>\n",
       "      <td>775</td>\n",
       "    </tr>\n",
       "    <tr>\n",
       "      <th>9</th>\n",
       "      <td>2004.0</td>\n",
       "      <td>762</td>\n",
       "    </tr>\n",
       "    <tr>\n",
       "      <th>10</th>\n",
       "      <td>2012.0</td>\n",
       "      <td>653</td>\n",
       "    </tr>\n",
       "    <tr>\n",
       "      <th>11</th>\n",
       "      <td>2015.0</td>\n",
       "      <td>606</td>\n",
       "    </tr>\n",
       "    <tr>\n",
       "      <th>12</th>\n",
       "      <td>2014.0</td>\n",
       "      <td>581</td>\n",
       "    </tr>\n",
       "    <tr>\n",
       "      <th>13</th>\n",
       "      <td>2013.0</td>\n",
       "      <td>544</td>\n",
       "    </tr>\n",
       "    <tr>\n",
       "      <th>14</th>\n",
       "      <td>2016.0</td>\n",
       "      <td>502</td>\n",
       "    </tr>\n",
       "    <tr>\n",
       "      <th>15</th>\n",
       "      <td>2001.0</td>\n",
       "      <td>482</td>\n",
       "    </tr>\n",
       "    <tr>\n",
       "      <th>16</th>\n",
       "      <td>1998.0</td>\n",
       "      <td>379</td>\n",
       "    </tr>\n",
       "    <tr>\n",
       "      <th>17</th>\n",
       "      <td>2000.0</td>\n",
       "      <td>350</td>\n",
       "    </tr>\n",
       "    <tr>\n",
       "      <th>18</th>\n",
       "      <td>1999.0</td>\n",
       "      <td>338</td>\n",
       "    </tr>\n",
       "    <tr>\n",
       "      <th>19</th>\n",
       "      <td>1997.0</td>\n",
       "      <td>289</td>\n",
       "    </tr>\n",
       "    <tr>\n",
       "      <th>20</th>\n",
       "      <td>1996.0</td>\n",
       "      <td>263</td>\n",
       "    </tr>\n",
       "    <tr>\n",
       "      <th>21</th>\n",
       "      <td>1995.0</td>\n",
       "      <td>219</td>\n",
       "    </tr>\n",
       "    <tr>\n",
       "      <th>22</th>\n",
       "      <td>1994.0</td>\n",
       "      <td>121</td>\n",
       "    </tr>\n",
       "    <tr>\n",
       "      <th>23</th>\n",
       "      <td>1993.0</td>\n",
       "      <td>60</td>\n",
       "    </tr>\n",
       "    <tr>\n",
       "      <th>24</th>\n",
       "      <td>1981.0</td>\n",
       "      <td>46</td>\n",
       "    </tr>\n",
       "    <tr>\n",
       "      <th>25</th>\n",
       "      <td>1992.0</td>\n",
       "      <td>43</td>\n",
       "    </tr>\n",
       "    <tr>\n",
       "      <th>26</th>\n",
       "      <td>1991.0</td>\n",
       "      <td>41</td>\n",
       "    </tr>\n",
       "    <tr>\n",
       "      <th>27</th>\n",
       "      <td>1982.0</td>\n",
       "      <td>36</td>\n",
       "    </tr>\n",
       "    <tr>\n",
       "      <th>28</th>\n",
       "      <td>1986.0</td>\n",
       "      <td>21</td>\n",
       "    </tr>\n",
       "    <tr>\n",
       "      <th>29</th>\n",
       "      <td>1989.0</td>\n",
       "      <td>17</td>\n",
       "    </tr>\n",
       "    <tr>\n",
       "      <th>30</th>\n",
       "      <td>1983.0</td>\n",
       "      <td>17</td>\n",
       "    </tr>\n",
       "    <tr>\n",
       "      <th>31</th>\n",
       "      <td>1990.0</td>\n",
       "      <td>16</td>\n",
       "    </tr>\n",
       "    <tr>\n",
       "      <th>32</th>\n",
       "      <td>1987.0</td>\n",
       "      <td>16</td>\n",
       "    </tr>\n",
       "    <tr>\n",
       "      <th>33</th>\n",
       "      <td>1988.0</td>\n",
       "      <td>15</td>\n",
       "    </tr>\n",
       "    <tr>\n",
       "      <th>34</th>\n",
       "      <td>1985.0</td>\n",
       "      <td>14</td>\n",
       "    </tr>\n",
       "    <tr>\n",
       "      <th>35</th>\n",
       "      <td>1984.0</td>\n",
       "      <td>14</td>\n",
       "    </tr>\n",
       "    <tr>\n",
       "      <th>36</th>\n",
       "      <td>1980.0</td>\n",
       "      <td>9</td>\n",
       "    </tr>\n",
       "  </tbody>\n",
       "</table>\n",
       "</div>"
      ],
      "text/plain": [
       "    year_of_release  genre\n",
       "0            2008.0   1427\n",
       "1            2009.0   1426\n",
       "2            2010.0   1255\n",
       "3            2007.0   1197\n",
       "4            2011.0   1136\n",
       "5            2006.0   1006\n",
       "6            2005.0    939\n",
       "7            2002.0    829\n",
       "8            2003.0    775\n",
       "9            2004.0    762\n",
       "10           2012.0    653\n",
       "11           2015.0    606\n",
       "12           2014.0    581\n",
       "13           2013.0    544\n",
       "14           2016.0    502\n",
       "15           2001.0    482\n",
       "16           1998.0    379\n",
       "17           2000.0    350\n",
       "18           1999.0    338\n",
       "19           1997.0    289\n",
       "20           1996.0    263\n",
       "21           1995.0    219\n",
       "22           1994.0    121\n",
       "23           1993.0     60\n",
       "24           1981.0     46\n",
       "25           1992.0     43\n",
       "26           1991.0     41\n",
       "27           1982.0     36\n",
       "28           1986.0     21\n",
       "29           1989.0     17\n",
       "30           1983.0     17\n",
       "31           1990.0     16\n",
       "32           1987.0     16\n",
       "33           1988.0     15\n",
       "34           1985.0     14\n",
       "35           1984.0     14\n",
       "36           1980.0      9"
      ]
     },
     "metadata": {},
     "output_type": "display_data"
    }
   ],
   "source": [
    "df_years = df.groupby('year_of_release')['genre'].count().sort_values(ascending=False).reset_index()\n",
    "display(df_years.sum(), df_years)\n",
    "# количество выпущенных игр по годам"
   ]
  },
  {
   "cell_type": "code",
   "execution_count": 22,
   "metadata": {
    "scrolled": true
   },
   "outputs": [
    {
     "data": {
      "text/html": [
       "<div>\n",
       "<style scoped>\n",
       "    .dataframe tbody tr th:only-of-type {\n",
       "        vertical-align: middle;\n",
       "    }\n",
       "\n",
       "    .dataframe tbody tr th {\n",
       "        vertical-align: top;\n",
       "    }\n",
       "\n",
       "    .dataframe thead th {\n",
       "        text-align: right;\n",
       "    }\n",
       "</style>\n",
       "<table border=\"1\" class=\"dataframe\">\n",
       "  <thead>\n",
       "    <tr style=\"text-align: right;\">\n",
       "      <th></th>\n",
       "      <th>year_of_release</th>\n",
       "      <th>genre</th>\n",
       "    </tr>\n",
       "  </thead>\n",
       "  <tbody>\n",
       "    <tr>\n",
       "      <th>14</th>\n",
       "      <td>2016.0</td>\n",
       "      <td>502</td>\n",
       "    </tr>\n",
       "    <tr>\n",
       "      <th>11</th>\n",
       "      <td>2015.0</td>\n",
       "      <td>606</td>\n",
       "    </tr>\n",
       "    <tr>\n",
       "      <th>12</th>\n",
       "      <td>2014.0</td>\n",
       "      <td>581</td>\n",
       "    </tr>\n",
       "    <tr>\n",
       "      <th>13</th>\n",
       "      <td>2013.0</td>\n",
       "      <td>544</td>\n",
       "    </tr>\n",
       "    <tr>\n",
       "      <th>10</th>\n",
       "      <td>2012.0</td>\n",
       "      <td>653</td>\n",
       "    </tr>\n",
       "    <tr>\n",
       "      <th>4</th>\n",
       "      <td>2011.0</td>\n",
       "      <td>1136</td>\n",
       "    </tr>\n",
       "    <tr>\n",
       "      <th>2</th>\n",
       "      <td>2010.0</td>\n",
       "      <td>1255</td>\n",
       "    </tr>\n",
       "    <tr>\n",
       "      <th>1</th>\n",
       "      <td>2009.0</td>\n",
       "      <td>1426</td>\n",
       "    </tr>\n",
       "    <tr>\n",
       "      <th>0</th>\n",
       "      <td>2008.0</td>\n",
       "      <td>1427</td>\n",
       "    </tr>\n",
       "    <tr>\n",
       "      <th>3</th>\n",
       "      <td>2007.0</td>\n",
       "      <td>1197</td>\n",
       "    </tr>\n",
       "    <tr>\n",
       "      <th>5</th>\n",
       "      <td>2006.0</td>\n",
       "      <td>1006</td>\n",
       "    </tr>\n",
       "    <tr>\n",
       "      <th>6</th>\n",
       "      <td>2005.0</td>\n",
       "      <td>939</td>\n",
       "    </tr>\n",
       "    <tr>\n",
       "      <th>9</th>\n",
       "      <td>2004.0</td>\n",
       "      <td>762</td>\n",
       "    </tr>\n",
       "    <tr>\n",
       "      <th>8</th>\n",
       "      <td>2003.0</td>\n",
       "      <td>775</td>\n",
       "    </tr>\n",
       "    <tr>\n",
       "      <th>7</th>\n",
       "      <td>2002.0</td>\n",
       "      <td>829</td>\n",
       "    </tr>\n",
       "    <tr>\n",
       "      <th>15</th>\n",
       "      <td>2001.0</td>\n",
       "      <td>482</td>\n",
       "    </tr>\n",
       "    <tr>\n",
       "      <th>17</th>\n",
       "      <td>2000.0</td>\n",
       "      <td>350</td>\n",
       "    </tr>\n",
       "    <tr>\n",
       "      <th>18</th>\n",
       "      <td>1999.0</td>\n",
       "      <td>338</td>\n",
       "    </tr>\n",
       "    <tr>\n",
       "      <th>16</th>\n",
       "      <td>1998.0</td>\n",
       "      <td>379</td>\n",
       "    </tr>\n",
       "    <tr>\n",
       "      <th>19</th>\n",
       "      <td>1997.0</td>\n",
       "      <td>289</td>\n",
       "    </tr>\n",
       "    <tr>\n",
       "      <th>20</th>\n",
       "      <td>1996.0</td>\n",
       "      <td>263</td>\n",
       "    </tr>\n",
       "    <tr>\n",
       "      <th>21</th>\n",
       "      <td>1995.0</td>\n",
       "      <td>219</td>\n",
       "    </tr>\n",
       "    <tr>\n",
       "      <th>22</th>\n",
       "      <td>1994.0</td>\n",
       "      <td>121</td>\n",
       "    </tr>\n",
       "    <tr>\n",
       "      <th>23</th>\n",
       "      <td>1993.0</td>\n",
       "      <td>60</td>\n",
       "    </tr>\n",
       "    <tr>\n",
       "      <th>25</th>\n",
       "      <td>1992.0</td>\n",
       "      <td>43</td>\n",
       "    </tr>\n",
       "    <tr>\n",
       "      <th>26</th>\n",
       "      <td>1991.0</td>\n",
       "      <td>41</td>\n",
       "    </tr>\n",
       "    <tr>\n",
       "      <th>31</th>\n",
       "      <td>1990.0</td>\n",
       "      <td>16</td>\n",
       "    </tr>\n",
       "    <tr>\n",
       "      <th>29</th>\n",
       "      <td>1989.0</td>\n",
       "      <td>17</td>\n",
       "    </tr>\n",
       "    <tr>\n",
       "      <th>33</th>\n",
       "      <td>1988.0</td>\n",
       "      <td>15</td>\n",
       "    </tr>\n",
       "    <tr>\n",
       "      <th>32</th>\n",
       "      <td>1987.0</td>\n",
       "      <td>16</td>\n",
       "    </tr>\n",
       "    <tr>\n",
       "      <th>28</th>\n",
       "      <td>1986.0</td>\n",
       "      <td>21</td>\n",
       "    </tr>\n",
       "    <tr>\n",
       "      <th>34</th>\n",
       "      <td>1985.0</td>\n",
       "      <td>14</td>\n",
       "    </tr>\n",
       "    <tr>\n",
       "      <th>35</th>\n",
       "      <td>1984.0</td>\n",
       "      <td>14</td>\n",
       "    </tr>\n",
       "    <tr>\n",
       "      <th>30</th>\n",
       "      <td>1983.0</td>\n",
       "      <td>17</td>\n",
       "    </tr>\n",
       "    <tr>\n",
       "      <th>27</th>\n",
       "      <td>1982.0</td>\n",
       "      <td>36</td>\n",
       "    </tr>\n",
       "    <tr>\n",
       "      <th>24</th>\n",
       "      <td>1981.0</td>\n",
       "      <td>46</td>\n",
       "    </tr>\n",
       "    <tr>\n",
       "      <th>36</th>\n",
       "      <td>1980.0</td>\n",
       "      <td>9</td>\n",
       "    </tr>\n",
       "  </tbody>\n",
       "</table>\n",
       "</div>"
      ],
      "text/plain": [
       "    year_of_release  genre\n",
       "14           2016.0    502\n",
       "11           2015.0    606\n",
       "12           2014.0    581\n",
       "13           2013.0    544\n",
       "10           2012.0    653\n",
       "4            2011.0   1136\n",
       "2            2010.0   1255\n",
       "1            2009.0   1426\n",
       "0            2008.0   1427\n",
       "3            2007.0   1197\n",
       "5            2006.0   1006\n",
       "6            2005.0    939\n",
       "9            2004.0    762\n",
       "8            2003.0    775\n",
       "7            2002.0    829\n",
       "15           2001.0    482\n",
       "17           2000.0    350\n",
       "18           1999.0    338\n",
       "16           1998.0    379\n",
       "19           1997.0    289\n",
       "20           1996.0    263\n",
       "21           1995.0    219\n",
       "22           1994.0    121\n",
       "23           1993.0     60\n",
       "25           1992.0     43\n",
       "26           1991.0     41\n",
       "31           1990.0     16\n",
       "29           1989.0     17\n",
       "33           1988.0     15\n",
       "32           1987.0     16\n",
       "28           1986.0     21\n",
       "34           1985.0     14\n",
       "35           1984.0     14\n",
       "30           1983.0     17\n",
       "27           1982.0     36\n",
       "24           1981.0     46\n",
       "36           1980.0      9"
      ]
     },
     "metadata": {},
     "output_type": "display_data"
    }
   ],
   "source": [
    "df_years = df_years.sort_values(by=['year_of_release'], ascending=False)\n",
    "display(df_years)"
   ]
  },
  {
   "cell_type": "markdown",
   "metadata": {},
   "source": [
    "Из таблицы видно, что количество продаж игр была на максимальном уровне в 2006- 2011 гг."
   ]
  },
  {
   "cell_type": "code",
   "execution_count": 23,
   "metadata": {},
   "outputs": [
    {
     "data": {
      "image/png": "[encoded data removed]",
      "text/plain": [
       "<Figure size 864x432 with 1 Axes>"
      ]
     },
     "metadata": {
      "needs_background": "light"
     },
     "output_type": "display_data"
    }
   ],
   "source": [
    "df.plot(kind='hist', y='year_of_release', \n",
    "              figsize=(12, 6), bins=37, title='количество игр по годам', label='количество  продаж')\n",
    "plt.ylabel=('')\n",
    "plt.show()"
   ]
  },
  {
   "cell_type": "markdown",
   "metadata": {},
   "source": [
    "График показывает распределение продаж по годам.Видно что максимум в 2008=2009 гг.Потом идет спад с 2010 по 2015 гг."
   ]
  },
  {
   "cell_type": "code",
   "execution_count": 24,
   "metadata": {},
   "outputs": [
    {
     "data": {
      "text/html": [
       "<div>\n",
       "<style scoped>\n",
       "    .dataframe tbody tr th:only-of-type {\n",
       "        vertical-align: middle;\n",
       "    }\n",
       "\n",
       "    .dataframe tbody tr th {\n",
       "        vertical-align: top;\n",
       "    }\n",
       "\n",
       "    .dataframe thead th {\n",
       "        text-align: right;\n",
       "    }\n",
       "</style>\n",
       "<table border=\"1\" class=\"dataframe\">\n",
       "  <thead>\n",
       "    <tr style=\"text-align: right;\">\n",
       "      <th></th>\n",
       "      <th>platform</th>\n",
       "      <th>total_sales</th>\n",
       "    </tr>\n",
       "  </thead>\n",
       "  <tbody>\n",
       "    <tr>\n",
       "      <th>0</th>\n",
       "      <td>PS2</td>\n",
       "      <td>1255.77</td>\n",
       "    </tr>\n",
       "    <tr>\n",
       "      <th>1</th>\n",
       "      <td>X360</td>\n",
       "      <td>971.42</td>\n",
       "    </tr>\n",
       "    <tr>\n",
       "      <th>2</th>\n",
       "      <td>PS3</td>\n",
       "      <td>939.65</td>\n",
       "    </tr>\n",
       "    <tr>\n",
       "      <th>3</th>\n",
       "      <td>Wii</td>\n",
       "      <td>907.51</td>\n",
       "    </tr>\n",
       "    <tr>\n",
       "      <th>4</th>\n",
       "      <td>DS</td>\n",
       "      <td>806.12</td>\n",
       "    </tr>\n",
       "    <tr>\n",
       "      <th>5</th>\n",
       "      <td>PS</td>\n",
       "      <td>730.86</td>\n",
       "    </tr>\n",
       "    <tr>\n",
       "      <th>6</th>\n",
       "      <td>GBA</td>\n",
       "      <td>317.85</td>\n",
       "    </tr>\n",
       "    <tr>\n",
       "      <th>7</th>\n",
       "      <td>PS4</td>\n",
       "      <td>314.14</td>\n",
       "    </tr>\n",
       "    <tr>\n",
       "      <th>8</th>\n",
       "      <td>PSP</td>\n",
       "      <td>294.05</td>\n",
       "    </tr>\n",
       "    <tr>\n",
       "      <th>9</th>\n",
       "      <td>PC</td>\n",
       "      <td>259.52</td>\n",
       "    </tr>\n",
       "    <tr>\n",
       "      <th>10</th>\n",
       "      <td>3DS</td>\n",
       "      <td>259.00</td>\n",
       "    </tr>\n",
       "    <tr>\n",
       "      <th>11</th>\n",
       "      <td>XB</td>\n",
       "      <td>257.74</td>\n",
       "    </tr>\n",
       "    <tr>\n",
       "      <th>12</th>\n",
       "      <td>GB</td>\n",
       "      <td>255.46</td>\n",
       "    </tr>\n",
       "    <tr>\n",
       "      <th>13</th>\n",
       "      <td>NES</td>\n",
       "      <td>251.05</td>\n",
       "    </tr>\n",
       "    <tr>\n",
       "      <th>14</th>\n",
       "      <td>N64</td>\n",
       "      <td>218.68</td>\n",
       "    </tr>\n",
       "    <tr>\n",
       "      <th>15</th>\n",
       "      <td>SNES</td>\n",
       "      <td>200.04</td>\n",
       "    </tr>\n",
       "    <tr>\n",
       "      <th>16</th>\n",
       "      <td>GC</td>\n",
       "      <td>198.93</td>\n",
       "    </tr>\n",
       "    <tr>\n",
       "      <th>17</th>\n",
       "      <td>XOne</td>\n",
       "      <td>159.32</td>\n",
       "    </tr>\n",
       "    <tr>\n",
       "      <th>18</th>\n",
       "      <td>2600</td>\n",
       "      <td>96.98</td>\n",
       "    </tr>\n",
       "    <tr>\n",
       "      <th>19</th>\n",
       "      <td>WiiU</td>\n",
       "      <td>82.19</td>\n",
       "    </tr>\n",
       "    <tr>\n",
       "      <th>20</th>\n",
       "      <td>PSV</td>\n",
       "      <td>54.07</td>\n",
       "    </tr>\n",
       "    <tr>\n",
       "      <th>21</th>\n",
       "      <td>SAT</td>\n",
       "      <td>33.59</td>\n",
       "    </tr>\n",
       "    <tr>\n",
       "      <th>22</th>\n",
       "      <td>GEN</td>\n",
       "      <td>28.35</td>\n",
       "    </tr>\n",
       "    <tr>\n",
       "      <th>23</th>\n",
       "      <td>DC</td>\n",
       "      <td>15.95</td>\n",
       "    </tr>\n",
       "    <tr>\n",
       "      <th>24</th>\n",
       "      <td>SCD</td>\n",
       "      <td>1.86</td>\n",
       "    </tr>\n",
       "    <tr>\n",
       "      <th>25</th>\n",
       "      <td>NG</td>\n",
       "      <td>1.44</td>\n",
       "    </tr>\n",
       "    <tr>\n",
       "      <th>26</th>\n",
       "      <td>WS</td>\n",
       "      <td>1.42</td>\n",
       "    </tr>\n",
       "    <tr>\n",
       "      <th>27</th>\n",
       "      <td>TG16</td>\n",
       "      <td>0.16</td>\n",
       "    </tr>\n",
       "    <tr>\n",
       "      <th>28</th>\n",
       "      <td>3DO</td>\n",
       "      <td>0.10</td>\n",
       "    </tr>\n",
       "    <tr>\n",
       "      <th>29</th>\n",
       "      <td>GG</td>\n",
       "      <td>0.04</td>\n",
       "    </tr>\n",
       "    <tr>\n",
       "      <th>30</th>\n",
       "      <td>PCFX</td>\n",
       "      <td>0.03</td>\n",
       "    </tr>\n",
       "  </tbody>\n",
       "</table>\n",
       "</div>"
      ],
      "text/plain": [
       "   platform  total_sales\n",
       "0       PS2      1255.77\n",
       "1      X360       971.42\n",
       "2       PS3       939.65\n",
       "3       Wii       907.51\n",
       "4        DS       806.12\n",
       "5        PS       730.86\n",
       "6       GBA       317.85\n",
       "7       PS4       314.14\n",
       "8       PSP       294.05\n",
       "9        PC       259.52\n",
       "10      3DS       259.00\n",
       "11       XB       257.74\n",
       "12       GB       255.46\n",
       "13      NES       251.05\n",
       "14      N64       218.68\n",
       "15     SNES       200.04\n",
       "16       GC       198.93\n",
       "17     XOne       159.32\n",
       "18     2600        96.98\n",
       "19     WiiU        82.19\n",
       "20      PSV        54.07\n",
       "21      SAT        33.59\n",
       "22      GEN        28.35\n",
       "23       DC        15.95\n",
       "24      SCD         1.86\n",
       "25       NG         1.44\n",
       "26       WS         1.42\n",
       "27     TG16         0.16\n",
       "28      3DO         0.10\n",
       "29       GG         0.04\n",
       "30     PCFX         0.03"
      ]
     },
     "metadata": {},
     "output_type": "display_data"
    }
   ],
   "source": [
    "df_platform = df.groupby('platform')['total_sales'].sum().sort_values(ascending=False).reset_index()\n",
    "display(df_platform)\n",
    "# группировка платформ по общей выручке и сортировка по убыванию выручки"
   ]
  },
  {
   "cell_type": "markdown",
   "metadata": {},
   "source": [
    "**Вывод**\n",
    "\n",
    "За все время продаж игр лидерами стали PS2, X360, PS3."
   ]
  },
  {
   "cell_type": "code",
   "execution_count": 25,
   "metadata": {
    "scrolled": false
   },
   "outputs": [
    {
     "data": {
      "image/png": "[encoded data removed]",
      "text/plain": [
       "<Figure size 720x576 with 1 Axes>"
      ]
     },
     "metadata": {
      "needs_background": "light"
     },
     "output_type": "display_data"
    }
   ],
   "source": [
    "df_platform.plot(kind='bar', x='platform', y='total_sales', grid=True, figsize=(10, 8), title='platforms')\n",
    "plt.show()\n",
    "# сторим график по общей выручке среди платформ"
   ]
  },
  {
   "cell_type": "code",
   "execution_count": 26,
   "metadata": {},
   "outputs": [
    {
     "data": {
      "image/png": "[encoded data removed]",
      "text/plain": [
       "<Figure size 720x576 with 1 Axes>"
      ]
     },
     "metadata": {
      "needs_background": "light"
     },
     "output_type": "display_data"
    }
   ],
   "source": [
    "platforms = ['PS2', 'X360', 'PS3', 'Wii', 'DS']\n",
    "for i in platforms:\n",
    "    (df.query('platform == @i')\n",
    "    .groupby('year_of_release')['total_sales']\n",
    "    .sum().plot(label=i, xlabel='год выпуска', ylabel='количество продаж',\n",
    "                title='total_sales', figsize=(10, 8), grid=True,legend=True))\n",
    "# строим графики продаж лидеров среди платформ по годам"
   ]
  },
  {
   "cell_type": "markdown",
   "metadata": {},
   "source": [
    "**Вывод**\n",
    "\n",
    "На графике продажи игр среди 5 лидеров.Видно что игра до 5 лет набирает объемы продаж, а затем резко снижаются."
   ]
  },
  {
   "cell_type": "code",
   "execution_count": 27,
   "metadata": {},
   "outputs": [
    {
     "data": {
      "text/html": [
       "<div>\n",
       "<style scoped>\n",
       "    .dataframe tbody tr th:only-of-type {\n",
       "        vertical-align: middle;\n",
       "    }\n",
       "\n",
       "    .dataframe tbody tr th {\n",
       "        vertical-align: top;\n",
       "    }\n",
       "\n",
       "    .dataframe thead th {\n",
       "        text-align: right;\n",
       "    }\n",
       "</style>\n",
       "<table border=\"1\" class=\"dataframe\">\n",
       "  <thead>\n",
       "    <tr style=\"text-align: right;\">\n",
       "      <th></th>\n",
       "      <th>platform</th>\n",
       "      <th>year_of_release</th>\n",
       "      <th>total_sales</th>\n",
       "    </tr>\n",
       "  </thead>\n",
       "  <tbody>\n",
       "    <tr>\n",
       "      <th>0</th>\n",
       "      <td>PS2</td>\n",
       "      <td>2004.0</td>\n",
       "      <td>211.81</td>\n",
       "    </tr>\n",
       "    <tr>\n",
       "      <th>1</th>\n",
       "      <td>Wii</td>\n",
       "      <td>2009.0</td>\n",
       "      <td>206.97</td>\n",
       "    </tr>\n",
       "    <tr>\n",
       "      <th>2</th>\n",
       "      <td>PS2</td>\n",
       "      <td>2002.0</td>\n",
       "      <td>205.38</td>\n",
       "    </tr>\n",
       "    <tr>\n",
       "      <th>3</th>\n",
       "      <td>PS2</td>\n",
       "      <td>2003.0</td>\n",
       "      <td>184.31</td>\n",
       "    </tr>\n",
       "    <tr>\n",
       "      <th>4</th>\n",
       "      <td>Wii</td>\n",
       "      <td>2008.0</td>\n",
       "      <td>171.32</td>\n",
       "    </tr>\n",
       "    <tr>\n",
       "      <th>...</th>\n",
       "      <td>...</td>\n",
       "      <td>...</td>\n",
       "      <td>...</td>\n",
       "    </tr>\n",
       "    <tr>\n",
       "      <th>233</th>\n",
       "      <td>PC</td>\n",
       "      <td>1988.0</td>\n",
       "      <td>0.03</td>\n",
       "    </tr>\n",
       "    <tr>\n",
       "      <th>234</th>\n",
       "      <td>PCFX</td>\n",
       "      <td>1996.0</td>\n",
       "      <td>0.03</td>\n",
       "    </tr>\n",
       "    <tr>\n",
       "      <th>235</th>\n",
       "      <td>DC</td>\n",
       "      <td>2007.0</td>\n",
       "      <td>0.02</td>\n",
       "    </tr>\n",
       "    <tr>\n",
       "      <th>236</th>\n",
       "      <td>3DO</td>\n",
       "      <td>1994.0</td>\n",
       "      <td>0.02</td>\n",
       "    </tr>\n",
       "    <tr>\n",
       "      <th>237</th>\n",
       "      <td>DS</td>\n",
       "      <td>1985.0</td>\n",
       "      <td>0.02</td>\n",
       "    </tr>\n",
       "  </tbody>\n",
       "</table>\n",
       "<p>238 rows × 3 columns</p>\n",
       "</div>"
      ],
      "text/plain": [
       "    platform  year_of_release  total_sales\n",
       "0        PS2           2004.0       211.81\n",
       "1        Wii           2009.0       206.97\n",
       "2        PS2           2002.0       205.38\n",
       "3        PS2           2003.0       184.31\n",
       "4        Wii           2008.0       171.32\n",
       "..       ...              ...          ...\n",
       "233       PC           1988.0         0.03\n",
       "234     PCFX           1996.0         0.03\n",
       "235       DC           2007.0         0.02\n",
       "236      3DO           1994.0         0.02\n",
       "237       DS           1985.0         0.02\n",
       "\n",
       "[238 rows x 3 columns]"
      ]
     },
     "metadata": {},
     "output_type": "display_data"
    }
   ],
   "source": [
    "df_year_sales = df.groupby(['platform', 'year_of_release'])['total_sales'].sum().sort_values(ascending=False).reset_index()\n",
    "display(df_year_sales)\n",
    "# сводная таблица по общей выручке среди платформ и году выпуска"
   ]
  },
  {
   "cell_type": "markdown",
   "metadata": {},
   "source": [
    "**Вывод**\n",
    "\n",
    "Популярные платформы по годам - PS2 в 2004,2002,2003.Wii в 2008 и 2009 гг."
   ]
  },
  {
   "cell_type": "code",
   "execution_count": 28,
   "metadata": {},
   "outputs": [
    {
     "data": {
      "text/html": [
       "<div>\n",
       "<style scoped>\n",
       "    .dataframe tbody tr th:only-of-type {\n",
       "        vertical-align: middle;\n",
       "    }\n",
       "\n",
       "    .dataframe tbody tr th {\n",
       "        vertical-align: top;\n",
       "    }\n",
       "\n",
       "    .dataframe thead th {\n",
       "        text-align: right;\n",
       "    }\n",
       "</style>\n",
       "<table border=\"1\" class=\"dataframe\">\n",
       "  <thead>\n",
       "    <tr style=\"text-align: right;\">\n",
       "      <th></th>\n",
       "      <th>platform</th>\n",
       "      <th>year_of_release</th>\n",
       "      <th>total_sales</th>\n",
       "    </tr>\n",
       "  </thead>\n",
       "  <tbody>\n",
       "    <tr>\n",
       "      <th>41</th>\n",
       "      <td>PS4</td>\n",
       "      <td>2016.0</td>\n",
       "      <td>69.25</td>\n",
       "    </tr>\n",
       "    <tr>\n",
       "      <th>98</th>\n",
       "      <td>XOne</td>\n",
       "      <td>2016.0</td>\n",
       "      <td>26.15</td>\n",
       "    </tr>\n",
       "    <tr>\n",
       "      <th>121</th>\n",
       "      <td>3DS</td>\n",
       "      <td>2016.0</td>\n",
       "      <td>15.14</td>\n",
       "    </tr>\n",
       "    <tr>\n",
       "      <th>164</th>\n",
       "      <td>PC</td>\n",
       "      <td>2016.0</td>\n",
       "      <td>5.25</td>\n",
       "    </tr>\n",
       "    <tr>\n",
       "      <th>170</th>\n",
       "      <td>WiiU</td>\n",
       "      <td>2016.0</td>\n",
       "      <td>4.60</td>\n",
       "    </tr>\n",
       "    <tr>\n",
       "      <th>173</th>\n",
       "      <td>PSV</td>\n",
       "      <td>2016.0</td>\n",
       "      <td>4.25</td>\n",
       "    </tr>\n",
       "    <tr>\n",
       "      <th>179</th>\n",
       "      <td>PS3</td>\n",
       "      <td>2016.0</td>\n",
       "      <td>3.60</td>\n",
       "    </tr>\n",
       "    <tr>\n",
       "      <th>193</th>\n",
       "      <td>X360</td>\n",
       "      <td>2016.0</td>\n",
       "      <td>1.52</td>\n",
       "    </tr>\n",
       "    <tr>\n",
       "      <th>221</th>\n",
       "      <td>Wii</td>\n",
       "      <td>2016.0</td>\n",
       "      <td>0.18</td>\n",
       "    </tr>\n",
       "  </tbody>\n",
       "</table>\n",
       "</div>"
      ],
      "text/plain": [
       "    platform  year_of_release  total_sales\n",
       "41       PS4           2016.0        69.25\n",
       "98      XOne           2016.0        26.15\n",
       "121      3DS           2016.0        15.14\n",
       "164       PC           2016.0         5.25\n",
       "170     WiiU           2016.0         4.60\n",
       "173      PSV           2016.0         4.25\n",
       "179      PS3           2016.0         3.60\n",
       "193     X360           2016.0         1.52\n",
       "221      Wii           2016.0         0.18"
      ]
     },
     "execution_count": 28,
     "metadata": {},
     "output_type": "execute_result"
    }
   ],
   "source": [
    "df_year_sales[df_year_sales['year_of_release'] == 2016]\n",
    "# лидеры среди платформ по продажам в 2016 году"
   ]
  },
  {
   "cell_type": "markdown",
   "metadata": {},
   "source": [
    "**Вывод**\n",
    "\n",
    "В 2016 году уже лидируют 3 другие платформы(PS4, XOne, 3DS)."
   ]
  },
  {
   "cell_type": "code",
   "execution_count": 29,
   "metadata": {},
   "outputs": [
    {
     "data": {
      "image/png": "[encoded data removed]",
      "text/plain": [
       "<Figure size 432x288 with 1 Axes>"
      ]
     },
     "metadata": {
      "needs_background": "light"
     },
     "output_type": "display_data"
    }
   ],
   "source": [
    "df[df['platform'] == 'PS4'].groupby('year_of_release')['total_sales'].sum().plot(grid=True, kind='bar')\n",
    "plt.show()"
   ]
  },
  {
   "cell_type": "markdown",
   "metadata": {},
   "source": [
    "**Выводы**\n",
    "\n",
    "Видно из гистограммы что платформа PS4 набирала популярность 2 года, а затем спад продаж.Берем срез данных за 2014-2016 гг., т.к. цикл подъем - спад продаж игр примерно 2-3 года исходя из данных."
   ]
  },
  {
   "cell_type": "code",
   "execution_count": 30,
   "metadata": {},
   "outputs": [
    {
     "data": {
      "text/html": [
       "<div>\n",
       "<style scoped>\n",
       "    .dataframe tbody tr th:only-of-type {\n",
       "        vertical-align: middle;\n",
       "    }\n",
       "\n",
       "    .dataframe tbody tr th {\n",
       "        vertical-align: top;\n",
       "    }\n",
       "\n",
       "    .dataframe thead th {\n",
       "        text-align: right;\n",
       "    }\n",
       "</style>\n",
       "<table border=\"1\" class=\"dataframe\">\n",
       "  <thead>\n",
       "    <tr style=\"text-align: right;\">\n",
       "      <th></th>\n",
       "      <th>name</th>\n",
       "      <th>platform</th>\n",
       "      <th>year_of_release</th>\n",
       "      <th>genre</th>\n",
       "      <th>na_sales</th>\n",
       "      <th>eu_sales</th>\n",
       "      <th>jp_sales</th>\n",
       "      <th>other_sales</th>\n",
       "      <th>critic_score</th>\n",
       "      <th>user_score</th>\n",
       "      <th>rating</th>\n",
       "      <th>total_sales</th>\n",
       "    </tr>\n",
       "  </thead>\n",
       "  <tbody>\n",
       "    <tr>\n",
       "      <th>31</th>\n",
       "      <td>Call of Duty: Black Ops 3</td>\n",
       "      <td>PS4</td>\n",
       "      <td>2015.0</td>\n",
       "      <td>Shooter</td>\n",
       "      <td>6.03</td>\n",
       "      <td>5.86</td>\n",
       "      <td>0.36</td>\n",
       "      <td>2.38</td>\n",
       "      <td>NaN</td>\n",
       "      <td>NaN</td>\n",
       "      <td>RP</td>\n",
       "      <td>14.63</td>\n",
       "    </tr>\n",
       "    <tr>\n",
       "      <th>42</th>\n",
       "      <td>Grand Theft Auto V</td>\n",
       "      <td>PS4</td>\n",
       "      <td>2014.0</td>\n",
       "      <td>Action</td>\n",
       "      <td>3.96</td>\n",
       "      <td>6.31</td>\n",
       "      <td>0.38</td>\n",
       "      <td>1.97</td>\n",
       "      <td>97.0</td>\n",
       "      <td>8.3</td>\n",
       "      <td>M</td>\n",
       "      <td>12.62</td>\n",
       "    </tr>\n",
       "    <tr>\n",
       "      <th>47</th>\n",
       "      <td>Pokemon Omega Ruby/Pokemon Alpha Sapphire</td>\n",
       "      <td>3DS</td>\n",
       "      <td>2014.0</td>\n",
       "      <td>Role-Playing</td>\n",
       "      <td>4.35</td>\n",
       "      <td>3.49</td>\n",
       "      <td>3.10</td>\n",
       "      <td>0.74</td>\n",
       "      <td>NaN</td>\n",
       "      <td>NaN</td>\n",
       "      <td>RP</td>\n",
       "      <td>11.68</td>\n",
       "    </tr>\n",
       "    <tr>\n",
       "      <th>77</th>\n",
       "      <td>FIFA 16</td>\n",
       "      <td>PS4</td>\n",
       "      <td>2015.0</td>\n",
       "      <td>Sports</td>\n",
       "      <td>1.12</td>\n",
       "      <td>6.12</td>\n",
       "      <td>0.06</td>\n",
       "      <td>1.28</td>\n",
       "      <td>82.0</td>\n",
       "      <td>4.3</td>\n",
       "      <td>E</td>\n",
       "      <td>8.58</td>\n",
       "    </tr>\n",
       "    <tr>\n",
       "      <th>87</th>\n",
       "      <td>Star Wars Battlefront (2015)</td>\n",
       "      <td>PS4</td>\n",
       "      <td>2015.0</td>\n",
       "      <td>Shooter</td>\n",
       "      <td>2.99</td>\n",
       "      <td>3.49</td>\n",
       "      <td>0.22</td>\n",
       "      <td>1.28</td>\n",
       "      <td>NaN</td>\n",
       "      <td>NaN</td>\n",
       "      <td>RP</td>\n",
       "      <td>7.98</td>\n",
       "    </tr>\n",
       "    <tr>\n",
       "      <th>92</th>\n",
       "      <td>Call of Duty: Advanced Warfare</td>\n",
       "      <td>PS4</td>\n",
       "      <td>2014.0</td>\n",
       "      <td>Shooter</td>\n",
       "      <td>2.81</td>\n",
       "      <td>3.48</td>\n",
       "      <td>0.14</td>\n",
       "      <td>1.23</td>\n",
       "      <td>83.0</td>\n",
       "      <td>5.7</td>\n",
       "      <td>M</td>\n",
       "      <td>7.66</td>\n",
       "    </tr>\n",
       "    <tr>\n",
       "      <th>94</th>\n",
       "      <td>FIFA 17</td>\n",
       "      <td>PS4</td>\n",
       "      <td>2016.0</td>\n",
       "      <td>Sports</td>\n",
       "      <td>0.66</td>\n",
       "      <td>5.75</td>\n",
       "      <td>0.08</td>\n",
       "      <td>1.11</td>\n",
       "      <td>85.0</td>\n",
       "      <td>5.0</td>\n",
       "      <td>E</td>\n",
       "      <td>7.60</td>\n",
       "    </tr>\n",
       "    <tr>\n",
       "      <th>96</th>\n",
       "      <td>Super Smash Bros. for Wii U and 3DS</td>\n",
       "      <td>3DS</td>\n",
       "      <td>2014.0</td>\n",
       "      <td>Fighting</td>\n",
       "      <td>3.27</td>\n",
       "      <td>1.37</td>\n",
       "      <td>2.43</td>\n",
       "      <td>0.48</td>\n",
       "      <td>NaN</td>\n",
       "      <td>NaN</td>\n",
       "      <td>RP</td>\n",
       "      <td>7.55</td>\n",
       "    </tr>\n",
       "    <tr>\n",
       "      <th>99</th>\n",
       "      <td>Call of Duty: Black Ops 3</td>\n",
       "      <td>XOne</td>\n",
       "      <td>2015.0</td>\n",
       "      <td>Shooter</td>\n",
       "      <td>4.59</td>\n",
       "      <td>2.11</td>\n",
       "      <td>0.01</td>\n",
       "      <td>0.68</td>\n",
       "      <td>NaN</td>\n",
       "      <td>NaN</td>\n",
       "      <td>RP</td>\n",
       "      <td>7.39</td>\n",
       "    </tr>\n",
       "    <tr>\n",
       "      <th>105</th>\n",
       "      <td>Fallout 4</td>\n",
       "      <td>PS4</td>\n",
       "      <td>2015.0</td>\n",
       "      <td>Role-Playing</td>\n",
       "      <td>2.53</td>\n",
       "      <td>3.27</td>\n",
       "      <td>0.24</td>\n",
       "      <td>1.13</td>\n",
       "      <td>87.0</td>\n",
       "      <td>6.5</td>\n",
       "      <td>M</td>\n",
       "      <td>7.17</td>\n",
       "    </tr>\n",
       "    <tr>\n",
       "      <th>108</th>\n",
       "      <td>Pokemon Sun/Moon</td>\n",
       "      <td>3DS</td>\n",
       "      <td>2016.0</td>\n",
       "      <td>Role-Playing</td>\n",
       "      <td>2.98</td>\n",
       "      <td>1.45</td>\n",
       "      <td>2.26</td>\n",
       "      <td>0.45</td>\n",
       "      <td>NaN</td>\n",
       "      <td>NaN</td>\n",
       "      <td>RP</td>\n",
       "      <td>7.14</td>\n",
       "    </tr>\n",
       "    <tr>\n",
       "      <th>110</th>\n",
       "      <td>Mario Kart 8</td>\n",
       "      <td>WiiU</td>\n",
       "      <td>2014.0</td>\n",
       "      <td>Racing</td>\n",
       "      <td>3.15</td>\n",
       "      <td>2.15</td>\n",
       "      <td>1.28</td>\n",
       "      <td>0.51</td>\n",
       "      <td>88.0</td>\n",
       "      <td>9.1</td>\n",
       "      <td>E</td>\n",
       "      <td>7.09</td>\n",
       "    </tr>\n",
       "    <tr>\n",
       "      <th>143</th>\n",
       "      <td>FIFA 15</td>\n",
       "      <td>PS4</td>\n",
       "      <td>2014.0</td>\n",
       "      <td>Sports</td>\n",
       "      <td>0.80</td>\n",
       "      <td>4.33</td>\n",
       "      <td>0.05</td>\n",
       "      <td>0.90</td>\n",
       "      <td>82.0</td>\n",
       "      <td>5.7</td>\n",
       "      <td>E</td>\n",
       "      <td>6.08</td>\n",
       "    </tr>\n",
       "    <tr>\n",
       "      <th>154</th>\n",
       "      <td>Destiny</td>\n",
       "      <td>PS4</td>\n",
       "      <td>2014.0</td>\n",
       "      <td>Shooter</td>\n",
       "      <td>2.49</td>\n",
       "      <td>2.07</td>\n",
       "      <td>0.16</td>\n",
       "      <td>0.92</td>\n",
       "      <td>76.0</td>\n",
       "      <td>6.1</td>\n",
       "      <td>T</td>\n",
       "      <td>5.64</td>\n",
       "    </tr>\n",
       "    <tr>\n",
       "      <th>165</th>\n",
       "      <td>Grand Theft Auto V</td>\n",
       "      <td>XOne</td>\n",
       "      <td>2014.0</td>\n",
       "      <td>Action</td>\n",
       "      <td>2.81</td>\n",
       "      <td>2.19</td>\n",
       "      <td>0.00</td>\n",
       "      <td>0.47</td>\n",
       "      <td>97.0</td>\n",
       "      <td>7.9</td>\n",
       "      <td>M</td>\n",
       "      <td>5.47</td>\n",
       "    </tr>\n",
       "  </tbody>\n",
       "</table>\n",
       "</div>"
      ],
      "text/plain": [
       "                                          name platform  year_of_release  \\\n",
       "31                   Call of Duty: Black Ops 3      PS4           2015.0   \n",
       "42                          Grand Theft Auto V      PS4           2014.0   \n",
       "47   Pokemon Omega Ruby/Pokemon Alpha Sapphire      3DS           2014.0   \n",
       "77                                     FIFA 16      PS4           2015.0   \n",
       "87                Star Wars Battlefront (2015)      PS4           2015.0   \n",
       "92              Call of Duty: Advanced Warfare      PS4           2014.0   \n",
       "94                                     FIFA 17      PS4           2016.0   \n",
       "96         Super Smash Bros. for Wii U and 3DS      3DS           2014.0   \n",
       "99                   Call of Duty: Black Ops 3     XOne           2015.0   \n",
       "105                                  Fallout 4      PS4           2015.0   \n",
       "108                           Pokemon Sun/Moon      3DS           2016.0   \n",
       "110                               Mario Kart 8     WiiU           2014.0   \n",
       "143                                    FIFA 15      PS4           2014.0   \n",
       "154                                    Destiny      PS4           2014.0   \n",
       "165                         Grand Theft Auto V     XOne           2014.0   \n",
       "\n",
       "            genre  na_sales  eu_sales  jp_sales  other_sales  critic_score  \\\n",
       "31        Shooter      6.03      5.86      0.36         2.38           NaN   \n",
       "42         Action      3.96      6.31      0.38         1.97          97.0   \n",
       "47   Role-Playing      4.35      3.49      3.10         0.74           NaN   \n",
       "77         Sports      1.12      6.12      0.06         1.28          82.0   \n",
       "87        Shooter      2.99      3.49      0.22         1.28           NaN   \n",
       "92        Shooter      2.81      3.48      0.14         1.23          83.0   \n",
       "94         Sports      0.66      5.75      0.08         1.11          85.0   \n",
       "96       Fighting      3.27      1.37      2.43         0.48           NaN   \n",
       "99        Shooter      4.59      2.11      0.01         0.68           NaN   \n",
       "105  Role-Playing      2.53      3.27      0.24         1.13          87.0   \n",
       "108  Role-Playing      2.98      1.45      2.26         0.45           NaN   \n",
       "110        Racing      3.15      2.15      1.28         0.51          88.0   \n",
       "143        Sports      0.80      4.33      0.05         0.90          82.0   \n",
       "154       Shooter      2.49      2.07      0.16         0.92          76.0   \n",
       "165        Action      2.81      2.19      0.00         0.47          97.0   \n",
       "\n",
       "     user_score rating  total_sales  \n",
       "31          NaN     RP        14.63  \n",
       "42          8.3      M        12.62  \n",
       "47          NaN     RP        11.68  \n",
       "77          4.3      E         8.58  \n",
       "87          NaN     RP         7.98  \n",
       "92          5.7      M         7.66  \n",
       "94          5.0      E         7.60  \n",
       "96          NaN     RP         7.55  \n",
       "99          NaN     RP         7.39  \n",
       "105         6.5      M         7.17  \n",
       "108         NaN     RP         7.14  \n",
       "110         9.1      E         7.09  \n",
       "143         5.7      E         6.08  \n",
       "154         6.1      T         5.64  \n",
       "165         7.9      M         5.47  "
      ]
     },
     "execution_count": 30,
     "metadata": {},
     "output_type": "execute_result"
    }
   ],
   "source": [
    "df_total = df[df['year_of_release'] >= 2014]\n",
    "df_total.head(15)"
   ]
  },
  {
   "cell_type": "code",
   "execution_count": 31,
   "metadata": {},
   "outputs": [
    {
     "data": {
      "text/plain": [
       "array(['PS4', '3DS', 'XOne', 'WiiU', 'PS3', 'X360', 'PC', 'Wii', 'PSV',\n",
       "       'PSP'], dtype=object)"
      ]
     },
     "execution_count": 31,
     "metadata": {},
     "output_type": "execute_result"
    }
   ],
   "source": [
    "df_total['platform'].unique()\n",
    "# проверка на количество уникальных платформ"
   ]
  },
  {
   "cell_type": "code",
   "execution_count": 32,
   "metadata": {},
   "outputs": [
    {
     "data": {
      "text/html": [
       "<div>\n",
       "<style scoped>\n",
       "    .dataframe tbody tr th:only-of-type {\n",
       "        vertical-align: middle;\n",
       "    }\n",
       "\n",
       "    .dataframe tbody tr th {\n",
       "        vertical-align: top;\n",
       "    }\n",
       "\n",
       "    .dataframe thead th {\n",
       "        text-align: right;\n",
       "    }\n",
       "</style>\n",
       "<table border=\"1\" class=\"dataframe\">\n",
       "  <thead>\n",
       "    <tr style=\"text-align: right;\">\n",
       "      <th></th>\n",
       "      <th>platform</th>\n",
       "      <th>total_sales</th>\n",
       "    </tr>\n",
       "  </thead>\n",
       "  <tbody>\n",
       "    <tr>\n",
       "      <th>0</th>\n",
       "      <td>PS4</td>\n",
       "      <td>288.15</td>\n",
       "    </tr>\n",
       "    <tr>\n",
       "      <th>1</th>\n",
       "      <td>XOne</td>\n",
       "      <td>140.36</td>\n",
       "    </tr>\n",
       "    <tr>\n",
       "      <th>2</th>\n",
       "      <td>3DS</td>\n",
       "      <td>86.68</td>\n",
       "    </tr>\n",
       "    <tr>\n",
       "      <th>3</th>\n",
       "      <td>PS3</td>\n",
       "      <td>68.18</td>\n",
       "    </tr>\n",
       "    <tr>\n",
       "      <th>4</th>\n",
       "      <td>X360</td>\n",
       "      <td>48.22</td>\n",
       "    </tr>\n",
       "    <tr>\n",
       "      <th>5</th>\n",
       "      <td>WiiU</td>\n",
       "      <td>42.98</td>\n",
       "    </tr>\n",
       "    <tr>\n",
       "      <th>6</th>\n",
       "      <td>PC</td>\n",
       "      <td>27.05</td>\n",
       "    </tr>\n",
       "    <tr>\n",
       "      <th>7</th>\n",
       "      <td>PSV</td>\n",
       "      <td>22.40</td>\n",
       "    </tr>\n",
       "    <tr>\n",
       "      <th>8</th>\n",
       "      <td>Wii</td>\n",
       "      <td>5.07</td>\n",
       "    </tr>\n",
       "    <tr>\n",
       "      <th>9</th>\n",
       "      <td>PSP</td>\n",
       "      <td>0.36</td>\n",
       "    </tr>\n",
       "  </tbody>\n",
       "</table>\n",
       "</div>"
      ],
      "text/plain": [
       "  platform  total_sales\n",
       "0      PS4       288.15\n",
       "1     XOne       140.36\n",
       "2      3DS        86.68\n",
       "3      PS3        68.18\n",
       "4     X360        48.22\n",
       "5     WiiU        42.98\n",
       "6       PC        27.05\n",
       "7      PSV        22.40\n",
       "8      Wii         5.07\n",
       "9      PSP         0.36"
      ]
     },
     "metadata": {},
     "output_type": "display_data"
    }
   ],
   "source": [
    "df_total_platform = df_total.groupby('platform')['total_sales'].sum().sort_values(ascending=False).reset_index()\n",
    "display(df_total_platform)\n"
   ]
  },
  {
   "cell_type": "markdown",
   "metadata": {},
   "source": [
    "**Вывод**\n",
    "\n",
    "Остались такие же 3 лидера по количеству продаж."
   ]
  },
  {
   "cell_type": "code",
   "execution_count": 33,
   "metadata": {},
   "outputs": [
    {
     "data": {
      "text/html": [
       "<div>\n",
       "<style scoped>\n",
       "    .dataframe tbody tr th:only-of-type {\n",
       "        vertical-align: middle;\n",
       "    }\n",
       "\n",
       "    .dataframe tbody tr th {\n",
       "        vertical-align: top;\n",
       "    }\n",
       "\n",
       "    .dataframe thead th {\n",
       "        text-align: right;\n",
       "    }\n",
       "</style>\n",
       "<table border=\"1\" class=\"dataframe\">\n",
       "  <thead>\n",
       "    <tr style=\"text-align: right;\">\n",
       "      <th></th>\n",
       "      <th>platform</th>\n",
       "      <th>year_of_release</th>\n",
       "      <th>total_sales</th>\n",
       "    </tr>\n",
       "  </thead>\n",
       "  <tbody>\n",
       "    <tr>\n",
       "      <th>0</th>\n",
       "      <td>PS4</td>\n",
       "      <td>2015.0</td>\n",
       "      <td>118.90</td>\n",
       "    </tr>\n",
       "    <tr>\n",
       "      <th>1</th>\n",
       "      <td>PS4</td>\n",
       "      <td>2014.0</td>\n",
       "      <td>100.00</td>\n",
       "    </tr>\n",
       "    <tr>\n",
       "      <th>2</th>\n",
       "      <td>PS4</td>\n",
       "      <td>2016.0</td>\n",
       "      <td>69.25</td>\n",
       "    </tr>\n",
       "    <tr>\n",
       "      <th>3</th>\n",
       "      <td>XOne</td>\n",
       "      <td>2015.0</td>\n",
       "      <td>60.14</td>\n",
       "    </tr>\n",
       "    <tr>\n",
       "      <th>4</th>\n",
       "      <td>XOne</td>\n",
       "      <td>2014.0</td>\n",
       "      <td>54.07</td>\n",
       "    </tr>\n",
       "    <tr>\n",
       "      <th>5</th>\n",
       "      <td>PS3</td>\n",
       "      <td>2014.0</td>\n",
       "      <td>47.76</td>\n",
       "    </tr>\n",
       "    <tr>\n",
       "      <th>6</th>\n",
       "      <td>3DS</td>\n",
       "      <td>2014.0</td>\n",
       "      <td>43.76</td>\n",
       "    </tr>\n",
       "    <tr>\n",
       "      <th>7</th>\n",
       "      <td>X360</td>\n",
       "      <td>2014.0</td>\n",
       "      <td>34.74</td>\n",
       "    </tr>\n",
       "    <tr>\n",
       "      <th>8</th>\n",
       "      <td>3DS</td>\n",
       "      <td>2015.0</td>\n",
       "      <td>27.78</td>\n",
       "    </tr>\n",
       "    <tr>\n",
       "      <th>9</th>\n",
       "      <td>XOne</td>\n",
       "      <td>2016.0</td>\n",
       "      <td>26.15</td>\n",
       "    </tr>\n",
       "    <tr>\n",
       "      <th>10</th>\n",
       "      <td>WiiU</td>\n",
       "      <td>2014.0</td>\n",
       "      <td>22.03</td>\n",
       "    </tr>\n",
       "    <tr>\n",
       "      <th>11</th>\n",
       "      <td>PS3</td>\n",
       "      <td>2015.0</td>\n",
       "      <td>16.82</td>\n",
       "    </tr>\n",
       "    <tr>\n",
       "      <th>12</th>\n",
       "      <td>WiiU</td>\n",
       "      <td>2015.0</td>\n",
       "      <td>16.35</td>\n",
       "    </tr>\n",
       "    <tr>\n",
       "      <th>13</th>\n",
       "      <td>3DS</td>\n",
       "      <td>2016.0</td>\n",
       "      <td>15.14</td>\n",
       "    </tr>\n",
       "    <tr>\n",
       "      <th>14</th>\n",
       "      <td>PC</td>\n",
       "      <td>2014.0</td>\n",
       "      <td>13.28</td>\n",
       "    </tr>\n",
       "    <tr>\n",
       "      <th>15</th>\n",
       "      <td>X360</td>\n",
       "      <td>2015.0</td>\n",
       "      <td>11.96</td>\n",
       "    </tr>\n",
       "    <tr>\n",
       "      <th>16</th>\n",
       "      <td>PSV</td>\n",
       "      <td>2014.0</td>\n",
       "      <td>11.90</td>\n",
       "    </tr>\n",
       "    <tr>\n",
       "      <th>17</th>\n",
       "      <td>PC</td>\n",
       "      <td>2015.0</td>\n",
       "      <td>8.52</td>\n",
       "    </tr>\n",
       "    <tr>\n",
       "      <th>18</th>\n",
       "      <td>PSV</td>\n",
       "      <td>2015.0</td>\n",
       "      <td>6.25</td>\n",
       "    </tr>\n",
       "    <tr>\n",
       "      <th>19</th>\n",
       "      <td>PC</td>\n",
       "      <td>2016.0</td>\n",
       "      <td>5.25</td>\n",
       "    </tr>\n",
       "    <tr>\n",
       "      <th>20</th>\n",
       "      <td>WiiU</td>\n",
       "      <td>2016.0</td>\n",
       "      <td>4.60</td>\n",
       "    </tr>\n",
       "    <tr>\n",
       "      <th>21</th>\n",
       "      <td>PSV</td>\n",
       "      <td>2016.0</td>\n",
       "      <td>4.25</td>\n",
       "    </tr>\n",
       "    <tr>\n",
       "      <th>22</th>\n",
       "      <td>Wii</td>\n",
       "      <td>2014.0</td>\n",
       "      <td>3.75</td>\n",
       "    </tr>\n",
       "    <tr>\n",
       "      <th>23</th>\n",
       "      <td>PS3</td>\n",
       "      <td>2016.0</td>\n",
       "      <td>3.60</td>\n",
       "    </tr>\n",
       "    <tr>\n",
       "      <th>24</th>\n",
       "      <td>X360</td>\n",
       "      <td>2016.0</td>\n",
       "      <td>1.52</td>\n",
       "    </tr>\n",
       "    <tr>\n",
       "      <th>25</th>\n",
       "      <td>Wii</td>\n",
       "      <td>2015.0</td>\n",
       "      <td>1.14</td>\n",
       "    </tr>\n",
       "    <tr>\n",
       "      <th>26</th>\n",
       "      <td>PSP</td>\n",
       "      <td>2014.0</td>\n",
       "      <td>0.24</td>\n",
       "    </tr>\n",
       "    <tr>\n",
       "      <th>27</th>\n",
       "      <td>Wii</td>\n",
       "      <td>2016.0</td>\n",
       "      <td>0.18</td>\n",
       "    </tr>\n",
       "    <tr>\n",
       "      <th>28</th>\n",
       "      <td>PSP</td>\n",
       "      <td>2015.0</td>\n",
       "      <td>0.12</td>\n",
       "    </tr>\n",
       "  </tbody>\n",
       "</table>\n",
       "</div>"
      ],
      "text/plain": [
       "   platform  year_of_release  total_sales\n",
       "0       PS4           2015.0       118.90\n",
       "1       PS4           2014.0       100.00\n",
       "2       PS4           2016.0        69.25\n",
       "3      XOne           2015.0        60.14\n",
       "4      XOne           2014.0        54.07\n",
       "5       PS3           2014.0        47.76\n",
       "6       3DS           2014.0        43.76\n",
       "7      X360           2014.0        34.74\n",
       "8       3DS           2015.0        27.78\n",
       "9      XOne           2016.0        26.15\n",
       "10     WiiU           2014.0        22.03\n",
       "11      PS3           2015.0        16.82\n",
       "12     WiiU           2015.0        16.35\n",
       "13      3DS           2016.0        15.14\n",
       "14       PC           2014.0        13.28\n",
       "15     X360           2015.0        11.96\n",
       "16      PSV           2014.0        11.90\n",
       "17       PC           2015.0         8.52\n",
       "18      PSV           2015.0         6.25\n",
       "19       PC           2016.0         5.25\n",
       "20     WiiU           2016.0         4.60\n",
       "21      PSV           2016.0         4.25\n",
       "22      Wii           2014.0         3.75\n",
       "23      PS3           2016.0         3.60\n",
       "24     X360           2016.0         1.52\n",
       "25      Wii           2015.0         1.14\n",
       "26      PSP           2014.0         0.24\n",
       "27      Wii           2016.0         0.18\n",
       "28      PSP           2015.0         0.12"
      ]
     },
     "metadata": {},
     "output_type": "display_data"
    }
   ],
   "source": [
    "df_total_platform = (df_total\n",
    "                            .groupby(['platform', 'year_of_release'])['total_sales']\n",
    "                            .sum()\n",
    "                            .sort_values(ascending=False).reset_index())\n",
    "display(df_total_platform)\n",
    "# продажи среди платформ в 2014-2016 гг."
   ]
  },
  {
   "cell_type": "code",
   "execution_count": 34,
   "metadata": {},
   "outputs": [
    {
     "data": {
      "image/png": "[encoded data removed]",
      "text/plain": [
       "<Figure size 720x576 with 1 Axes>"
      ]
     },
     "metadata": {
      "needs_background": "light"
     },
     "output_type": "display_data"
    }
   ],
   "source": [
    "platforms = ['PS4', 'XOne', 'PS3', '3DS', 'WiiU', 'X360', 'PC', 'PCV']\n",
    "for i in platforms:\n",
    "    (df_total.query('platform == @i')\n",
    "    .groupby('year_of_release')['total_sales']\n",
    "    .sum().plot(label=i, xlabel='год выпуска', ylabel='количество продаж',\n",
    "                title='total_sales', figsize=(10, 8), grid=True,legend=True))"
   ]
  },
  {
   "cell_type": "markdown",
   "metadata": {},
   "source": [
    "**Вывод**\n",
    "\n",
    "Из графиков видно что в 2015 году были максимальные продажи у PS4, XOne."
   ]
  },
  {
   "cell_type": "code",
   "execution_count": 35,
   "metadata": {},
   "outputs": [
    {
     "data": {
      "image/png": "[encoded data removed]",
      "text/plain": [
       "<Figure size 720x576 with 1 Axes>"
      ]
     },
     "metadata": {
      "needs_background": "light"
     },
     "output_type": "display_data"
    }
   ],
   "source": [
    "plt.figure(figsize=(10, 8))\n",
    "sns.boxplot(data=df_total, y='total_sales', x='platform').set(label='platform', ylim=(0, 1.5))\n",
    "plt.title('Продажи по платформам  за период с 2014 - 2016 гг')\n",
    "plt.show()\n",
    "# график «ящик с усами» по глобальным продажам игр в разбивке по платформам"
   ]
  },
  {
   "cell_type": "markdown",
   "metadata": {},
   "source": [
    "**Вывод**\n",
    "\n",
    "Из графика видно, что медиана по количеству продаж примерно в одном интервале среди 5 платформ(PS4, XOne, WiU, X360, Wii)."
   ]
  },
  {
   "cell_type": "code",
   "execution_count": 36,
   "metadata": {},
   "outputs": [
    {
     "data": {
      "image/png": "[encoded data removed]",
      "text/plain": [
       "<Figure size 576x432 with 1 Axes>"
      ]
     },
     "metadata": {
      "needs_background": "light"
     },
     "output_type": "display_data"
    }
   ],
   "source": [
    "df_total.query('platform == \"PS4\"').plot(kind='scatter', x='user_score', y='total_sales', figsize=(8, 6),alpha=0.3)\n",
    "plt.show()\n",
    "# общие продажи по платформе PS4 в зависимости от оценок пользователей"
   ]
  },
  {
   "cell_type": "markdown",
   "metadata": {},
   "source": [
    "**Вывод**\n",
    "\n",
    "Из графика видно что основные продажи игр с оценкой пользователей 5,5-8,5."
   ]
  },
  {
   "cell_type": "code",
   "execution_count": 37,
   "metadata": {},
   "outputs": [
    {
     "data": {
      "image/png": "[encoded data removed]",
      "text/plain": [
       "<Figure size 576x432 with 1 Axes>"
      ]
     },
     "metadata": {
      "needs_background": "light"
     },
     "output_type": "display_data"
    }
   ],
   "source": [
    "df_total.query('platform == \"PS4\"').plot(kind='scatter', x='critic_score', y='total_sales', figsize=(8, 6),alpha=0.3)\n",
    "plt.show()\n",
    "# общие продажи по платформе PS4 в зависимости от оценок критиков"
   ]
  },
  {
   "cell_type": "markdown",
   "metadata": {},
   "source": [
    "**Вывод**\n",
    "\n",
    "Из графика видно что основные продажи игр с оценкой критиков 50-90."
   ]
  },
  {
   "cell_type": "code",
   "execution_count": 38,
   "metadata": {
    "scrolled": true
   },
   "outputs": [
    {
     "data": {
      "text/html": [
       "<div>\n",
       "<style scoped>\n",
       "    .dataframe tbody tr th:only-of-type {\n",
       "        vertical-align: middle;\n",
       "    }\n",
       "\n",
       "    .dataframe tbody tr th {\n",
       "        vertical-align: top;\n",
       "    }\n",
       "\n",
       "    .dataframe thead th {\n",
       "        text-align: right;\n",
       "    }\n",
       "</style>\n",
       "<table border=\"1\" class=\"dataframe\">\n",
       "  <thead>\n",
       "    <tr style=\"text-align: right;\">\n",
       "      <th></th>\n",
       "      <th>total_sales</th>\n",
       "      <th>critic_score</th>\n",
       "      <th>user_score</th>\n",
       "    </tr>\n",
       "  </thead>\n",
       "  <tbody>\n",
       "    <tr>\n",
       "      <th>total_sales</th>\n",
       "      <td>1.000000</td>\n",
       "      <td>0.402661</td>\n",
       "      <td>-0.040132</td>\n",
       "    </tr>\n",
       "    <tr>\n",
       "      <th>critic_score</th>\n",
       "      <td>0.402661</td>\n",
       "      <td>1.000000</td>\n",
       "      <td>0.546434</td>\n",
       "    </tr>\n",
       "    <tr>\n",
       "      <th>user_score</th>\n",
       "      <td>-0.040132</td>\n",
       "      <td>0.546434</td>\n",
       "      <td>1.000000</td>\n",
       "    </tr>\n",
       "  </tbody>\n",
       "</table>\n",
       "</div>"
      ],
      "text/plain": [
       "              total_sales  critic_score  user_score\n",
       "total_sales      1.000000      0.402661   -0.040132\n",
       "critic_score     0.402661      1.000000    0.546434\n",
       "user_score      -0.040132      0.546434    1.000000"
      ]
     },
     "execution_count": 38,
     "metadata": {},
     "output_type": "execute_result"
    }
   ],
   "source": [
    "df_total.query('platform == \"PS4\"')[['total_sales', 'critic_score', 'user_score']].corr()\n",
    "# считаем корреляцию по платформе PS4 по отзывам критиков и пользователей"
   ]
  },
  {
   "cell_type": "markdown",
   "metadata": {},
   "source": [
    "**Вывод**\n",
    "\n",
    "Так же по корреляции видно, что продажи не зависят от оценок пользователей, а есть зависимость от оценок критиков."
   ]
  },
  {
   "cell_type": "code",
   "execution_count": 39,
   "metadata": {},
   "outputs": [
    {
     "data": {
      "text/html": [
       "<div>\n",
       "<style scoped>\n",
       "    .dataframe tbody tr th:only-of-type {\n",
       "        vertical-align: middle;\n",
       "    }\n",
       "\n",
       "    .dataframe tbody tr th {\n",
       "        vertical-align: top;\n",
       "    }\n",
       "\n",
       "    .dataframe thead th {\n",
       "        text-align: right;\n",
       "    }\n",
       "</style>\n",
       "<table border=\"1\" class=\"dataframe\">\n",
       "  <thead>\n",
       "    <tr style=\"text-align: right;\">\n",
       "      <th></th>\n",
       "      <th>name</th>\n",
       "      <th>platform</th>\n",
       "      <th>year_of_release</th>\n",
       "      <th>genre</th>\n",
       "      <th>na_sales</th>\n",
       "      <th>eu_sales</th>\n",
       "      <th>jp_sales</th>\n",
       "      <th>other_sales</th>\n",
       "      <th>critic_score</th>\n",
       "      <th>user_score</th>\n",
       "      <th>rating</th>\n",
       "      <th>total_sales</th>\n",
       "    </tr>\n",
       "  </thead>\n",
       "  <tbody>\n",
       "    <tr>\n",
       "      <th>99</th>\n",
       "      <td>Call of Duty: Black Ops 3</td>\n",
       "      <td>XOne</td>\n",
       "      <td>2015.0</td>\n",
       "      <td>Shooter</td>\n",
       "      <td>4.59</td>\n",
       "      <td>2.11</td>\n",
       "      <td>0.01</td>\n",
       "      <td>0.68</td>\n",
       "      <td>NaN</td>\n",
       "      <td>NaN</td>\n",
       "      <td>RP</td>\n",
       "      <td>7.39</td>\n",
       "    </tr>\n",
       "    <tr>\n",
       "      <th>110</th>\n",
       "      <td>Mario Kart 8</td>\n",
       "      <td>WiiU</td>\n",
       "      <td>2014.0</td>\n",
       "      <td>Racing</td>\n",
       "      <td>3.15</td>\n",
       "      <td>2.15</td>\n",
       "      <td>1.28</td>\n",
       "      <td>0.51</td>\n",
       "      <td>88.0</td>\n",
       "      <td>9.1</td>\n",
       "      <td>E</td>\n",
       "      <td>7.09</td>\n",
       "    </tr>\n",
       "    <tr>\n",
       "      <th>165</th>\n",
       "      <td>Grand Theft Auto V</td>\n",
       "      <td>XOne</td>\n",
       "      <td>2014.0</td>\n",
       "      <td>Action</td>\n",
       "      <td>2.81</td>\n",
       "      <td>2.19</td>\n",
       "      <td>0.00</td>\n",
       "      <td>0.47</td>\n",
       "      <td>97.0</td>\n",
       "      <td>7.9</td>\n",
       "      <td>M</td>\n",
       "      <td>5.47</td>\n",
       "    </tr>\n",
       "    <tr>\n",
       "      <th>179</th>\n",
       "      <td>Call of Duty: Advanced Warfare</td>\n",
       "      <td>XOne</td>\n",
       "      <td>2014.0</td>\n",
       "      <td>Shooter</td>\n",
       "      <td>3.22</td>\n",
       "      <td>1.55</td>\n",
       "      <td>0.01</td>\n",
       "      <td>0.48</td>\n",
       "      <td>81.0</td>\n",
       "      <td>5.4</td>\n",
       "      <td>M</td>\n",
       "      <td>5.26</td>\n",
       "    </tr>\n",
       "    <tr>\n",
       "      <th>216</th>\n",
       "      <td>Super Smash Bros. for Wii U and 3DS</td>\n",
       "      <td>WiiU</td>\n",
       "      <td>2014.0</td>\n",
       "      <td>Fighting</td>\n",
       "      <td>2.60</td>\n",
       "      <td>1.08</td>\n",
       "      <td>0.81</td>\n",
       "      <td>0.38</td>\n",
       "      <td>NaN</td>\n",
       "      <td>NaN</td>\n",
       "      <td>RP</td>\n",
       "      <td>4.87</td>\n",
       "    </tr>\n",
       "    <tr>\n",
       "      <th>...</th>\n",
       "      <td>...</td>\n",
       "      <td>...</td>\n",
       "      <td>...</td>\n",
       "      <td>...</td>\n",
       "      <td>...</td>\n",
       "      <td>...</td>\n",
       "      <td>...</td>\n",
       "      <td>...</td>\n",
       "      <td>...</td>\n",
       "      <td>...</td>\n",
       "      <td>...</td>\n",
       "      <td>...</td>\n",
       "    </tr>\n",
       "    <tr>\n",
       "      <th>16643</th>\n",
       "      <td>Rugby Challenge 3</td>\n",
       "      <td>XOne</td>\n",
       "      <td>2016.0</td>\n",
       "      <td>Sports</td>\n",
       "      <td>0.00</td>\n",
       "      <td>0.01</td>\n",
       "      <td>0.00</td>\n",
       "      <td>0.00</td>\n",
       "      <td>NaN</td>\n",
       "      <td>6.6</td>\n",
       "      <td>E</td>\n",
       "      <td>0.01</td>\n",
       "    </tr>\n",
       "    <tr>\n",
       "      <th>16645</th>\n",
       "      <td>ZombiU</td>\n",
       "      <td>XOne</td>\n",
       "      <td>2016.0</td>\n",
       "      <td>Action</td>\n",
       "      <td>0.00</td>\n",
       "      <td>0.01</td>\n",
       "      <td>0.00</td>\n",
       "      <td>0.00</td>\n",
       "      <td>NaN</td>\n",
       "      <td>NaN</td>\n",
       "      <td>RP</td>\n",
       "      <td>0.01</td>\n",
       "    </tr>\n",
       "    <tr>\n",
       "      <th>16652</th>\n",
       "      <td>Fast Racing Neo</td>\n",
       "      <td>WiiU</td>\n",
       "      <td>2016.0</td>\n",
       "      <td>Action</td>\n",
       "      <td>0.00</td>\n",
       "      <td>0.01</td>\n",
       "      <td>0.00</td>\n",
       "      <td>0.00</td>\n",
       "      <td>81.0</td>\n",
       "      <td>8.5</td>\n",
       "      <td>E</td>\n",
       "      <td>0.01</td>\n",
       "    </tr>\n",
       "    <tr>\n",
       "      <th>16660</th>\n",
       "      <td>Prison Architect</td>\n",
       "      <td>XOne</td>\n",
       "      <td>2016.0</td>\n",
       "      <td>Action</td>\n",
       "      <td>0.01</td>\n",
       "      <td>0.00</td>\n",
       "      <td>0.00</td>\n",
       "      <td>0.00</td>\n",
       "      <td>74.0</td>\n",
       "      <td>6.7</td>\n",
       "      <td>RP</td>\n",
       "      <td>0.01</td>\n",
       "    </tr>\n",
       "    <tr>\n",
       "      <th>16672</th>\n",
       "      <td>Metal Gear Solid V: The Definitive Experience</td>\n",
       "      <td>XOne</td>\n",
       "      <td>2016.0</td>\n",
       "      <td>Action</td>\n",
       "      <td>0.01</td>\n",
       "      <td>0.00</td>\n",
       "      <td>0.00</td>\n",
       "      <td>0.00</td>\n",
       "      <td>NaN</td>\n",
       "      <td>NaN</td>\n",
       "      <td>M</td>\n",
       "      <td>0.01</td>\n",
       "    </tr>\n",
       "  </tbody>\n",
       "</table>\n",
       "<p>423 rows × 12 columns</p>\n",
       "</div>"
      ],
      "text/plain": [
       "                                                name platform  \\\n",
       "99                         Call of Duty: Black Ops 3     XOne   \n",
       "110                                     Mario Kart 8     WiiU   \n",
       "165                               Grand Theft Auto V     XOne   \n",
       "179                   Call of Duty: Advanced Warfare     XOne   \n",
       "216              Super Smash Bros. for Wii U and 3DS     WiiU   \n",
       "...                                              ...      ...   \n",
       "16643                              Rugby Challenge 3     XOne   \n",
       "16645                                         ZombiU     XOne   \n",
       "16652                               Fast Racing Neo      WiiU   \n",
       "16660                               Prison Architect     XOne   \n",
       "16672  Metal Gear Solid V: The Definitive Experience     XOne   \n",
       "\n",
       "       year_of_release     genre  na_sales  eu_sales  jp_sales  other_sales  \\\n",
       "99              2015.0   Shooter      4.59      2.11      0.01         0.68   \n",
       "110             2014.0    Racing      3.15      2.15      1.28         0.51   \n",
       "165             2014.0    Action      2.81      2.19      0.00         0.47   \n",
       "179             2014.0   Shooter      3.22      1.55      0.01         0.48   \n",
       "216             2014.0  Fighting      2.60      1.08      0.81         0.38   \n",
       "...                ...       ...       ...       ...       ...          ...   \n",
       "16643           2016.0    Sports      0.00      0.01      0.00         0.00   \n",
       "16645           2016.0    Action      0.00      0.01      0.00         0.00   \n",
       "16652           2016.0    Action      0.00      0.01      0.00         0.00   \n",
       "16660           2016.0    Action      0.01      0.00      0.00         0.00   \n",
       "16672           2016.0    Action      0.01      0.00      0.00         0.00   \n",
       "\n",
       "       critic_score  user_score rating  total_sales  \n",
       "99              NaN         NaN     RP         7.39  \n",
       "110            88.0         9.1      E         7.09  \n",
       "165            97.0         7.9      M         5.47  \n",
       "179            81.0         5.4      M         5.26  \n",
       "216             NaN         NaN     RP         4.87  \n",
       "...             ...         ...    ...          ...  \n",
       "16643           NaN         6.6      E         0.01  \n",
       "16645           NaN         NaN     RP         0.01  \n",
       "16652          81.0         8.5      E         0.01  \n",
       "16660          74.0         6.7     RP         0.01  \n",
       "16672           NaN         NaN      M         0.01  \n",
       "\n",
       "[423 rows x 12 columns]"
      ]
     },
     "metadata": {},
     "output_type": "display_data"
    }
   ],
   "source": [
    "top_platform = df_total.query('platform == [\"XOne\", \"WiiU\", \"X360\", \"Wii\"]')\n",
    "display(top_platform)\n",
    "# срез по лидерам платформ"
   ]
  },
  {
   "cell_type": "code",
   "execution_count": 40,
   "metadata": {},
   "outputs": [
    {
     "data": {
      "text/html": [
       "<div>\n",
       "<style scoped>\n",
       "    .dataframe tbody tr th:only-of-type {\n",
       "        vertical-align: middle;\n",
       "    }\n",
       "\n",
       "    .dataframe tbody tr th {\n",
       "        vertical-align: top;\n",
       "    }\n",
       "\n",
       "    .dataframe thead th {\n",
       "        text-align: right;\n",
       "    }\n",
       "</style>\n",
       "<table border=\"1\" class=\"dataframe\">\n",
       "  <thead>\n",
       "    <tr style=\"text-align: right;\">\n",
       "      <th></th>\n",
       "      <th>platform</th>\n",
       "      <th>level_1</th>\n",
       "      <th>critic_score</th>\n",
       "      <th>total_sales</th>\n",
       "      <th>user_score</th>\n",
       "    </tr>\n",
       "  </thead>\n",
       "  <tbody>\n",
       "    <tr>\n",
       "      <th>0</th>\n",
       "      <td>Wii</td>\n",
       "      <td>user_score</td>\n",
       "      <td>NaN</td>\n",
       "      <td>1.000000</td>\n",
       "      <td>1.000000</td>\n",
       "    </tr>\n",
       "    <tr>\n",
       "      <th>1</th>\n",
       "      <td>Wii</td>\n",
       "      <td>total_sales</td>\n",
       "      <td>NaN</td>\n",
       "      <td>1.000000</td>\n",
       "      <td>1.000000</td>\n",
       "    </tr>\n",
       "    <tr>\n",
       "      <th>2</th>\n",
       "      <td>WiiU</td>\n",
       "      <td>critic_score</td>\n",
       "      <td>1.000000</td>\n",
       "      <td>0.370201</td>\n",
       "      <td>0.763536</td>\n",
       "    </tr>\n",
       "    <tr>\n",
       "      <th>3</th>\n",
       "      <td>WiiU</td>\n",
       "      <td>user_score</td>\n",
       "      <td>0.763536</td>\n",
       "      <td>0.407926</td>\n",
       "      <td>1.000000</td>\n",
       "    </tr>\n",
       "    <tr>\n",
       "      <th>4</th>\n",
       "      <td>WiiU</td>\n",
       "      <td>total_sales</td>\n",
       "      <td>0.370201</td>\n",
       "      <td>1.000000</td>\n",
       "      <td>0.407926</td>\n",
       "    </tr>\n",
       "    <tr>\n",
       "      <th>5</th>\n",
       "      <td>X360</td>\n",
       "      <td>critic_score</td>\n",
       "      <td>1.000000</td>\n",
       "      <td>0.525723</td>\n",
       "      <td>0.625309</td>\n",
       "    </tr>\n",
       "    <tr>\n",
       "      <th>6</th>\n",
       "      <td>X360</td>\n",
       "      <td>user_score</td>\n",
       "      <td>0.625309</td>\n",
       "      <td>-0.138445</td>\n",
       "      <td>1.000000</td>\n",
       "    </tr>\n",
       "    <tr>\n",
       "      <th>7</th>\n",
       "      <td>X360</td>\n",
       "      <td>total_sales</td>\n",
       "      <td>0.525723</td>\n",
       "      <td>1.000000</td>\n",
       "      <td>-0.138445</td>\n",
       "    </tr>\n",
       "    <tr>\n",
       "      <th>8</th>\n",
       "      <td>XOne</td>\n",
       "      <td>critic_score</td>\n",
       "      <td>1.000000</td>\n",
       "      <td>0.428677</td>\n",
       "      <td>0.440977</td>\n",
       "    </tr>\n",
       "    <tr>\n",
       "      <th>9</th>\n",
       "      <td>XOne</td>\n",
       "      <td>user_score</td>\n",
       "      <td>0.440977</td>\n",
       "      <td>-0.070384</td>\n",
       "      <td>1.000000</td>\n",
       "    </tr>\n",
       "    <tr>\n",
       "      <th>10</th>\n",
       "      <td>XOne</td>\n",
       "      <td>total_sales</td>\n",
       "      <td>0.428677</td>\n",
       "      <td>1.000000</td>\n",
       "      <td>-0.070384</td>\n",
       "    </tr>\n",
       "  </tbody>\n",
       "</table>\n",
       "</div>"
      ],
      "text/plain": [
       "   platform       level_1  critic_score  total_sales  user_score\n",
       "0       Wii    user_score           NaN     1.000000    1.000000\n",
       "1       Wii   total_sales           NaN     1.000000    1.000000\n",
       "2      WiiU  critic_score      1.000000     0.370201    0.763536\n",
       "3      WiiU    user_score      0.763536     0.407926    1.000000\n",
       "4      WiiU   total_sales      0.370201     1.000000    0.407926\n",
       "5      X360  critic_score      1.000000     0.525723    0.625309\n",
       "6      X360    user_score      0.625309    -0.138445    1.000000\n",
       "7      X360   total_sales      0.525723     1.000000   -0.138445\n",
       "8      XOne  critic_score      1.000000     0.428677    0.440977\n",
       "9      XOne    user_score      0.440977    -0.070384    1.000000\n",
       "10     XOne   total_sales      0.428677     1.000000   -0.070384"
      ]
     },
     "execution_count": 40,
     "metadata": {},
     "output_type": "execute_result"
    }
   ],
   "source": [
    "top_platform.pivot_table(index='platform', values=['critic_score', 'user_score', 'total_sales'], aggfunc='corr').reset_index()"
   ]
  },
  {
   "cell_type": "markdown",
   "metadata": {},
   "source": [
    "**Вывод**\n",
    "\n",
    "По корреляции лидеров среди платформ видно, что продажи не зависят от оценок пользователей у X360, XOne, а есть зависимость от оценок критиков  у WiiU, X360, Xone."
   ]
  },
  {
   "cell_type": "code",
   "execution_count": 41,
   "metadata": {},
   "outputs": [
    {
     "data": {
      "image/png": "[encoded data removed]",
      "text/plain": [
       "<Figure size 576x432 with 1 Axes>"
      ]
     },
     "metadata": {
      "needs_background": "light"
     },
     "output_type": "display_data"
    }
   ],
   "source": [
    "top_platform.plot(kind='scatter', x='user_score', y='total_sales', figsize=(8, 6),alpha=0.3)\n",
    "plt.show()"
   ]
  },
  {
   "cell_type": "code",
   "execution_count": 42,
   "metadata": {},
   "outputs": [
    {
     "data": {
      "image/png": "[encoded data removed]",
      "text/plain": [
       "<Figure size 576x432 with 1 Axes>"
      ]
     },
     "metadata": {
      "needs_background": "light"
     },
     "output_type": "display_data"
    }
   ],
   "source": [
    "top_platform.plot(kind='scatter', x='critic_score', y='total_sales', figsize=(8, 6),alpha=0.3)\n",
    "plt.show()"
   ]
  },
  {
   "cell_type": "markdown",
   "metadata": {},
   "source": [
    "**Вывод**\n",
    "\n",
    "Распределение продаж среди лидеров по оценкам критиков.Основные продажи находятся в пределах, когда игры имеют оценки 45-90."
   ]
  },
  {
   "cell_type": "code",
   "execution_count": 43,
   "metadata": {
    "scrolled": true
   },
   "outputs": [
    {
     "data": {
      "text/html": [
       "<div>\n",
       "<style scoped>\n",
       "    .dataframe tbody tr th:only-of-type {\n",
       "        vertical-align: middle;\n",
       "    }\n",
       "\n",
       "    .dataframe tbody tr th {\n",
       "        vertical-align: top;\n",
       "    }\n",
       "\n",
       "    .dataframe thead th {\n",
       "        text-align: right;\n",
       "    }\n",
       "</style>\n",
       "<table border=\"1\" class=\"dataframe\">\n",
       "  <thead>\n",
       "    <tr style=\"text-align: right;\">\n",
       "      <th></th>\n",
       "      <th>genre</th>\n",
       "      <th>median</th>\n",
       "      <th>sum</th>\n",
       "    </tr>\n",
       "  </thead>\n",
       "  <tbody>\n",
       "    <tr>\n",
       "      <th>0</th>\n",
       "      <td>Shooter</td>\n",
       "      <td>0.515</td>\n",
       "      <td>170.94</td>\n",
       "    </tr>\n",
       "    <tr>\n",
       "      <th>1</th>\n",
       "      <td>Sports</td>\n",
       "      <td>0.180</td>\n",
       "      <td>109.48</td>\n",
       "    </tr>\n",
       "    <tr>\n",
       "      <th>2</th>\n",
       "      <td>Platform</td>\n",
       "      <td>0.140</td>\n",
       "      <td>18.09</td>\n",
       "    </tr>\n",
       "    <tr>\n",
       "      <th>3</th>\n",
       "      <td>Fighting</td>\n",
       "      <td>0.125</td>\n",
       "      <td>28.22</td>\n",
       "    </tr>\n",
       "    <tr>\n",
       "      <th>4</th>\n",
       "      <td>Role-Playing</td>\n",
       "      <td>0.110</td>\n",
       "      <td>101.44</td>\n",
       "    </tr>\n",
       "    <tr>\n",
       "      <th>5</th>\n",
       "      <td>Simulation</td>\n",
       "      <td>0.100</td>\n",
       "      <td>13.13</td>\n",
       "    </tr>\n",
       "    <tr>\n",
       "      <th>6</th>\n",
       "      <td>Action</td>\n",
       "      <td>0.090</td>\n",
       "      <td>199.36</td>\n",
       "    </tr>\n",
       "    <tr>\n",
       "      <th>7</th>\n",
       "      <td>Misc</td>\n",
       "      <td>0.090</td>\n",
       "      <td>37.55</td>\n",
       "    </tr>\n",
       "    <tr>\n",
       "      <th>8</th>\n",
       "      <td>Racing</td>\n",
       "      <td>0.090</td>\n",
       "      <td>27.52</td>\n",
       "    </tr>\n",
       "    <tr>\n",
       "      <th>9</th>\n",
       "      <td>Strategy</td>\n",
       "      <td>0.060</td>\n",
       "      <td>3.96</td>\n",
       "    </tr>\n",
       "    <tr>\n",
       "      <th>10</th>\n",
       "      <td>Puzzle</td>\n",
       "      <td>0.045</td>\n",
       "      <td>2.21</td>\n",
       "    </tr>\n",
       "    <tr>\n",
       "      <th>11</th>\n",
       "      <td>Adventure</td>\n",
       "      <td>0.030</td>\n",
       "      <td>17.55</td>\n",
       "    </tr>\n",
       "  </tbody>\n",
       "</table>\n",
       "</div>"
      ],
      "text/plain": [
       "           genre  median     sum\n",
       "0        Shooter   0.515  170.94\n",
       "1         Sports   0.180  109.48\n",
       "2       Platform   0.140   18.09\n",
       "3       Fighting   0.125   28.22\n",
       "4   Role-Playing   0.110  101.44\n",
       "5     Simulation   0.100   13.13\n",
       "6         Action   0.090  199.36\n",
       "7           Misc   0.090   37.55\n",
       "8         Racing   0.090   27.52\n",
       "9       Strategy   0.060    3.96\n",
       "10        Puzzle   0.045    2.21\n",
       "11     Adventure   0.030   17.55"
      ]
     },
     "metadata": {},
     "output_type": "display_data"
    }
   ],
   "source": [
    "df_total_genre = (df_total\n",
    "                  .groupby('genre')['total_sales']\n",
    "                  .agg(['median', 'sum'])\n",
    "                  .sort_values(by='median', ascending=False)\n",
    "                  .reset_index())\n",
    "display(df_total_genre)\n",
    "# продажи по жанрам "
   ]
  },
  {
   "cell_type": "markdown",
   "metadata": {},
   "source": [
    "**Вывод**\n",
    "\n",
    "Самые популярные жанры игр , исходя из данных по медиане Shooter, Sports, Platform, Fighting."
   ]
  },
  {
   "cell_type": "markdown",
   "metadata": {},
   "source": [
    "## Исследовательский анализ"
   ]
  },
  {
   "cell_type": "code",
   "execution_count": 44,
   "metadata": {},
   "outputs": [
    {
     "data": {
      "text/html": [
       "<div>\n",
       "<style scoped>\n",
       "    .dataframe tbody tr th:only-of-type {\n",
       "        vertical-align: middle;\n",
       "    }\n",
       "\n",
       "    .dataframe tbody tr th {\n",
       "        vertical-align: top;\n",
       "    }\n",
       "\n",
       "    .dataframe thead th {\n",
       "        text-align: right;\n",
       "    }\n",
       "</style>\n",
       "<table border=\"1\" class=\"dataframe\">\n",
       "  <thead>\n",
       "    <tr style=\"text-align: right;\">\n",
       "      <th></th>\n",
       "      <th>platform</th>\n",
       "      <th>na_sales</th>\n",
       "    </tr>\n",
       "  </thead>\n",
       "  <tbody>\n",
       "    <tr>\n",
       "      <th>0</th>\n",
       "      <td>PS4</td>\n",
       "      <td>98.61</td>\n",
       "    </tr>\n",
       "    <tr>\n",
       "      <th>1</th>\n",
       "      <td>XOne</td>\n",
       "      <td>81.27</td>\n",
       "    </tr>\n",
       "    <tr>\n",
       "      <th>2</th>\n",
       "      <td>X360</td>\n",
       "      <td>28.30</td>\n",
       "    </tr>\n",
       "    <tr>\n",
       "      <th>3</th>\n",
       "      <td>3DS</td>\n",
       "      <td>22.64</td>\n",
       "    </tr>\n",
       "    <tr>\n",
       "      <th>4</th>\n",
       "      <td>PS3</td>\n",
       "      <td>22.05</td>\n",
       "    </tr>\n",
       "    <tr>\n",
       "      <th>5</th>\n",
       "      <td>WiiU</td>\n",
       "      <td>19.36</td>\n",
       "    </tr>\n",
       "    <tr>\n",
       "      <th>6</th>\n",
       "      <td>PC</td>\n",
       "      <td>7.23</td>\n",
       "    </tr>\n",
       "    <tr>\n",
       "      <th>7</th>\n",
       "      <td>PSV</td>\n",
       "      <td>2.52</td>\n",
       "    </tr>\n",
       "    <tr>\n",
       "      <th>8</th>\n",
       "      <td>Wii</td>\n",
       "      <td>2.08</td>\n",
       "    </tr>\n",
       "    <tr>\n",
       "      <th>9</th>\n",
       "      <td>PSP</td>\n",
       "      <td>0.00</td>\n",
       "    </tr>\n",
       "  </tbody>\n",
       "</table>\n",
       "</div>"
      ],
      "text/plain": [
       "  platform  na_sales\n",
       "0      PS4     98.61\n",
       "1     XOne     81.27\n",
       "2     X360     28.30\n",
       "3      3DS     22.64\n",
       "4      PS3     22.05\n",
       "5     WiiU     19.36\n",
       "6       PC      7.23\n",
       "7      PSV      2.52\n",
       "8      Wii      2.08\n",
       "9      PSP      0.00"
      ]
     },
     "metadata": {},
     "output_type": "display_data"
    },
    {
     "data": {
      "image/png": "[encoded data removed]",
      "text/plain": [
       "<Figure size 576x432 with 1 Axes>"
      ]
     },
     "metadata": {},
     "output_type": "display_data"
    }
   ],
   "source": [
    "na_platform = (df_total.pivot_table(index='platform', values='na_sales', aggfunc='sum')\n",
    "                                     .sort_values(by='na_sales', ascending=False).reset_index())\n",
    "display(na_platform)\n",
    "\n",
    "fig, ax = plt.subplots(figsize=(8,6))\n",
    "ax.pie(na_platform.na_sales, labels=na_platform.platform, autopct='%1.1f%%')\n",
    "ax.axis(\"equal\")\n",
    "plt.show()\n",
    "# популярные платформы по регионам"
   ]
  },
  {
   "cell_type": "markdown",
   "metadata": {},
   "source": [
    "**Вывод**\n",
    "\n",
    "В американском регионе большая часть игр на двух платформах PS4, Xone."
   ]
  },
  {
   "cell_type": "code",
   "execution_count": 45,
   "metadata": {},
   "outputs": [
    {
     "data": {
      "text/html": [
       "<div>\n",
       "<style scoped>\n",
       "    .dataframe tbody tr th:only-of-type {\n",
       "        vertical-align: middle;\n",
       "    }\n",
       "\n",
       "    .dataframe tbody tr th {\n",
       "        vertical-align: top;\n",
       "    }\n",
       "\n",
       "    .dataframe thead th {\n",
       "        text-align: right;\n",
       "    }\n",
       "</style>\n",
       "<table border=\"1\" class=\"dataframe\">\n",
       "  <thead>\n",
       "    <tr style=\"text-align: right;\">\n",
       "      <th></th>\n",
       "      <th>platform</th>\n",
       "      <th>eu_sales</th>\n",
       "    </tr>\n",
       "  </thead>\n",
       "  <tbody>\n",
       "    <tr>\n",
       "      <th>0</th>\n",
       "      <td>PS4</td>\n",
       "      <td>130.04</td>\n",
       "    </tr>\n",
       "    <tr>\n",
       "      <th>1</th>\n",
       "      <td>XOne</td>\n",
       "      <td>46.25</td>\n",
       "    </tr>\n",
       "    <tr>\n",
       "      <th>2</th>\n",
       "      <td>PS3</td>\n",
       "      <td>25.54</td>\n",
       "    </tr>\n",
       "    <tr>\n",
       "      <th>3</th>\n",
       "      <td>PC</td>\n",
       "      <td>17.97</td>\n",
       "    </tr>\n",
       "    <tr>\n",
       "      <th>4</th>\n",
       "      <td>3DS</td>\n",
       "      <td>16.12</td>\n",
       "    </tr>\n",
       "    <tr>\n",
       "      <th>5</th>\n",
       "      <td>X360</td>\n",
       "      <td>15.49</td>\n",
       "    </tr>\n",
       "    <tr>\n",
       "      <th>6</th>\n",
       "      <td>WiiU</td>\n",
       "      <td>13.15</td>\n",
       "    </tr>\n",
       "    <tr>\n",
       "      <th>7</th>\n",
       "      <td>PSV</td>\n",
       "      <td>3.53</td>\n",
       "    </tr>\n",
       "    <tr>\n",
       "      <th>8</th>\n",
       "      <td>Wii</td>\n",
       "      <td>2.59</td>\n",
       "    </tr>\n",
       "    <tr>\n",
       "      <th>9</th>\n",
       "      <td>PSP</td>\n",
       "      <td>0.00</td>\n",
       "    </tr>\n",
       "  </tbody>\n",
       "</table>\n",
       "</div>"
      ],
      "text/plain": [
       "  platform  eu_sales\n",
       "0      PS4    130.04\n",
       "1     XOne     46.25\n",
       "2      PS3     25.54\n",
       "3       PC     17.97\n",
       "4      3DS     16.12\n",
       "5     X360     15.49\n",
       "6     WiiU     13.15\n",
       "7      PSV      3.53\n",
       "8      Wii      2.59\n",
       "9      PSP      0.00"
      ]
     },
     "metadata": {},
     "output_type": "display_data"
    },
    {
     "data": {
      "image/png": "[encoded data removed]",
      "text/plain": [
       "<Figure size 576x432 with 1 Axes>"
      ]
     },
     "metadata": {},
     "output_type": "display_data"
    }
   ],
   "source": [
    "eu_platform = (df_total.pivot_table(index='platform', values='eu_sales', aggfunc='sum')\n",
    "                                     .sort_values(by='eu_sales', ascending=False).reset_index())\n",
    "display(eu_platform)\n",
    "fig, ax = plt.subplots(figsize=(8,6))\n",
    "ax.pie(eu_platform.eu_sales, labels=eu_platform.platform, autopct='%1.1f%%')\n",
    "ax.axis(\"equal\")\n",
    "plt.show()"
   ]
  },
  {
   "cell_type": "markdown",
   "metadata": {},
   "source": [
    "**Вывод**\n",
    "\n",
    "В европейском регионе почти 50 % занимает платформа PS4 и 17% XOne."
   ]
  },
  {
   "cell_type": "code",
   "execution_count": 46,
   "metadata": {},
   "outputs": [
    {
     "data": {
      "text/html": [
       "<div>\n",
       "<style scoped>\n",
       "    .dataframe tbody tr th:only-of-type {\n",
       "        vertical-align: middle;\n",
       "    }\n",
       "\n",
       "    .dataframe tbody tr th {\n",
       "        vertical-align: top;\n",
       "    }\n",
       "\n",
       "    .dataframe thead th {\n",
       "        text-align: right;\n",
       "    }\n",
       "</style>\n",
       "<table border=\"1\" class=\"dataframe\">\n",
       "  <thead>\n",
       "    <tr style=\"text-align: right;\">\n",
       "      <th></th>\n",
       "      <th>platform</th>\n",
       "      <th>jp_sales</th>\n",
       "    </tr>\n",
       "  </thead>\n",
       "  <tbody>\n",
       "    <tr>\n",
       "      <th>0</th>\n",
       "      <td>3DS</td>\n",
       "      <td>44.24</td>\n",
       "    </tr>\n",
       "    <tr>\n",
       "      <th>1</th>\n",
       "      <td>PS4</td>\n",
       "      <td>15.02</td>\n",
       "    </tr>\n",
       "    <tr>\n",
       "      <th>2</th>\n",
       "      <td>PSV</td>\n",
       "      <td>14.54</td>\n",
       "    </tr>\n",
       "    <tr>\n",
       "      <th>3</th>\n",
       "      <td>PS3</td>\n",
       "      <td>11.22</td>\n",
       "    </tr>\n",
       "    <tr>\n",
       "      <th>4</th>\n",
       "      <td>WiiU</td>\n",
       "      <td>7.31</td>\n",
       "    </tr>\n",
       "    <tr>\n",
       "      <th>5</th>\n",
       "      <td>PSP</td>\n",
       "      <td>0.36</td>\n",
       "    </tr>\n",
       "    <tr>\n",
       "      <th>6</th>\n",
       "      <td>XOne</td>\n",
       "      <td>0.32</td>\n",
       "    </tr>\n",
       "    <tr>\n",
       "      <th>7</th>\n",
       "      <td>X360</td>\n",
       "      <td>0.08</td>\n",
       "    </tr>\n",
       "    <tr>\n",
       "      <th>8</th>\n",
       "      <td>PC</td>\n",
       "      <td>0.00</td>\n",
       "    </tr>\n",
       "    <tr>\n",
       "      <th>9</th>\n",
       "      <td>Wii</td>\n",
       "      <td>0.00</td>\n",
       "    </tr>\n",
       "  </tbody>\n",
       "</table>\n",
       "</div>"
      ],
      "text/plain": [
       "  platform  jp_sales\n",
       "0      3DS     44.24\n",
       "1      PS4     15.02\n",
       "2      PSV     14.54\n",
       "3      PS3     11.22\n",
       "4     WiiU      7.31\n",
       "5      PSP      0.36\n",
       "6     XOne      0.32\n",
       "7     X360      0.08\n",
       "8       PC      0.00\n",
       "9      Wii      0.00"
      ]
     },
     "metadata": {},
     "output_type": "display_data"
    },
    {
     "data": {
      "image/png": "[encoded data removed]",
      "text/plain": [
       "<Figure size 576x432 with 1 Axes>"
      ]
     },
     "metadata": {},
     "output_type": "display_data"
    }
   ],
   "source": [
    "jp_platform = (df_total.pivot_table(index='platform', values='jp_sales', aggfunc='sum')\n",
    "                                     .sort_values(by='jp_sales', ascending=False).reset_index())\n",
    "display(jp_platform)\n",
    "fig, ax = plt.subplots(figsize=(8,6))\n",
    "ax.pie(jp_platform.jp_sales, labels=jp_platform.platform, autopct='%1.1f%%')\n",
    "ax.axis(\"equal\")\n",
    "plt.show()"
   ]
  },
  {
   "cell_type": "markdown",
   "metadata": {},
   "source": [
    "**Вывод**\n",
    "\n",
    "В японском регионе лидер среди платформ(почти половина) 3DS и 16,1 всего PS4"
   ]
  },
  {
   "cell_type": "code",
   "execution_count": 47,
   "metadata": {},
   "outputs": [
    {
     "data": {
      "text/html": [
       "<div>\n",
       "<style scoped>\n",
       "    .dataframe tbody tr th:only-of-type {\n",
       "        vertical-align: middle;\n",
       "    }\n",
       "\n",
       "    .dataframe tbody tr th {\n",
       "        vertical-align: top;\n",
       "    }\n",
       "\n",
       "    .dataframe thead th {\n",
       "        text-align: right;\n",
       "    }\n",
       "</style>\n",
       "<table border=\"1\" class=\"dataframe\">\n",
       "  <thead>\n",
       "    <tr style=\"text-align: right;\">\n",
       "      <th></th>\n",
       "      <th>genre</th>\n",
       "      <th>na_sales</th>\n",
       "    </tr>\n",
       "  </thead>\n",
       "  <tbody>\n",
       "    <tr>\n",
       "      <th>0</th>\n",
       "      <td>Shooter</td>\n",
       "      <td>0.220</td>\n",
       "    </tr>\n",
       "    <tr>\n",
       "      <th>1</th>\n",
       "      <td>Platform</td>\n",
       "      <td>0.075</td>\n",
       "    </tr>\n",
       "    <tr>\n",
       "      <th>2</th>\n",
       "      <td>Sports</td>\n",
       "      <td>0.070</td>\n",
       "    </tr>\n",
       "    <tr>\n",
       "      <th>3</th>\n",
       "      <td>Fighting</td>\n",
       "      <td>0.040</td>\n",
       "    </tr>\n",
       "    <tr>\n",
       "      <th>4</th>\n",
       "      <td>Racing</td>\n",
       "      <td>0.030</td>\n",
       "    </tr>\n",
       "    <tr>\n",
       "      <th>5</th>\n",
       "      <td>Role-Playing</td>\n",
       "      <td>0.020</td>\n",
       "    </tr>\n",
       "    <tr>\n",
       "      <th>6</th>\n",
       "      <td>Action</td>\n",
       "      <td>0.010</td>\n",
       "    </tr>\n",
       "    <tr>\n",
       "      <th>7</th>\n",
       "      <td>Misc</td>\n",
       "      <td>0.010</td>\n",
       "    </tr>\n",
       "    <tr>\n",
       "      <th>8</th>\n",
       "      <td>Adventure</td>\n",
       "      <td>0.000</td>\n",
       "    </tr>\n",
       "    <tr>\n",
       "      <th>9</th>\n",
       "      <td>Puzzle</td>\n",
       "      <td>0.000</td>\n",
       "    </tr>\n",
       "    <tr>\n",
       "      <th>10</th>\n",
       "      <td>Simulation</td>\n",
       "      <td>0.000</td>\n",
       "    </tr>\n",
       "    <tr>\n",
       "      <th>11</th>\n",
       "      <td>Strategy</td>\n",
       "      <td>0.000</td>\n",
       "    </tr>\n",
       "  </tbody>\n",
       "</table>\n",
       "</div>"
      ],
      "text/plain": [
       "           genre  na_sales\n",
       "0        Shooter     0.220\n",
       "1       Platform     0.075\n",
       "2         Sports     0.070\n",
       "3       Fighting     0.040\n",
       "4         Racing     0.030\n",
       "5   Role-Playing     0.020\n",
       "6         Action     0.010\n",
       "7           Misc     0.010\n",
       "8      Adventure     0.000\n",
       "9         Puzzle     0.000\n",
       "10    Simulation     0.000\n",
       "11      Strategy     0.000"
      ]
     },
     "metadata": {},
     "output_type": "display_data"
    },
    {
     "data": {
      "text/html": [
       "<div>\n",
       "<style scoped>\n",
       "    .dataframe tbody tr th:only-of-type {\n",
       "        vertical-align: middle;\n",
       "    }\n",
       "\n",
       "    .dataframe tbody tr th {\n",
       "        vertical-align: top;\n",
       "    }\n",
       "\n",
       "    .dataframe thead th {\n",
       "        text-align: right;\n",
       "    }\n",
       "</style>\n",
       "<table border=\"1\" class=\"dataframe\">\n",
       "  <thead>\n",
       "    <tr style=\"text-align: right;\">\n",
       "      <th></th>\n",
       "      <th>genre</th>\n",
       "      <th>eu_sales</th>\n",
       "    </tr>\n",
       "  </thead>\n",
       "  <tbody>\n",
       "    <tr>\n",
       "      <th>0</th>\n",
       "      <td>Shooter</td>\n",
       "      <td>0.220</td>\n",
       "    </tr>\n",
       "    <tr>\n",
       "      <th>1</th>\n",
       "      <td>Platform</td>\n",
       "      <td>0.055</td>\n",
       "    </tr>\n",
       "    <tr>\n",
       "      <th>2</th>\n",
       "      <td>Racing</td>\n",
       "      <td>0.050</td>\n",
       "    </tr>\n",
       "    <tr>\n",
       "      <th>3</th>\n",
       "      <td>Sports</td>\n",
       "      <td>0.050</td>\n",
       "    </tr>\n",
       "    <tr>\n",
       "      <th>4</th>\n",
       "      <td>Simulation</td>\n",
       "      <td>0.030</td>\n",
       "    </tr>\n",
       "    <tr>\n",
       "      <th>5</th>\n",
       "      <td>Action</td>\n",
       "      <td>0.020</td>\n",
       "    </tr>\n",
       "    <tr>\n",
       "      <th>6</th>\n",
       "      <td>Fighting</td>\n",
       "      <td>0.020</td>\n",
       "    </tr>\n",
       "    <tr>\n",
       "      <th>7</th>\n",
       "      <td>Misc</td>\n",
       "      <td>0.010</td>\n",
       "    </tr>\n",
       "    <tr>\n",
       "      <th>8</th>\n",
       "      <td>Role-Playing</td>\n",
       "      <td>0.010</td>\n",
       "    </tr>\n",
       "    <tr>\n",
       "      <th>9</th>\n",
       "      <td>Strategy</td>\n",
       "      <td>0.010</td>\n",
       "    </tr>\n",
       "    <tr>\n",
       "      <th>10</th>\n",
       "      <td>Adventure</td>\n",
       "      <td>0.000</td>\n",
       "    </tr>\n",
       "    <tr>\n",
       "      <th>11</th>\n",
       "      <td>Puzzle</td>\n",
       "      <td>0.000</td>\n",
       "    </tr>\n",
       "  </tbody>\n",
       "</table>\n",
       "</div>"
      ],
      "text/plain": [
       "           genre  eu_sales\n",
       "0        Shooter     0.220\n",
       "1       Platform     0.055\n",
       "2         Racing     0.050\n",
       "3         Sports     0.050\n",
       "4     Simulation     0.030\n",
       "5         Action     0.020\n",
       "6       Fighting     0.020\n",
       "7           Misc     0.010\n",
       "8   Role-Playing     0.010\n",
       "9       Strategy     0.010\n",
       "10     Adventure     0.000\n",
       "11        Puzzle     0.000"
      ]
     },
     "metadata": {},
     "output_type": "display_data"
    },
    {
     "data": {
      "text/html": [
       "<div>\n",
       "<style scoped>\n",
       "    .dataframe tbody tr th:only-of-type {\n",
       "        vertical-align: middle;\n",
       "    }\n",
       "\n",
       "    .dataframe tbody tr th {\n",
       "        vertical-align: top;\n",
       "    }\n",
       "\n",
       "    .dataframe thead th {\n",
       "        text-align: right;\n",
       "    }\n",
       "</style>\n",
       "<table border=\"1\" class=\"dataframe\">\n",
       "  <thead>\n",
       "    <tr style=\"text-align: right;\">\n",
       "      <th></th>\n",
       "      <th>genre</th>\n",
       "      <th>jp_sales</th>\n",
       "    </tr>\n",
       "  </thead>\n",
       "  <tbody>\n",
       "    <tr>\n",
       "      <th>0</th>\n",
       "      <td>Role-Playing</td>\n",
       "      <td>0.05</td>\n",
       "    </tr>\n",
       "    <tr>\n",
       "      <th>1</th>\n",
       "      <td>Fighting</td>\n",
       "      <td>0.03</td>\n",
       "    </tr>\n",
       "    <tr>\n",
       "      <th>2</th>\n",
       "      <td>Puzzle</td>\n",
       "      <td>0.03</td>\n",
       "    </tr>\n",
       "    <tr>\n",
       "      <th>3</th>\n",
       "      <td>Action</td>\n",
       "      <td>0.01</td>\n",
       "    </tr>\n",
       "    <tr>\n",
       "      <th>4</th>\n",
       "      <td>Adventure</td>\n",
       "      <td>0.01</td>\n",
       "    </tr>\n",
       "    <tr>\n",
       "      <th>5</th>\n",
       "      <td>Misc</td>\n",
       "      <td>0.01</td>\n",
       "    </tr>\n",
       "    <tr>\n",
       "      <th>6</th>\n",
       "      <td>Platform</td>\n",
       "      <td>0.00</td>\n",
       "    </tr>\n",
       "    <tr>\n",
       "      <th>7</th>\n",
       "      <td>Racing</td>\n",
       "      <td>0.00</td>\n",
       "    </tr>\n",
       "    <tr>\n",
       "      <th>8</th>\n",
       "      <td>Shooter</td>\n",
       "      <td>0.00</td>\n",
       "    </tr>\n",
       "    <tr>\n",
       "      <th>9</th>\n",
       "      <td>Simulation</td>\n",
       "      <td>0.00</td>\n",
       "    </tr>\n",
       "    <tr>\n",
       "      <th>10</th>\n",
       "      <td>Sports</td>\n",
       "      <td>0.00</td>\n",
       "    </tr>\n",
       "    <tr>\n",
       "      <th>11</th>\n",
       "      <td>Strategy</td>\n",
       "      <td>0.00</td>\n",
       "    </tr>\n",
       "  </tbody>\n",
       "</table>\n",
       "</div>"
      ],
      "text/plain": [
       "           genre  jp_sales\n",
       "0   Role-Playing      0.05\n",
       "1       Fighting      0.03\n",
       "2         Puzzle      0.03\n",
       "3         Action      0.01\n",
       "4      Adventure      0.01\n",
       "5           Misc      0.01\n",
       "6       Platform      0.00\n",
       "7         Racing      0.00\n",
       "8        Shooter      0.00\n",
       "9     Simulation      0.00\n",
       "10        Sports      0.00\n",
       "11      Strategy      0.00"
      ]
     },
     "metadata": {},
     "output_type": "display_data"
    }
   ],
   "source": [
    "na_genre = (df_total.pivot_table(index='genre', values='na_sales', aggfunc='median')\n",
    "                                     .sort_values(by='na_sales', ascending=False).reset_index())\n",
    "eu_genre = (df_total.pivot_table(index='genre', values='eu_sales', aggfunc='median')\n",
    "                                     .sort_values(by='eu_sales', ascending=False).reset_index())\n",
    "jp_genre = (df_total.pivot_table(index='genre', values='jp_sales', aggfunc='median')\n",
    "                                     .sort_values(by='jp_sales', ascending=False).reset_index())\n",
    "display(na_genre, eu_genre, jp_genre)\n",
    "# популярные жанры по регионам"
   ]
  },
  {
   "cell_type": "markdown",
   "metadata": {},
   "source": [
    "**Вывод**\n",
    "\n",
    "В американском и европейском регионам лидеры среди жанров Action, Shooter, Sports.В японском регионе лидеры Role-Playing, Action, Fighting."
   ]
  },
  {
   "cell_type": "code",
   "execution_count": 48,
   "metadata": {},
   "outputs": [
    {
     "data": {
      "text/html": [
       "<div>\n",
       "<style scoped>\n",
       "    .dataframe tbody tr th:only-of-type {\n",
       "        vertical-align: middle;\n",
       "    }\n",
       "\n",
       "    .dataframe tbody tr th {\n",
       "        vertical-align: top;\n",
       "    }\n",
       "\n",
       "    .dataframe thead th {\n",
       "        text-align: right;\n",
       "    }\n",
       "</style>\n",
       "<table border=\"1\" class=\"dataframe\">\n",
       "  <thead>\n",
       "    <tr style=\"text-align: right;\">\n",
       "      <th></th>\n",
       "      <th>rating</th>\n",
       "      <th>na_sales</th>\n",
       "    </tr>\n",
       "  </thead>\n",
       "  <tbody>\n",
       "    <tr>\n",
       "      <th>0</th>\n",
       "      <td>M</td>\n",
       "      <td>96.42</td>\n",
       "    </tr>\n",
       "    <tr>\n",
       "      <th>1</th>\n",
       "      <td>RP</td>\n",
       "      <td>64.72</td>\n",
       "    </tr>\n",
       "    <tr>\n",
       "      <th>2</th>\n",
       "      <td>E</td>\n",
       "      <td>50.74</td>\n",
       "    </tr>\n",
       "    <tr>\n",
       "      <th>3</th>\n",
       "      <td>T</td>\n",
       "      <td>38.95</td>\n",
       "    </tr>\n",
       "    <tr>\n",
       "      <th>4</th>\n",
       "      <td>E10+</td>\n",
       "      <td>33.23</td>\n",
       "    </tr>\n",
       "  </tbody>\n",
       "</table>\n",
       "</div>"
      ],
      "text/plain": [
       "  rating  na_sales\n",
       "0      M     96.42\n",
       "1     RP     64.72\n",
       "2      E     50.74\n",
       "3      T     38.95\n",
       "4   E10+     33.23"
      ]
     },
     "metadata": {},
     "output_type": "display_data"
    },
    {
     "data": {
      "text/html": [
       "<div>\n",
       "<style scoped>\n",
       "    .dataframe tbody tr th:only-of-type {\n",
       "        vertical-align: middle;\n",
       "    }\n",
       "\n",
       "    .dataframe tbody tr th {\n",
       "        vertical-align: top;\n",
       "    }\n",
       "\n",
       "    .dataframe thead th {\n",
       "        text-align: right;\n",
       "    }\n",
       "</style>\n",
       "<table border=\"1\" class=\"dataframe\">\n",
       "  <thead>\n",
       "    <tr style=\"text-align: right;\">\n",
       "      <th></th>\n",
       "      <th>rating</th>\n",
       "      <th>eu_sales</th>\n",
       "    </tr>\n",
       "  </thead>\n",
       "  <tbody>\n",
       "    <tr>\n",
       "      <th>0</th>\n",
       "      <td>M</td>\n",
       "      <td>93.44</td>\n",
       "    </tr>\n",
       "    <tr>\n",
       "      <th>1</th>\n",
       "      <td>RP</td>\n",
       "      <td>58.95</td>\n",
       "    </tr>\n",
       "    <tr>\n",
       "      <th>2</th>\n",
       "      <td>E</td>\n",
       "      <td>58.06</td>\n",
       "    </tr>\n",
       "    <tr>\n",
       "      <th>3</th>\n",
       "      <td>T</td>\n",
       "      <td>34.07</td>\n",
       "    </tr>\n",
       "    <tr>\n",
       "      <th>4</th>\n",
       "      <td>E10+</td>\n",
       "      <td>26.16</td>\n",
       "    </tr>\n",
       "  </tbody>\n",
       "</table>\n",
       "</div>"
      ],
      "text/plain": [
       "  rating  eu_sales\n",
       "0      M     93.44\n",
       "1     RP     58.95\n",
       "2      E     58.06\n",
       "3      T     34.07\n",
       "4   E10+     26.16"
      ]
     },
     "metadata": {},
     "output_type": "display_data"
    },
    {
     "data": {
      "text/html": [
       "<div>\n",
       "<style scoped>\n",
       "    .dataframe tbody tr th:only-of-type {\n",
       "        vertical-align: middle;\n",
       "    }\n",
       "\n",
       "    .dataframe tbody tr th {\n",
       "        vertical-align: top;\n",
       "    }\n",
       "\n",
       "    .dataframe thead th {\n",
       "        text-align: right;\n",
       "    }\n",
       "</style>\n",
       "<table border=\"1\" class=\"dataframe\">\n",
       "  <thead>\n",
       "    <tr style=\"text-align: right;\">\n",
       "      <th></th>\n",
       "      <th>rating</th>\n",
       "      <th>jp_sales</th>\n",
       "    </tr>\n",
       "  </thead>\n",
       "  <tbody>\n",
       "    <tr>\n",
       "      <th>0</th>\n",
       "      <td>RP</td>\n",
       "      <td>56.90</td>\n",
       "    </tr>\n",
       "    <tr>\n",
       "      <th>1</th>\n",
       "      <td>T</td>\n",
       "      <td>14.78</td>\n",
       "    </tr>\n",
       "    <tr>\n",
       "      <th>2</th>\n",
       "      <td>E</td>\n",
       "      <td>8.94</td>\n",
       "    </tr>\n",
       "    <tr>\n",
       "      <th>3</th>\n",
       "      <td>M</td>\n",
       "      <td>8.01</td>\n",
       "    </tr>\n",
       "    <tr>\n",
       "      <th>4</th>\n",
       "      <td>E10+</td>\n",
       "      <td>4.46</td>\n",
       "    </tr>\n",
       "  </tbody>\n",
       "</table>\n",
       "</div>"
      ],
      "text/plain": [
       "  rating  jp_sales\n",
       "0     RP     56.90\n",
       "1      T     14.78\n",
       "2      E      8.94\n",
       "3      M      8.01\n",
       "4   E10+      4.46"
      ]
     },
     "metadata": {},
     "output_type": "display_data"
    }
   ],
   "source": [
    "na_rating = (df_total.pivot_table(index='rating', values='na_sales', aggfunc='sum')\n",
    "                                     .sort_values(by='na_sales', ascending=False).reset_index())\n",
    "\n",
    "eu_rating = (df_total.pivot_table(index='rating', values='eu_sales', aggfunc='sum')\n",
    "                                     .sort_values(by='eu_sales', ascending=False).reset_index())\n",
    "jp_rating = (df_total.pivot_table(index='rating', values='jp_sales', aggfunc='sum')\n",
    "                                     .sort_values(by='jp_sales', ascending=False).reset_index())\n",
    "display(na_rating, eu_rating, jp_rating)\n",
    "# влияние рейтинга ESRB на продажи в регионах"
   ]
  },
  {
   "cell_type": "markdown",
   "metadata": {},
   "source": [
    "**Вывод** \n",
    "\n",
    "В американском и европейском регионам влияет на продажи рейтинг M и без рейтинга.В японском регионе большая часть продаж без рейтинга.Видимо, новые игры больше всего продаются."
   ]
  },
  {
   "cell_type": "markdown",
   "metadata": {},
   "source": [
    "## Проверка гипотез"
   ]
  },
  {
   "cell_type": "code",
   "execution_count": 49,
   "metadata": {},
   "outputs": [],
   "source": [
    "xbox_rating = df_total[df_total['platform'] == 'XOne']['user_score'].notna()\n",
    "# делаем срез таблицы по платформам XOne"
   ]
  },
  {
   "cell_type": "code",
   "execution_count": 50,
   "metadata": {},
   "outputs": [],
   "source": [
    "pc_rating = df_total[df_total['platform'] == 'PC']['user_score'].notna()\n",
    "# делаем срез таблицы по платформам PC"
   ]
  },
  {
   "cell_type": "markdown",
   "metadata": {},
   "source": [
    "**Нулевая гипотеза - средние пользовательские рейтинги платформ Xbox One и PC одинаковые. Альтернативная гипотеза - средние пользовательские рейтинги платформ Xbox One и PC отличаются**."
   ]
  },
  {
   "cell_type": "code",
   "execution_count": 51,
   "metadata": {},
   "outputs": [
    {
     "data": {
      "text/plain": [
       "'p-значение:'"
      ]
     },
     "metadata": {},
     "output_type": "display_data"
    },
    {
     "data": {
      "text/plain": [
       "0.05500062389862723"
      ]
     },
     "metadata": {},
     "output_type": "display_data"
    },
    {
     "data": {
      "text/plain": [
       "'Не получилось отвергнуть нулевую гипотезу'"
      ]
     },
     "metadata": {},
     "output_type": "display_data"
    }
   ],
   "source": [
    "alpha = .05 \n",
    "# критический уровень статистической значимости\n",
    "# если p-value окажется меньше него - отвергнем гипотезу\n",
    " \n",
    "results = st.ttest_ind(\n",
    "    xbox_rating, \n",
    "    pc_rating, equal_var = False)\n",
    " \n",
    "display('p-значение:', results.pvalue)\n",
    " \n",
    "if results.pvalue < alpha:\n",
    "    display(\"Отвергаем нулевую гипотезу\")\n",
    "else:\n",
    "    display(\"Не получилось отвергнуть нулевую гипотезу\") "
   ]
  },
  {
   "cell_type": "markdown",
   "metadata": {},
   "source": [
    "**Вывод**\n",
    "\n",
    "Исходя из теста рейтинги Xbox One и PC одинаковые."
   ]
  },
  {
   "cell_type": "code",
   "execution_count": 52,
   "metadata": {},
   "outputs": [],
   "source": [
    "action_rating = df_total[df_total['genre'] == 'Action']['user_score'].notna()\n",
    "# делаем срез таблицы по жанрам Action"
   ]
  },
  {
   "cell_type": "code",
   "execution_count": 53,
   "metadata": {},
   "outputs": [],
   "source": [
    "sports_rating = df_total[df_total['genre'] == 'Sports']['user_score'].notna()\n",
    "# делаем срез таблицы по жанрам Sports"
   ]
  },
  {
   "cell_type": "markdown",
   "metadata": {},
   "source": [
    "**Нулевая гипотеза - средние пользовательские рейтинги жанров Action (англ. «действие», экшен-игры) и Sports (англ. «спортивные соревнования») одинаковые. Альтернативная гипотеза - средние пользовательские рейтинги жанров Action (англ. «действие», экшен-игры) и Sports (англ. «спортивные соревнования») разные**."
   ]
  },
  {
   "cell_type": "code",
   "execution_count": 54,
   "metadata": {},
   "outputs": [
    {
     "data": {
      "text/plain": [
       "'p-значение:'"
      ]
     },
     "metadata": {},
     "output_type": "display_data"
    },
    {
     "data": {
      "text/plain": [
       "1.1856864025551914e-14"
      ]
     },
     "metadata": {},
     "output_type": "display_data"
    },
    {
     "data": {
      "text/plain": [
       "'Отвергаем нулевую гипотезу'"
      ]
     },
     "metadata": {},
     "output_type": "display_data"
    }
   ],
   "source": [
    "alpha = .05 \n",
    "# критический уровень статистической значимости\n",
    "# если p-value окажется меньше него - отвергнем гипотезу\n",
    " \n",
    "results = st.ttest_ind(\n",
    "    action_rating, \n",
    "    sports_rating, equal_var = False)\n",
    " \n",
    "display('p-значение:', results.pvalue)\n",
    " \n",
    "if results.pvalue < alpha:\n",
    "    display(\"Отвергаем нулевую гипотезу\")\n",
    "else:\n",
    "    display(\"Не получилось отвергнуть нулевую гипотезу\") "
   ]
  },
  {
   "cell_type": "markdown",
   "metadata": {},
   "source": [
    "**Вывод**\n",
    "\n",
    "Исходя из теста средние пользовательские рейтинги жанров Action (англ. «действие», экшен-игры) и Sports (англ. «спортивные соревнования») разные."
   ]
  },
  {
   "cell_type": "markdown",
   "metadata": {},
   "source": [
    "## Вывод"
   ]
  },
  {
   "cell_type": "markdown",
   "metadata": {},
   "source": [
    "**Исходя из данных можно сделать вывод, что в среднем популярность игры длится 2-3 года и затем резко падают продажи.За последние несколько лет самые популярные платформы PS4, XOne в американском и европейском регионах, в японском регионе - 3DS и PS4.Самые популярные жанры игр за 2014-2016 гг. являются Shooter, Sports, Platform, Fighting.Самые популярные жанры Shooter, Platform Sports, Racing(американский и европейский регион) и в  японском регионе лидеры Role-Playing, Fighting, Puzzle.Продажи не зависят от оценок пользователей, а зависят от оценок критиков(45-90).В американском и европейском регионе на продажи влияет рейтинг M (ESRB)  и отсутствие рейтинга во всех регионах**."
   ]
  }
 ],
 "metadata": {
  "ExecuteTimeLog": [
   {
    "duration": 441,
    "start_time": "2022-06-20T19:47:52.123Z"
   },
   {
    "duration": 2,
    "start_time": "2022-06-20T19:48:13.061Z"
   },
   {
    "duration": 400,
    "start_time": "2022-06-20T19:49:53.189Z"
   },
   {
    "duration": 492,
    "start_time": "2022-06-20T19:50:06.351Z"
   },
   {
    "duration": 188,
    "start_time": "2022-06-20T19:52:22.555Z"
   },
   {
    "duration": 16,
    "start_time": "2022-06-20T19:52:52.238Z"
   },
   {
    "duration": 17,
    "start_time": "2022-06-20T19:53:21.609Z"
   },
   {
    "duration": 92,
    "start_time": "2022-06-20T20:05:34.976Z"
   },
   {
    "duration": 4,
    "start_time": "2022-06-20T20:07:02.671Z"
   },
   {
    "duration": 10,
    "start_time": "2022-06-20T20:07:24.951Z"
   },
   {
    "duration": 3,
    "start_time": "2022-06-20T20:07:34.424Z"
   },
   {
    "duration": 15,
    "start_time": "2022-06-20T20:07:55.319Z"
   },
   {
    "duration": 20,
    "start_time": "2022-06-20T20:08:44.187Z"
   },
   {
    "duration": 9,
    "start_time": "2022-06-20T20:11:05.661Z"
   },
   {
    "duration": 55,
    "start_time": "2022-06-21T16:53:17.674Z"
   },
   {
    "duration": 440,
    "start_time": "2022-06-21T16:53:42.888Z"
   },
   {
    "duration": 3,
    "start_time": "2022-06-21T16:53:43.330Z"
   },
   {
    "duration": 496,
    "start_time": "2022-06-21T16:53:43.335Z"
   },
   {
    "duration": 507,
    "start_time": "2022-06-21T16:53:43.833Z"
   },
   {
    "duration": 198,
    "start_time": "2022-06-21T16:53:44.342Z"
   },
   {
    "duration": 23,
    "start_time": "2022-06-21T16:53:44.541Z"
   },
   {
    "duration": 20,
    "start_time": "2022-06-21T16:53:44.566Z"
   },
   {
    "duration": 16,
    "start_time": "2022-06-21T16:53:44.588Z"
   },
   {
    "duration": 19,
    "start_time": "2022-06-21T16:53:44.606Z"
   },
   {
    "duration": 40,
    "start_time": "2022-06-21T16:53:44.628Z"
   },
   {
    "duration": 7,
    "start_time": "2022-06-21T16:53:44.670Z"
   },
   {
    "duration": 6,
    "start_time": "2022-06-21T16:53:58.744Z"
   },
   {
    "duration": 5,
    "start_time": "2022-06-21T16:55:06.108Z"
   },
   {
    "duration": 6,
    "start_time": "2022-06-21T16:55:23.133Z"
   },
   {
    "duration": 6,
    "start_time": "2022-06-21T16:55:42.007Z"
   },
   {
    "duration": 5,
    "start_time": "2022-06-21T16:56:39.529Z"
   },
   {
    "duration": 24,
    "start_time": "2022-06-21T16:57:38.424Z"
   },
   {
    "duration": 6,
    "start_time": "2022-06-21T17:13:16.302Z"
   },
   {
    "duration": 6,
    "start_time": "2022-06-21T17:13:41.771Z"
   },
   {
    "duration": 9,
    "start_time": "2022-06-21T17:14:13.398Z"
   },
   {
    "duration": 8,
    "start_time": "2022-06-21T17:15:10.846Z"
   },
   {
    "duration": 4,
    "start_time": "2022-06-21T17:15:12.477Z"
   },
   {
    "duration": 9,
    "start_time": "2022-06-21T17:15:13.069Z"
   },
   {
    "duration": 22,
    "start_time": "2022-06-21T17:15:45.754Z"
   },
   {
    "duration": 62,
    "start_time": "2022-06-21T17:22:39.078Z"
   },
   {
    "duration": 9,
    "start_time": "2022-06-21T17:24:08.574Z"
   },
   {
    "duration": 9,
    "start_time": "2022-06-21T17:24:19.580Z"
   },
   {
    "duration": 4,
    "start_time": "2022-06-21T17:24:43.970Z"
   },
   {
    "duration": 5,
    "start_time": "2022-06-21T17:24:43.976Z"
   },
   {
    "duration": 5,
    "start_time": "2022-06-21T17:24:43.982Z"
   },
   {
    "duration": 4,
    "start_time": "2022-06-21T17:24:43.989Z"
   },
   {
    "duration": 55,
    "start_time": "2022-06-21T17:24:43.996Z"
   },
   {
    "duration": 21,
    "start_time": "2022-06-21T17:24:44.056Z"
   },
   {
    "duration": 18,
    "start_time": "2022-06-21T17:24:44.078Z"
   },
   {
    "duration": 21,
    "start_time": "2022-06-21T17:24:44.098Z"
   },
   {
    "duration": 47,
    "start_time": "2022-06-21T17:24:44.121Z"
   },
   {
    "duration": 14,
    "start_time": "2022-06-21T17:24:44.175Z"
   },
   {
    "duration": 7,
    "start_time": "2022-06-21T17:24:44.191Z"
   },
   {
    "duration": 6,
    "start_time": "2022-06-21T17:24:44.201Z"
   },
   {
    "duration": 6,
    "start_time": "2022-06-21T17:24:44.208Z"
   },
   {
    "duration": 7,
    "start_time": "2022-06-21T17:24:44.216Z"
   },
   {
    "duration": 52,
    "start_time": "2022-06-21T17:24:44.224Z"
   },
   {
    "duration": 6,
    "start_time": "2022-06-21T17:24:44.278Z"
   },
   {
    "duration": 6,
    "start_time": "2022-06-21T17:24:44.286Z"
   },
   {
    "duration": 9,
    "start_time": "2022-06-21T17:24:44.293Z"
   },
   {
    "duration": 10,
    "start_time": "2022-06-21T17:24:49.963Z"
   },
   {
    "duration": 9,
    "start_time": "2022-06-21T17:25:02.184Z"
   },
   {
    "duration": 9,
    "start_time": "2022-06-21T17:25:46.005Z"
   },
   {
    "duration": 8,
    "start_time": "2022-06-21T17:25:50.324Z"
   },
   {
    "duration": 4,
    "start_time": "2022-06-21T17:27:04.823Z"
   },
   {
    "duration": 15,
    "start_time": "2022-06-21T17:27:05.747Z"
   },
   {
    "duration": 15,
    "start_time": "2022-06-21T17:27:11.981Z"
   },
   {
    "duration": 6,
    "start_time": "2022-06-21T17:27:43.183Z"
   },
   {
    "duration": 20,
    "start_time": "2022-06-21T17:29:46.131Z"
   },
   {
    "duration": 334,
    "start_time": "2022-06-21T17:29:58.777Z"
   },
   {
    "duration": 379,
    "start_time": "2022-06-21T17:30:13.230Z"
   },
   {
    "duration": 23,
    "start_time": "2022-06-21T17:31:19.509Z"
   },
   {
    "duration": 5,
    "start_time": "2022-06-21T17:31:29.968Z"
   },
   {
    "duration": 20,
    "start_time": "2022-06-21T17:31:31.154Z"
   },
   {
    "duration": 13,
    "start_time": "2022-06-21T17:31:33.377Z"
   },
   {
    "duration": 7,
    "start_time": "2022-06-21T17:39:21.181Z"
   },
   {
    "duration": 20,
    "start_time": "2022-06-21T17:39:40.267Z"
   },
   {
    "duration": 15,
    "start_time": "2022-06-21T17:42:19.098Z"
   },
   {
    "duration": 14,
    "start_time": "2022-06-21T17:42:47.436Z"
   },
   {
    "duration": 3,
    "start_time": "2022-06-21T17:52:45.237Z"
   },
   {
    "duration": 6,
    "start_time": "2022-06-21T17:53:22.766Z"
   },
   {
    "duration": 3,
    "start_time": "2022-06-21T17:53:29.730Z"
   },
   {
    "duration": 5,
    "start_time": "2022-06-21T17:54:01.017Z"
   },
   {
    "duration": 10,
    "start_time": "2022-06-21T17:56:10.329Z"
   },
   {
    "duration": 7,
    "start_time": "2022-06-21T17:56:33.094Z"
   },
   {
    "duration": 7,
    "start_time": "2022-06-21T17:57:11.943Z"
   },
   {
    "duration": 20,
    "start_time": "2022-06-21T17:57:34.449Z"
   },
   {
    "duration": 8,
    "start_time": "2022-06-21T17:58:57.303Z"
   },
   {
    "duration": 8,
    "start_time": "2022-06-21T17:59:33.536Z"
   },
   {
    "duration": 91,
    "start_time": "2022-06-21T18:00:55.444Z"
   },
   {
    "duration": 9,
    "start_time": "2022-06-21T18:01:05.780Z"
   },
   {
    "duration": 88,
    "start_time": "2022-06-21T18:01:34.541Z"
   },
   {
    "duration": 9,
    "start_time": "2022-06-21T18:01:44.827Z"
   },
   {
    "duration": 12,
    "start_time": "2022-06-21T18:02:01.109Z"
   },
   {
    "duration": 9,
    "start_time": "2022-06-21T18:02:39.566Z"
   },
   {
    "duration": 16,
    "start_time": "2022-06-21T18:03:09.603Z"
   },
   {
    "duration": 239,
    "start_time": "2022-06-21T18:05:43.814Z"
   },
   {
    "duration": 241,
    "start_time": "2022-06-21T18:06:10.993Z"
   },
   {
    "duration": 251,
    "start_time": "2022-06-21T18:08:18.769Z"
   },
   {
    "duration": 230,
    "start_time": "2022-06-21T18:09:15.768Z"
   },
   {
    "duration": 13,
    "start_time": "2022-06-21T18:11:10.501Z"
   },
   {
    "duration": 20,
    "start_time": "2022-06-21T18:12:22.374Z"
   },
   {
    "duration": 8,
    "start_time": "2022-06-21T18:17:21.176Z"
   },
   {
    "duration": 17,
    "start_time": "2022-06-21T18:24:09.298Z"
   },
   {
    "duration": 26,
    "start_time": "2022-06-21T18:26:49.449Z"
   },
   {
    "duration": 244,
    "start_time": "2022-06-21T18:32:49.545Z"
   },
   {
    "duration": 16,
    "start_time": "2022-06-21T18:38:08.606Z"
   },
   {
    "duration": 14,
    "start_time": "2022-06-21T18:39:01.295Z"
   },
   {
    "duration": 257,
    "start_time": "2022-06-21T18:39:54.277Z"
   },
   {
    "duration": 405,
    "start_time": "2022-06-21T18:41:52.507Z"
   },
   {
    "duration": 301,
    "start_time": "2022-06-21T18:42:22.989Z"
   },
   {
    "duration": 300,
    "start_time": "2022-06-21T18:42:55.636Z"
   },
   {
    "duration": 315,
    "start_time": "2022-06-21T18:43:17.244Z"
   },
   {
    "duration": 322,
    "start_time": "2022-06-21T18:43:33.292Z"
   },
   {
    "duration": 297,
    "start_time": "2022-06-21T18:43:45.181Z"
   },
   {
    "duration": 282,
    "start_time": "2022-06-21T18:44:02.623Z"
   },
   {
    "duration": 269,
    "start_time": "2022-06-21T18:44:32.980Z"
   },
   {
    "duration": 239,
    "start_time": "2022-06-21T19:00:27.251Z"
   },
   {
    "duration": 230,
    "start_time": "2022-06-21T19:00:50.405Z"
   },
   {
    "duration": 307,
    "start_time": "2022-06-21T19:02:00.989Z"
   },
   {
    "duration": 71,
    "start_time": "2022-06-21T19:02:43.973Z"
   },
   {
    "duration": 360,
    "start_time": "2022-06-21T19:03:05.322Z"
   },
   {
    "duration": 145,
    "start_time": "2022-06-21T19:05:33.510Z"
   },
   {
    "duration": 132,
    "start_time": "2022-06-21T19:05:57.586Z"
   },
   {
    "duration": 139,
    "start_time": "2022-06-21T19:06:47.107Z"
   },
   {
    "duration": 138,
    "start_time": "2022-06-21T19:07:10.606Z"
   },
   {
    "duration": 153,
    "start_time": "2022-06-21T19:08:06.105Z"
   },
   {
    "duration": 173,
    "start_time": "2022-06-21T19:09:04.208Z"
   },
   {
    "duration": 257,
    "start_time": "2022-06-21T19:16:29.481Z"
   },
   {
    "duration": 281,
    "start_time": "2022-06-21T19:18:14.390Z"
   },
   {
    "duration": 276,
    "start_time": "2022-06-21T19:20:19.950Z"
   },
   {
    "duration": 49,
    "start_time": "2022-06-22T09:16:29.279Z"
   },
   {
    "duration": 405,
    "start_time": "2022-06-22T09:16:39.566Z"
   },
   {
    "duration": 2,
    "start_time": "2022-06-22T09:16:39.973Z"
   },
   {
    "duration": 490,
    "start_time": "2022-06-22T09:16:39.977Z"
   },
   {
    "duration": 500,
    "start_time": "2022-06-22T09:16:40.469Z"
   },
   {
    "duration": 186,
    "start_time": "2022-06-22T09:16:40.971Z"
   },
   {
    "duration": 18,
    "start_time": "2022-06-22T09:16:41.159Z"
   },
   {
    "duration": 17,
    "start_time": "2022-06-22T09:16:41.179Z"
   },
   {
    "duration": 16,
    "start_time": "2022-06-22T09:16:41.197Z"
   },
   {
    "duration": 35,
    "start_time": "2022-06-22T09:16:41.214Z"
   },
   {
    "duration": 11,
    "start_time": "2022-06-22T09:16:41.252Z"
   },
   {
    "duration": 7,
    "start_time": "2022-06-22T09:16:41.264Z"
   },
   {
    "duration": 8,
    "start_time": "2022-06-22T09:16:41.273Z"
   },
   {
    "duration": 8,
    "start_time": "2022-06-22T09:16:41.283Z"
   },
   {
    "duration": 8,
    "start_time": "2022-06-22T09:16:41.292Z"
   },
   {
    "duration": 49,
    "start_time": "2022-06-22T09:16:41.302Z"
   },
   {
    "duration": 9,
    "start_time": "2022-06-22T09:16:41.352Z"
   },
   {
    "duration": 7,
    "start_time": "2022-06-22T09:16:41.363Z"
   },
   {
    "duration": 6,
    "start_time": "2022-06-22T09:16:41.372Z"
   },
   {
    "duration": 7,
    "start_time": "2022-06-22T09:16:41.380Z"
   },
   {
    "duration": 12,
    "start_time": "2022-06-22T09:16:41.389Z"
   },
   {
    "duration": 39,
    "start_time": "2022-06-22T09:16:41.403Z"
   },
   {
    "duration": 5,
    "start_time": "2022-06-22T09:16:41.444Z"
   },
   {
    "duration": 18,
    "start_time": "2022-06-22T09:16:41.450Z"
   },
   {
    "duration": 18,
    "start_time": "2022-06-22T09:16:41.470Z"
   },
   {
    "duration": 12,
    "start_time": "2022-06-22T09:16:41.489Z"
   },
   {
    "duration": 186,
    "start_time": "2022-06-22T09:16:41.503Z"
   },
   {
    "duration": 255,
    "start_time": "2022-06-22T09:16:41.691Z"
   },
   {
    "duration": 15,
    "start_time": "2022-06-22T09:16:41.949Z"
   },
   {
    "duration": 15,
    "start_time": "2022-06-22T09:18:22.073Z"
   },
   {
    "duration": 67,
    "start_time": "2022-06-22T09:19:19.840Z"
   },
   {
    "duration": 11,
    "start_time": "2022-06-22T09:19:57.708Z"
   },
   {
    "duration": 18,
    "start_time": "2022-06-22T09:20:30.078Z"
   },
   {
    "duration": 10,
    "start_time": "2022-06-22T09:20:31.615Z"
   },
   {
    "duration": 15,
    "start_time": "2022-06-22T09:25:48.475Z"
   },
   {
    "duration": 108,
    "start_time": "2022-06-22T09:26:28.974Z"
   },
   {
    "duration": 108,
    "start_time": "2022-06-22T09:26:53.464Z"
   },
   {
    "duration": 23,
    "start_time": "2022-06-22T09:34:30.011Z"
   },
   {
    "duration": 13,
    "start_time": "2022-06-22T09:39:46.952Z"
   },
   {
    "duration": 80,
    "start_time": "2022-06-22T09:41:32.647Z"
   },
   {
    "duration": 76,
    "start_time": "2022-06-22T09:41:50.775Z"
   },
   {
    "duration": 77,
    "start_time": "2022-06-22T09:42:36.907Z"
   },
   {
    "duration": 17,
    "start_time": "2022-06-22T09:42:50.724Z"
   },
   {
    "duration": 4,
    "start_time": "2022-06-22T09:44:34.822Z"
   },
   {
    "duration": 322,
    "start_time": "2022-06-22T10:00:41.983Z"
   },
   {
    "duration": 117,
    "start_time": "2022-06-22T10:17:54.425Z"
   },
   {
    "duration": 110,
    "start_time": "2022-06-22T10:19:05.551Z"
   },
   {
    "duration": 73,
    "start_time": "2022-06-22T10:23:38.200Z"
   },
   {
    "duration": 3,
    "start_time": "2022-06-22T10:23:47.831Z"
   },
   {
    "duration": 7,
    "start_time": "2022-06-22T10:23:47.836Z"
   },
   {
    "duration": 6,
    "start_time": "2022-06-22T10:23:47.845Z"
   },
   {
    "duration": 3,
    "start_time": "2022-06-22T10:23:47.854Z"
   },
   {
    "duration": 72,
    "start_time": "2022-06-22T10:23:47.859Z"
   },
   {
    "duration": 87,
    "start_time": "2022-06-22T10:24:01.703Z"
   },
   {
    "duration": 138,
    "start_time": "2022-06-22T10:24:14.244Z"
   },
   {
    "duration": 18,
    "start_time": "2022-06-22T10:24:46.068Z"
   },
   {
    "duration": 121,
    "start_time": "2022-06-22T10:25:59.630Z"
   },
   {
    "duration": 4,
    "start_time": "2022-06-22T10:26:04.990Z"
   },
   {
    "duration": 8,
    "start_time": "2022-06-22T10:26:04.996Z"
   },
   {
    "duration": 8,
    "start_time": "2022-06-22T10:26:05.006Z"
   },
   {
    "duration": 8,
    "start_time": "2022-06-22T10:26:05.017Z"
   },
   {
    "duration": 6,
    "start_time": "2022-06-22T10:26:05.027Z"
   },
   {
    "duration": 54,
    "start_time": "2022-06-22T10:26:05.035Z"
   },
   {
    "duration": 13,
    "start_time": "2022-06-22T10:26:05.091Z"
   },
   {
    "duration": 14,
    "start_time": "2022-06-22T10:26:05.106Z"
   },
   {
    "duration": 23,
    "start_time": "2022-06-22T10:26:05.122Z"
   },
   {
    "duration": 20,
    "start_time": "2022-06-22T10:26:05.147Z"
   },
   {
    "duration": 9,
    "start_time": "2022-06-22T10:26:05.169Z"
   },
   {
    "duration": 8,
    "start_time": "2022-06-22T10:26:05.180Z"
   },
   {
    "duration": 7,
    "start_time": "2022-06-22T10:26:05.190Z"
   },
   {
    "duration": 7,
    "start_time": "2022-06-22T10:26:05.199Z"
   },
   {
    "duration": 35,
    "start_time": "2022-06-22T10:26:05.208Z"
   },
   {
    "duration": 22,
    "start_time": "2022-06-22T10:26:05.244Z"
   },
   {
    "duration": 8,
    "start_time": "2022-06-22T10:26:05.268Z"
   },
   {
    "duration": 8,
    "start_time": "2022-06-22T10:26:05.277Z"
   },
   {
    "duration": 8,
    "start_time": "2022-06-22T10:26:05.288Z"
   },
   {
    "duration": 7,
    "start_time": "2022-06-22T10:26:05.298Z"
   },
   {
    "duration": 37,
    "start_time": "2022-06-22T10:26:05.306Z"
   },
   {
    "duration": 14,
    "start_time": "2022-06-22T10:26:05.344Z"
   },
   {
    "duration": 4,
    "start_time": "2022-06-22T10:26:05.359Z"
   },
   {
    "duration": 20,
    "start_time": "2022-06-22T10:26:05.365Z"
   },
   {
    "duration": 21,
    "start_time": "2022-06-22T10:26:05.387Z"
   },
   {
    "duration": 40,
    "start_time": "2022-06-22T10:26:05.410Z"
   },
   {
    "duration": 175,
    "start_time": "2022-06-22T10:26:05.452Z"
   },
   {
    "duration": 269,
    "start_time": "2022-06-22T10:26:05.629Z"
   },
   {
    "duration": 17,
    "start_time": "2022-06-22T10:26:05.900Z"
   },
   {
    "duration": 24,
    "start_time": "2022-06-22T10:26:05.919Z"
   },
   {
    "duration": 132,
    "start_time": "2022-06-22T10:26:05.945Z"
   },
   {
    "duration": 24,
    "start_time": "2022-06-22T10:26:06.078Z"
   },
   {
    "duration": 5,
    "start_time": "2022-06-22T10:26:06.103Z"
   },
   {
    "duration": 40,
    "start_time": "2022-06-22T10:26:06.110Z"
   },
   {
    "duration": 21,
    "start_time": "2022-06-22T10:26:06.152Z"
   },
   {
    "duration": 365,
    "start_time": "2022-06-22T10:26:06.174Z"
   },
   {
    "duration": 127,
    "start_time": "2022-06-22T10:26:06.542Z"
   },
   {
    "duration": 237,
    "start_time": "2022-06-22T10:26:56.081Z"
   },
   {
    "duration": 242,
    "start_time": "2022-06-22T10:27:10.766Z"
   },
   {
    "duration": 243,
    "start_time": "2022-06-22T10:28:43.177Z"
   },
   {
    "duration": 12,
    "start_time": "2022-06-22T10:30:07.277Z"
   },
   {
    "duration": 114,
    "start_time": "2022-06-22T10:30:28.153Z"
   },
   {
    "duration": 13,
    "start_time": "2022-06-22T10:31:53.901Z"
   },
   {
    "duration": 2,
    "start_time": "2022-06-22T10:32:04.410Z"
   },
   {
    "duration": 6,
    "start_time": "2022-06-22T10:32:04.416Z"
   },
   {
    "duration": 4,
    "start_time": "2022-06-22T10:32:04.424Z"
   },
   {
    "duration": 5,
    "start_time": "2022-06-22T10:32:04.429Z"
   },
   {
    "duration": 6,
    "start_time": "2022-06-22T10:32:04.435Z"
   },
   {
    "duration": 54,
    "start_time": "2022-06-22T10:32:04.443Z"
   },
   {
    "duration": 14,
    "start_time": "2022-06-22T10:32:04.498Z"
   },
   {
    "duration": 16,
    "start_time": "2022-06-22T10:32:04.514Z"
   },
   {
    "duration": 20,
    "start_time": "2022-06-22T10:32:04.532Z"
   },
   {
    "duration": 18,
    "start_time": "2022-06-22T10:32:04.554Z"
   },
   {
    "duration": 10,
    "start_time": "2022-06-22T10:32:04.573Z"
   },
   {
    "duration": 7,
    "start_time": "2022-06-22T10:32:04.584Z"
   },
   {
    "duration": 9,
    "start_time": "2022-06-22T10:32:04.593Z"
   },
   {
    "duration": 10,
    "start_time": "2022-06-22T10:32:04.603Z"
   },
   {
    "duration": 8,
    "start_time": "2022-06-22T10:32:04.641Z"
   },
   {
    "duration": 26,
    "start_time": "2022-06-22T10:32:04.651Z"
   },
   {
    "duration": 7,
    "start_time": "2022-06-22T10:32:04.679Z"
   },
   {
    "duration": 8,
    "start_time": "2022-06-22T10:32:04.688Z"
   },
   {
    "duration": 7,
    "start_time": "2022-06-22T10:32:04.698Z"
   },
   {
    "duration": 11,
    "start_time": "2022-06-22T10:32:04.706Z"
   },
   {
    "duration": 30,
    "start_time": "2022-06-22T10:32:04.720Z"
   },
   {
    "duration": 14,
    "start_time": "2022-06-22T10:32:04.752Z"
   },
   {
    "duration": 5,
    "start_time": "2022-06-22T10:32:04.767Z"
   },
   {
    "duration": 20,
    "start_time": "2022-06-22T10:32:04.773Z"
   },
   {
    "duration": 16,
    "start_time": "2022-06-22T10:32:04.795Z"
   },
   {
    "duration": 39,
    "start_time": "2022-06-22T10:32:04.813Z"
   },
   {
    "duration": 172,
    "start_time": "2022-06-22T10:32:04.854Z"
   },
   {
    "duration": 257,
    "start_time": "2022-06-22T10:32:05.028Z"
   },
   {
    "duration": 16,
    "start_time": "2022-06-22T10:32:05.287Z"
   },
   {
    "duration": 10,
    "start_time": "2022-06-22T10:32:05.304Z"
   },
   {
    "duration": 138,
    "start_time": "2022-06-22T10:32:05.315Z"
   },
   {
    "duration": 26,
    "start_time": "2022-06-22T10:32:05.455Z"
   },
   {
    "duration": 5,
    "start_time": "2022-06-22T10:32:05.482Z"
   },
   {
    "duration": 17,
    "start_time": "2022-06-22T10:32:05.488Z"
   },
   {
    "duration": 38,
    "start_time": "2022-06-22T10:32:05.507Z"
   },
   {
    "duration": 354,
    "start_time": "2022-06-22T10:32:05.547Z"
   },
   {
    "duration": 14,
    "start_time": "2022-06-22T10:32:05.903Z"
   },
   {
    "duration": 3,
    "start_time": "2022-06-22T10:33:09.430Z"
   },
   {
    "duration": 7,
    "start_time": "2022-06-22T10:33:09.436Z"
   },
   {
    "duration": 8,
    "start_time": "2022-06-22T10:33:09.444Z"
   },
   {
    "duration": 8,
    "start_time": "2022-06-22T10:33:09.454Z"
   },
   {
    "duration": 7,
    "start_time": "2022-06-22T10:33:09.463Z"
   },
   {
    "duration": 53,
    "start_time": "2022-06-22T10:33:09.471Z"
   },
   {
    "duration": 19,
    "start_time": "2022-06-22T10:33:09.526Z"
   },
   {
    "duration": 14,
    "start_time": "2022-06-22T10:33:09.546Z"
   },
   {
    "duration": 28,
    "start_time": "2022-06-22T10:33:09.562Z"
   },
   {
    "duration": 17,
    "start_time": "2022-06-22T10:33:09.592Z"
   },
   {
    "duration": 10,
    "start_time": "2022-06-22T10:33:09.611Z"
   },
   {
    "duration": 6,
    "start_time": "2022-06-22T10:33:09.642Z"
   },
   {
    "duration": 12,
    "start_time": "2022-06-22T10:33:09.649Z"
   },
   {
    "duration": 8,
    "start_time": "2022-06-22T10:33:09.662Z"
   },
   {
    "duration": 10,
    "start_time": "2022-06-22T10:33:09.671Z"
   },
   {
    "duration": 27,
    "start_time": "2022-06-22T10:33:09.683Z"
   },
   {
    "duration": 34,
    "start_time": "2022-06-22T10:33:09.712Z"
   },
   {
    "duration": 7,
    "start_time": "2022-06-22T10:33:09.748Z"
   },
   {
    "duration": 11,
    "start_time": "2022-06-22T10:33:09.756Z"
   },
   {
    "duration": 18,
    "start_time": "2022-06-22T10:33:09.770Z"
   },
   {
    "duration": 16,
    "start_time": "2022-06-22T10:33:09.790Z"
   },
   {
    "duration": 19,
    "start_time": "2022-06-22T10:33:09.807Z"
   },
   {
    "duration": 17,
    "start_time": "2022-06-22T10:33:09.829Z"
   },
   {
    "duration": 25,
    "start_time": "2022-06-22T10:33:09.850Z"
   },
   {
    "duration": 22,
    "start_time": "2022-06-22T10:33:09.877Z"
   },
   {
    "duration": 13,
    "start_time": "2022-06-22T10:33:09.901Z"
   },
   {
    "duration": 189,
    "start_time": "2022-06-22T10:33:09.915Z"
   },
   {
    "duration": 273,
    "start_time": "2022-06-22T10:33:10.105Z"
   },
   {
    "duration": 19,
    "start_time": "2022-06-22T10:33:10.380Z"
   },
   {
    "duration": 10,
    "start_time": "2022-06-22T10:33:10.401Z"
   },
   {
    "duration": 149,
    "start_time": "2022-06-22T10:33:10.412Z"
   },
   {
    "duration": 37,
    "start_time": "2022-06-22T10:33:10.563Z"
   },
   {
    "duration": 6,
    "start_time": "2022-06-22T10:33:10.602Z"
   },
   {
    "duration": 33,
    "start_time": "2022-06-22T10:33:10.610Z"
   },
   {
    "duration": 18,
    "start_time": "2022-06-22T10:33:10.645Z"
   },
   {
    "duration": 450,
    "start_time": "2022-06-22T10:33:10.664Z"
   },
   {
    "duration": 15,
    "start_time": "2022-06-22T10:33:11.116Z"
   },
   {
    "duration": 12,
    "start_time": "2022-06-22T10:34:03.666Z"
   },
   {
    "duration": 365,
    "start_time": "2022-06-22T10:34:12.899Z"
   },
   {
    "duration": 3,
    "start_time": "2022-06-22T10:34:13.265Z"
   },
   {
    "duration": 259,
    "start_time": "2022-06-22T10:34:13.269Z"
   },
   {
    "duration": 497,
    "start_time": "2022-06-22T10:34:13.530Z"
   },
   {
    "duration": 67,
    "start_time": "2022-06-22T10:34:14.029Z"
   },
   {
    "duration": 57,
    "start_time": "2022-06-22T10:34:14.098Z"
   },
   {
    "duration": 15,
    "start_time": "2022-06-22T10:34:14.157Z"
   },
   {
    "duration": 18,
    "start_time": "2022-06-22T10:34:14.174Z"
   },
   {
    "duration": 15,
    "start_time": "2022-06-22T10:34:14.193Z"
   },
   {
    "duration": 37,
    "start_time": "2022-06-22T10:34:14.210Z"
   },
   {
    "duration": 9,
    "start_time": "2022-06-22T10:34:14.248Z"
   },
   {
    "duration": 7,
    "start_time": "2022-06-22T10:34:14.258Z"
   },
   {
    "duration": 6,
    "start_time": "2022-06-22T10:34:14.267Z"
   },
   {
    "duration": 8,
    "start_time": "2022-06-22T10:34:14.275Z"
   },
   {
    "duration": 6,
    "start_time": "2022-06-22T10:34:14.284Z"
   },
   {
    "duration": 53,
    "start_time": "2022-06-22T10:34:14.292Z"
   },
   {
    "duration": 7,
    "start_time": "2022-06-22T10:34:14.347Z"
   },
   {
    "duration": 5,
    "start_time": "2022-06-22T10:34:14.356Z"
   },
   {
    "duration": 9,
    "start_time": "2022-06-22T10:34:14.363Z"
   },
   {
    "duration": 7,
    "start_time": "2022-06-22T10:34:14.374Z"
   },
   {
    "duration": 9,
    "start_time": "2022-06-22T10:34:14.383Z"
   },
   {
    "duration": 13,
    "start_time": "2022-06-22T10:34:14.394Z"
   },
   {
    "duration": 5,
    "start_time": "2022-06-22T10:34:14.408Z"
   },
   {
    "duration": 16,
    "start_time": "2022-06-22T10:34:14.442Z"
   },
   {
    "duration": 18,
    "start_time": "2022-06-22T10:34:14.459Z"
   },
   {
    "duration": 14,
    "start_time": "2022-06-22T10:34:14.478Z"
   },
   {
    "duration": 207,
    "start_time": "2022-06-22T10:34:14.493Z"
   },
   {
    "duration": 271,
    "start_time": "2022-06-22T10:34:14.703Z"
   },
   {
    "duration": 19,
    "start_time": "2022-06-22T10:34:14.976Z"
   },
   {
    "duration": 11,
    "start_time": "2022-06-22T10:34:14.997Z"
   },
   {
    "duration": 143,
    "start_time": "2022-06-22T10:34:15.010Z"
   },
   {
    "duration": 23,
    "start_time": "2022-06-22T10:34:15.155Z"
   },
   {
    "duration": 7,
    "start_time": "2022-06-22T10:34:15.180Z"
   },
   {
    "duration": 14,
    "start_time": "2022-06-22T10:34:15.188Z"
   },
   {
    "duration": 18,
    "start_time": "2022-06-22T10:34:15.204Z"
   },
   {
    "duration": 341,
    "start_time": "2022-06-22T10:34:15.241Z"
   },
   {
    "duration": 102,
    "start_time": "2022-06-22T10:34:15.584Z"
   },
   {
    "duration": 3,
    "start_time": "2022-06-22T10:35:58.754Z"
   },
   {
    "duration": 10,
    "start_time": "2022-06-22T10:35:58.758Z"
   },
   {
    "duration": 6,
    "start_time": "2022-06-22T10:35:58.770Z"
   },
   {
    "duration": 9,
    "start_time": "2022-06-22T10:35:58.777Z"
   },
   {
    "duration": 8,
    "start_time": "2022-06-22T10:35:58.787Z"
   },
   {
    "duration": 57,
    "start_time": "2022-06-22T10:35:58.796Z"
   },
   {
    "duration": 15,
    "start_time": "2022-06-22T10:35:58.854Z"
   },
   {
    "duration": 21,
    "start_time": "2022-06-22T10:35:58.870Z"
   },
   {
    "duration": 16,
    "start_time": "2022-06-22T10:35:58.893Z"
   },
   {
    "duration": 35,
    "start_time": "2022-06-22T10:35:58.911Z"
   },
   {
    "duration": 9,
    "start_time": "2022-06-22T10:35:58.948Z"
   },
   {
    "duration": 7,
    "start_time": "2022-06-22T10:35:58.958Z"
   },
   {
    "duration": 8,
    "start_time": "2022-06-22T10:35:58.966Z"
   },
   {
    "duration": 8,
    "start_time": "2022-06-22T10:35:58.975Z"
   },
   {
    "duration": 6,
    "start_time": "2022-06-22T10:35:58.985Z"
   },
   {
    "duration": 52,
    "start_time": "2022-06-22T10:35:58.993Z"
   },
   {
    "duration": 7,
    "start_time": "2022-06-22T10:35:59.047Z"
   },
   {
    "duration": 14,
    "start_time": "2022-06-22T10:35:59.056Z"
   },
   {
    "duration": 13,
    "start_time": "2022-06-22T10:35:59.072Z"
   },
   {
    "duration": 8,
    "start_time": "2022-06-22T10:35:59.087Z"
   },
   {
    "duration": 13,
    "start_time": "2022-06-22T10:35:59.097Z"
   },
   {
    "duration": 30,
    "start_time": "2022-06-22T10:35:59.112Z"
   },
   {
    "duration": 6,
    "start_time": "2022-06-22T10:35:59.144Z"
   },
   {
    "duration": 20,
    "start_time": "2022-06-22T10:35:59.152Z"
   },
   {
    "duration": 17,
    "start_time": "2022-06-22T10:35:59.174Z"
   },
   {
    "duration": 13,
    "start_time": "2022-06-22T10:35:59.194Z"
   },
   {
    "duration": 191,
    "start_time": "2022-06-22T10:35:59.209Z"
   },
   {
    "duration": 260,
    "start_time": "2022-06-22T10:35:59.402Z"
   },
   {
    "duration": 16,
    "start_time": "2022-06-22T10:35:59.667Z"
   },
   {
    "duration": 11,
    "start_time": "2022-06-22T10:35:59.685Z"
   },
   {
    "duration": 144,
    "start_time": "2022-06-22T10:35:59.698Z"
   },
   {
    "duration": 24,
    "start_time": "2022-06-22T10:35:59.844Z"
   },
   {
    "duration": 4,
    "start_time": "2022-06-22T10:35:59.869Z"
   },
   {
    "duration": 13,
    "start_time": "2022-06-22T10:35:59.875Z"
   },
   {
    "duration": 15,
    "start_time": "2022-06-22T10:35:59.889Z"
   },
   {
    "duration": 447,
    "start_time": "2022-06-22T10:35:59.906Z"
   },
   {
    "duration": 14,
    "start_time": "2022-06-22T10:36:00.355Z"
   },
   {
    "duration": 243,
    "start_time": "2022-06-22T10:36:55.012Z"
   },
   {
    "duration": 357,
    "start_time": "2022-06-22T10:37:35.384Z"
   },
   {
    "duration": 375,
    "start_time": "2022-06-22T10:37:59.729Z"
   },
   {
    "duration": 286,
    "start_time": "2022-06-22T10:38:34.017Z"
   },
   {
    "duration": 375,
    "start_time": "2022-06-22T10:39:05.554Z"
   },
   {
    "duration": 252,
    "start_time": "2022-06-22T10:39:48.951Z"
   },
   {
    "duration": 255,
    "start_time": "2022-06-22T10:40:27.093Z"
   },
   {
    "duration": 250,
    "start_time": "2022-06-22T10:51:42.062Z"
   },
   {
    "duration": 263,
    "start_time": "2022-06-22T10:53:05.544Z"
   },
   {
    "duration": 354,
    "start_time": "2022-06-22T10:54:40.083Z"
   },
   {
    "duration": 356,
    "start_time": "2022-06-22T10:55:29.636Z"
   },
   {
    "duration": 21,
    "start_time": "2022-06-22T11:05:36.470Z"
   },
   {
    "duration": 22,
    "start_time": "2022-06-22T11:05:47.857Z"
   },
   {
    "duration": 135,
    "start_time": "2022-06-22T11:20:35.688Z"
   },
   {
    "duration": 131,
    "start_time": "2022-06-22T11:20:51.444Z"
   },
   {
    "duration": 118,
    "start_time": "2022-06-22T11:21:09.218Z"
   },
   {
    "duration": 161,
    "start_time": "2022-06-22T11:23:42.071Z"
   },
   {
    "duration": 173,
    "start_time": "2022-06-22T11:23:50.601Z"
   },
   {
    "duration": 152,
    "start_time": "2022-06-22T11:24:34.339Z"
   },
   {
    "duration": 160,
    "start_time": "2022-06-22T11:25:35.545Z"
   },
   {
    "duration": 13,
    "start_time": "2022-06-22T11:29:07.709Z"
   },
   {
    "duration": 13,
    "start_time": "2022-06-22T11:31:31.453Z"
   },
   {
    "duration": 80,
    "start_time": "2022-06-22T11:53:32.392Z"
   },
   {
    "duration": 99,
    "start_time": "2022-06-22T11:53:51.123Z"
   },
   {
    "duration": 88,
    "start_time": "2022-06-22T11:54:12.225Z"
   },
   {
    "duration": 97,
    "start_time": "2022-06-22T11:54:18.622Z"
   },
   {
    "duration": 6,
    "start_time": "2022-06-22T11:55:18.456Z"
   },
   {
    "duration": 30,
    "start_time": "2022-06-22T11:55:38.318Z"
   },
   {
    "duration": 4,
    "start_time": "2022-06-22T11:59:28.761Z"
   },
   {
    "duration": 1368,
    "start_time": "2022-06-22T11:59:37.433Z"
   },
   {
    "duration": 1529,
    "start_time": "2022-06-22T11:59:53.687Z"
   },
   {
    "duration": 12,
    "start_time": "2022-06-22T12:01:33.359Z"
   },
   {
    "duration": 14,
    "start_time": "2022-06-22T12:02:33.337Z"
   },
   {
    "duration": 12,
    "start_time": "2022-06-22T12:06:28.358Z"
   },
   {
    "duration": 3,
    "start_time": "2022-06-22T12:06:47.367Z"
   },
   {
    "duration": 84,
    "start_time": "2022-06-22T12:07:07.574Z"
   },
   {
    "duration": 21,
    "start_time": "2022-06-22T12:07:29.793Z"
   },
   {
    "duration": 24,
    "start_time": "2022-06-22T12:09:25.178Z"
   },
   {
    "duration": 294,
    "start_time": "2022-06-22T12:15:41.424Z"
   },
   {
    "duration": 14,
    "start_time": "2022-06-22T12:17:56.086Z"
   },
   {
    "duration": 304,
    "start_time": "2022-06-22T12:18:11.195Z"
   },
   {
    "duration": 23,
    "start_time": "2022-06-22T12:19:21.328Z"
   },
   {
    "duration": 22,
    "start_time": "2022-06-22T12:19:38.102Z"
   },
   {
    "duration": 172,
    "start_time": "2022-06-22T12:34:36.801Z"
   },
   {
    "duration": 305,
    "start_time": "2022-06-22T12:40:36.743Z"
   },
   {
    "duration": 12,
    "start_time": "2022-06-22T12:42:01.389Z"
   },
   {
    "duration": 26,
    "start_time": "2022-06-22T12:42:07.633Z"
   },
   {
    "duration": 6,
    "start_time": "2022-06-22T12:43:06.306Z"
   },
   {
    "duration": 10,
    "start_time": "2022-06-22T12:43:26.081Z"
   },
   {
    "duration": 27,
    "start_time": "2022-06-22T12:44:21.194Z"
   },
   {
    "duration": 22,
    "start_time": "2022-06-22T12:44:33.082Z"
   },
   {
    "duration": 137,
    "start_time": "2022-06-22T12:44:48.121Z"
   },
   {
    "duration": 5,
    "start_time": "2022-06-22T12:47:30.662Z"
   },
   {
    "duration": 7,
    "start_time": "2022-06-22T12:47:53.939Z"
   },
   {
    "duration": 15,
    "start_time": "2022-06-22T12:47:53.951Z"
   },
   {
    "duration": 5,
    "start_time": "2022-06-22T12:47:53.968Z"
   },
   {
    "duration": 4,
    "start_time": "2022-06-22T12:47:53.975Z"
   },
   {
    "duration": 8,
    "start_time": "2022-06-22T12:47:53.981Z"
   },
   {
    "duration": 79,
    "start_time": "2022-06-22T12:47:53.991Z"
   },
   {
    "duration": 16,
    "start_time": "2022-06-22T12:47:54.072Z"
   },
   {
    "duration": 20,
    "start_time": "2022-06-22T12:47:54.091Z"
   },
   {
    "duration": 18,
    "start_time": "2022-06-22T12:47:54.114Z"
   },
   {
    "duration": 26,
    "start_time": "2022-06-22T12:47:54.134Z"
   },
   {
    "duration": 20,
    "start_time": "2022-06-22T12:47:54.162Z"
   },
   {
    "duration": 7,
    "start_time": "2022-06-22T12:47:54.184Z"
   },
   {
    "duration": 9,
    "start_time": "2022-06-22T12:47:54.192Z"
   },
   {
    "duration": 9,
    "start_time": "2022-06-22T12:47:54.203Z"
   },
   {
    "duration": 7,
    "start_time": "2022-06-22T12:47:54.214Z"
   },
   {
    "duration": 31,
    "start_time": "2022-06-22T12:47:54.245Z"
   },
   {
    "duration": 8,
    "start_time": "2022-06-22T12:47:54.278Z"
   },
   {
    "duration": 5,
    "start_time": "2022-06-22T12:47:54.287Z"
   },
   {
    "duration": 7,
    "start_time": "2022-06-22T12:47:54.294Z"
   },
   {
    "duration": 8,
    "start_time": "2022-06-22T12:47:54.303Z"
   },
   {
    "duration": 44,
    "start_time": "2022-06-22T12:47:54.312Z"
   },
   {
    "duration": 18,
    "start_time": "2022-06-22T12:47:54.358Z"
   },
   {
    "duration": 4,
    "start_time": "2022-06-22T12:47:54.378Z"
   },
   {
    "duration": 20,
    "start_time": "2022-06-22T12:47:54.386Z"
   },
   {
    "duration": 18,
    "start_time": "2022-06-22T12:47:54.408Z"
   },
   {
    "duration": 17,
    "start_time": "2022-06-22T12:47:54.442Z"
   },
   {
    "duration": 201,
    "start_time": "2022-06-22T12:47:54.461Z"
   },
   {
    "duration": 283,
    "start_time": "2022-06-22T12:47:54.665Z"
   },
   {
    "duration": 21,
    "start_time": "2022-06-22T12:47:54.949Z"
   },
   {
    "duration": 16,
    "start_time": "2022-06-22T12:47:54.971Z"
   },
   {
    "duration": 148,
    "start_time": "2022-06-22T12:47:54.989Z"
   },
   {
    "duration": 28,
    "start_time": "2022-06-22T12:47:55.141Z"
   },
   {
    "duration": 11,
    "start_time": "2022-06-22T12:47:55.171Z"
   },
   {
    "duration": 17,
    "start_time": "2022-06-22T12:47:55.184Z"
   },
   {
    "duration": 16,
    "start_time": "2022-06-22T12:47:55.202Z"
   },
   {
    "duration": 368,
    "start_time": "2022-06-22T12:47:55.220Z"
   },
   {
    "duration": 282,
    "start_time": "2022-06-22T12:47:55.590Z"
   },
   {
    "duration": 176,
    "start_time": "2022-06-22T12:47:55.874Z"
   },
   {
    "duration": 163,
    "start_time": "2022-06-22T12:47:56.057Z"
   },
   {
    "duration": 12,
    "start_time": "2022-06-22T12:47:56.221Z"
   },
   {
    "duration": 34,
    "start_time": "2022-06-22T12:47:56.242Z"
   },
   {
    "duration": 22,
    "start_time": "2022-06-22T12:47:56.278Z"
   },
   {
    "duration": 161,
    "start_time": "2022-06-22T12:47:56.301Z"
   },
   {
    "duration": 294,
    "start_time": "2022-06-22T12:47:56.464Z"
   },
   {
    "duration": 155,
    "start_time": "2022-06-22T12:47:58.672Z"
   },
   {
    "duration": 8,
    "start_time": "2022-06-22T12:48:02.989Z"
   },
   {
    "duration": 10,
    "start_time": "2022-06-22T12:48:57.701Z"
   },
   {
    "duration": 12,
    "start_time": "2022-06-22T12:49:20.902Z"
   },
   {
    "duration": 11,
    "start_time": "2022-06-22T12:49:39.681Z"
   },
   {
    "duration": 158,
    "start_time": "2022-06-22T12:50:54.058Z"
   },
   {
    "duration": 4,
    "start_time": "2022-06-22T12:51:12.811Z"
   },
   {
    "duration": 149,
    "start_time": "2022-06-22T12:51:19.102Z"
   },
   {
    "duration": 21,
    "start_time": "2022-06-22T12:52:40.131Z"
   },
   {
    "duration": 13,
    "start_time": "2022-06-22T12:53:13.727Z"
   },
   {
    "duration": 279,
    "start_time": "2022-06-22T13:06:15.431Z"
   },
   {
    "duration": 274,
    "start_time": "2022-06-22T13:10:00.881Z"
   },
   {
    "duration": 34,
    "start_time": "2022-06-22T13:18:19.095Z"
   },
   {
    "duration": 18,
    "start_time": "2022-06-22T13:18:56.211Z"
   },
   {
    "duration": 28,
    "start_time": "2022-06-22T13:19:55.894Z"
   },
   {
    "duration": 32,
    "start_time": "2022-06-22T13:20:07.717Z"
   },
   {
    "duration": 46,
    "start_time": "2022-06-22T13:20:35.125Z"
   },
   {
    "duration": 37,
    "start_time": "2022-06-22T13:21:01.079Z"
   },
   {
    "duration": 37,
    "start_time": "2022-06-22T13:23:27.885Z"
   },
   {
    "duration": 41,
    "start_time": "2022-06-22T13:23:53.424Z"
   },
   {
    "duration": 96,
    "start_time": "2022-06-22T13:24:35.586Z"
   },
   {
    "duration": 58,
    "start_time": "2022-06-22T13:25:24.541Z"
   },
   {
    "duration": 42,
    "start_time": "2022-06-22T13:26:01.021Z"
   },
   {
    "duration": 253,
    "start_time": "2022-06-22T13:26:05.073Z"
   },
   {
    "duration": 40,
    "start_time": "2022-06-22T13:31:21.569Z"
   },
   {
    "duration": 40,
    "start_time": "2022-06-22T13:35:05.959Z"
   },
   {
    "duration": 41,
    "start_time": "2022-06-22T19:24:52.313Z"
   },
   {
    "duration": 8,
    "start_time": "2022-06-22T19:40:04.510Z"
   },
   {
    "duration": 6,
    "start_time": "2022-06-22T19:40:44.646Z"
   },
   {
    "duration": 365,
    "start_time": "2022-06-22T19:44:19.166Z"
   },
   {
    "duration": 2,
    "start_time": "2022-06-22T19:44:19.532Z"
   },
   {
    "duration": 340,
    "start_time": "2022-06-22T19:44:19.536Z"
   },
   {
    "duration": 408,
    "start_time": "2022-06-22T19:44:19.877Z"
   },
   {
    "duration": 52,
    "start_time": "2022-06-22T19:44:20.287Z"
   },
   {
    "duration": 85,
    "start_time": "2022-06-22T19:44:20.340Z"
   },
   {
    "duration": 13,
    "start_time": "2022-06-22T19:44:20.426Z"
   },
   {
    "duration": 12,
    "start_time": "2022-06-22T19:44:20.440Z"
   },
   {
    "duration": 11,
    "start_time": "2022-06-22T19:44:20.454Z"
   },
   {
    "duration": 14,
    "start_time": "2022-06-22T19:44:20.468Z"
   },
   {
    "duration": 7,
    "start_time": "2022-06-22T19:44:20.484Z"
   },
   {
    "duration": 5,
    "start_time": "2022-06-22T19:44:20.493Z"
   },
   {
    "duration": 18,
    "start_time": "2022-06-22T19:44:20.499Z"
   },
   {
    "duration": 5,
    "start_time": "2022-06-22T19:44:20.518Z"
   },
   {
    "duration": 6,
    "start_time": "2022-06-22T19:44:20.525Z"
   },
   {
    "duration": 33,
    "start_time": "2022-06-22T19:44:20.533Z"
   },
   {
    "duration": 6,
    "start_time": "2022-06-22T19:44:20.567Z"
   },
   {
    "duration": 4,
    "start_time": "2022-06-22T19:44:20.574Z"
   },
   {
    "duration": 5,
    "start_time": "2022-06-22T19:44:20.579Z"
   },
   {
    "duration": 7,
    "start_time": "2022-06-22T19:44:20.585Z"
   },
   {
    "duration": 8,
    "start_time": "2022-06-22T19:44:20.593Z"
   },
   {
    "duration": 14,
    "start_time": "2022-06-22T19:44:20.602Z"
   },
   {
    "duration": 3,
    "start_time": "2022-06-22T19:44:20.617Z"
   },
   {
    "duration": 33,
    "start_time": "2022-06-22T19:44:20.621Z"
   },
   {
    "duration": 13,
    "start_time": "2022-06-22T19:44:20.656Z"
   },
   {
    "duration": 9,
    "start_time": "2022-06-22T19:44:20.670Z"
   },
   {
    "duration": 154,
    "start_time": "2022-06-22T19:44:20.680Z"
   },
   {
    "duration": 216,
    "start_time": "2022-06-22T19:44:20.837Z"
   },
   {
    "duration": 13,
    "start_time": "2022-06-22T19:44:21.054Z"
   },
   {
    "duration": 8,
    "start_time": "2022-06-22T19:44:21.068Z"
   },
   {
    "duration": 109,
    "start_time": "2022-06-22T19:44:21.077Z"
   },
   {
    "duration": 17,
    "start_time": "2022-06-22T19:44:21.188Z"
   },
   {
    "duration": 5,
    "start_time": "2022-06-22T19:44:21.206Z"
   },
   {
    "duration": 9,
    "start_time": "2022-06-22T19:44:21.212Z"
   },
   {
    "duration": 11,
    "start_time": "2022-06-22T19:44:21.222Z"
   },
   {
    "duration": 271,
    "start_time": "2022-06-22T19:44:21.251Z"
   },
   {
    "duration": 213,
    "start_time": "2022-06-22T19:44:21.523Z"
   },
   {
    "duration": 179,
    "start_time": "2022-06-22T19:44:21.737Z"
   },
   {
    "duration": 134,
    "start_time": "2022-06-22T19:44:21.918Z"
   },
   {
    "duration": 10,
    "start_time": "2022-06-22T19:44:22.053Z"
   },
   {
    "duration": 23,
    "start_time": "2022-06-22T19:44:22.064Z"
   },
   {
    "duration": 16,
    "start_time": "2022-06-22T19:44:22.089Z"
   },
   {
    "duration": 117,
    "start_time": "2022-06-22T19:44:22.106Z"
   },
   {
    "duration": 131,
    "start_time": "2022-06-22T19:44:22.224Z"
   },
   {
    "duration": 10,
    "start_time": "2022-06-22T19:44:22.357Z"
   },
   {
    "duration": 31,
    "start_time": "2022-06-22T19:44:22.368Z"
   },
   {
    "duration": 56,
    "start_time": "2022-06-22T19:44:22.401Z"
   },
   {
    "duration": 27,
    "start_time": "2022-06-22T19:44:22.459Z"
   },
   {
    "duration": 249,
    "start_time": "2022-06-22T19:44:22.487Z"
   },
   {
    "duration": 4,
    "start_time": "2022-06-22T19:44:53.157Z"
   },
   {
    "duration": 8,
    "start_time": "2022-06-22T19:44:55.961Z"
   },
   {
    "duration": 8,
    "start_time": "2022-06-22T19:46:33.740Z"
   },
   {
    "duration": 4,
    "start_time": "2022-06-22T19:46:43.143Z"
   },
   {
    "duration": 6,
    "start_time": "2022-06-22T19:46:44.286Z"
   },
   {
    "duration": 4,
    "start_time": "2022-06-22T19:52:17.067Z"
   },
   {
    "duration": 3,
    "start_time": "2022-06-22T19:52:50.466Z"
   },
   {
    "duration": 8,
    "start_time": "2022-06-22T19:53:24.870Z"
   },
   {
    "duration": 4,
    "start_time": "2022-06-22T19:53:47.805Z"
   },
   {
    "duration": 4,
    "start_time": "2022-06-22T19:53:50.868Z"
   },
   {
    "duration": 4,
    "start_time": "2022-06-22T19:53:51.370Z"
   },
   {
    "duration": 6,
    "start_time": "2022-06-22T19:53:51.797Z"
   },
   {
    "duration": 7,
    "start_time": "2022-06-22T20:02:29.798Z"
   },
   {
    "duration": 7,
    "start_time": "2022-06-22T20:02:50.217Z"
   },
   {
    "duration": 6,
    "start_time": "2022-06-22T20:03:06.570Z"
   },
   {
    "duration": 7,
    "start_time": "2022-06-22T20:03:20.911Z"
   },
   {
    "duration": 6,
    "start_time": "2022-06-22T20:03:36.691Z"
   },
   {
    "duration": 8,
    "start_time": "2022-06-22T20:03:46.827Z"
   },
   {
    "duration": 198,
    "start_time": "2022-06-22T20:14:21.359Z"
   },
   {
    "duration": 302,
    "start_time": "2022-06-22T20:15:03.422Z"
   },
   {
    "duration": 207,
    "start_time": "2022-06-22T20:15:21.152Z"
   },
   {
    "duration": 225,
    "start_time": "2022-06-22T20:15:59.877Z"
   },
   {
    "duration": 201,
    "start_time": "2022-06-22T20:16:25.317Z"
   },
   {
    "duration": 285,
    "start_time": "2022-06-22T20:17:27.785Z"
   },
   {
    "duration": 187,
    "start_time": "2022-06-22T20:17:59.554Z"
   },
   {
    "duration": 53,
    "start_time": "2022-06-22T20:18:24.051Z"
   },
   {
    "duration": 213,
    "start_time": "2022-06-22T20:18:30.041Z"
   },
   {
    "duration": 14,
    "start_time": "2022-06-22T20:20:25.976Z"
   },
   {
    "duration": 852,
    "start_time": "2022-06-22T20:20:29.872Z"
   },
   {
    "duration": 202,
    "start_time": "2022-06-22T20:20:38.632Z"
   },
   {
    "duration": 14,
    "start_time": "2022-06-22T20:20:49.574Z"
   },
   {
    "duration": 187,
    "start_time": "2022-06-22T20:20:51.197Z"
   },
   {
    "duration": 162,
    "start_time": "2022-06-22T20:21:40.527Z"
   },
   {
    "duration": 189,
    "start_time": "2022-06-22T20:21:58.468Z"
   },
   {
    "duration": 159,
    "start_time": "2022-06-22T20:22:13.950Z"
   },
   {
    "duration": 162,
    "start_time": "2022-06-22T20:22:31.246Z"
   },
   {
    "duration": 2,
    "start_time": "2022-06-22T20:22:36.314Z"
   },
   {
    "duration": 4,
    "start_time": "2022-06-22T20:22:36.318Z"
   },
   {
    "duration": 6,
    "start_time": "2022-06-22T20:22:36.323Z"
   },
   {
    "duration": 5,
    "start_time": "2022-06-22T20:22:36.330Z"
   },
   {
    "duration": 4,
    "start_time": "2022-06-22T20:22:36.336Z"
   },
   {
    "duration": 49,
    "start_time": "2022-06-22T20:22:36.341Z"
   },
   {
    "duration": 12,
    "start_time": "2022-06-22T20:22:36.391Z"
   },
   {
    "duration": 14,
    "start_time": "2022-06-22T20:22:36.404Z"
   },
   {
    "duration": 14,
    "start_time": "2022-06-22T20:22:36.419Z"
   },
   {
    "duration": 25,
    "start_time": "2022-06-22T20:22:36.434Z"
   },
   {
    "duration": 9,
    "start_time": "2022-06-22T20:22:36.460Z"
   },
   {
    "duration": 5,
    "start_time": "2022-06-22T20:22:36.471Z"
   },
   {
    "duration": 7,
    "start_time": "2022-06-22T20:22:36.477Z"
   },
   {
    "duration": 6,
    "start_time": "2022-06-22T20:22:36.485Z"
   },
   {
    "duration": 5,
    "start_time": "2022-06-22T20:22:36.492Z"
   },
   {
    "duration": 20,
    "start_time": "2022-06-22T20:22:36.499Z"
   },
   {
    "duration": 32,
    "start_time": "2022-06-22T20:22:36.520Z"
   },
   {
    "duration": 4,
    "start_time": "2022-06-22T20:22:36.553Z"
   },
   {
    "duration": 5,
    "start_time": "2022-06-22T20:22:36.558Z"
   },
   {
    "duration": 7,
    "start_time": "2022-06-22T20:22:36.564Z"
   },
   {
    "duration": 8,
    "start_time": "2022-06-22T20:22:36.572Z"
   },
   {
    "duration": 11,
    "start_time": "2022-06-22T20:22:36.581Z"
   },
   {
    "duration": 3,
    "start_time": "2022-06-22T20:22:36.593Z"
   },
   {
    "duration": 13,
    "start_time": "2022-06-22T20:22:36.597Z"
   },
   {
    "duration": 40,
    "start_time": "2022-06-22T20:22:36.611Z"
   },
   {
    "duration": 162,
    "start_time": "2022-06-22T20:22:36.652Z"
   },
   {
    "duration": 11,
    "start_time": "2022-06-22T20:22:36.815Z"
   },
   {
    "duration": 151,
    "start_time": "2022-06-22T20:22:36.827Z"
   },
   {
    "duration": 282,
    "start_time": "2022-06-22T20:22:36.979Z"
   },
   {
    "duration": 14,
    "start_time": "2022-06-22T20:22:37.262Z"
   },
   {
    "duration": 8,
    "start_time": "2022-06-22T20:22:37.279Z"
   },
   {
    "duration": 111,
    "start_time": "2022-06-22T20:22:37.289Z"
   },
   {
    "duration": 19,
    "start_time": "2022-06-22T20:22:37.401Z"
   },
   {
    "duration": 13,
    "start_time": "2022-06-22T20:22:37.421Z"
   },
   {
    "duration": 22,
    "start_time": "2022-06-22T20:22:37.435Z"
   },
   {
    "duration": 14,
    "start_time": "2022-06-22T20:22:37.458Z"
   },
   {
    "duration": 300,
    "start_time": "2022-06-22T20:22:37.473Z"
   },
   {
    "duration": 216,
    "start_time": "2022-06-22T20:22:37.774Z"
   },
   {
    "duration": 128,
    "start_time": "2022-06-22T20:22:37.992Z"
   },
   {
    "duration": 129,
    "start_time": "2022-06-22T20:22:38.122Z"
   },
   {
    "duration": 10,
    "start_time": "2022-06-22T20:22:38.252Z"
   },
   {
    "duration": 23,
    "start_time": "2022-06-22T20:22:38.263Z"
   },
   {
    "duration": 18,
    "start_time": "2022-06-22T20:22:38.287Z"
   },
   {
    "duration": 122,
    "start_time": "2022-06-22T20:22:38.306Z"
   },
   {
    "duration": 128,
    "start_time": "2022-06-22T20:22:38.429Z"
   },
   {
    "duration": 9,
    "start_time": "2022-06-22T20:22:38.559Z"
   },
   {
    "duration": 30,
    "start_time": "2022-06-22T20:22:38.569Z"
   },
   {
    "duration": 51,
    "start_time": "2022-06-22T20:22:38.600Z"
   },
   {
    "duration": 27,
    "start_time": "2022-06-22T20:22:38.652Z"
   },
   {
    "duration": 3,
    "start_time": "2022-06-22T20:22:38.681Z"
   },
   {
    "duration": 6,
    "start_time": "2022-06-22T20:22:38.685Z"
   },
   {
    "duration": 10,
    "start_time": "2022-06-22T20:22:38.692Z"
   },
   {
    "duration": 5,
    "start_time": "2022-06-22T20:22:38.703Z"
   },
   {
    "duration": 5,
    "start_time": "2022-06-22T20:22:38.709Z"
   },
   {
    "duration": 35,
    "start_time": "2022-06-22T20:22:38.715Z"
   },
   {
    "duration": 170,
    "start_time": "2022-06-22T20:23:48.372Z"
   },
   {
    "duration": 175,
    "start_time": "2022-06-22T20:24:44.159Z"
   },
   {
    "duration": 77,
    "start_time": "2022-06-22T20:25:22.750Z"
   },
   {
    "duration": 175,
    "start_time": "2022-06-22T20:25:28.965Z"
   },
   {
    "duration": 189,
    "start_time": "2022-06-22T20:27:34.808Z"
   },
   {
    "duration": 277,
    "start_time": "2022-06-22T20:28:24.623Z"
   },
   {
    "duration": 184,
    "start_time": "2022-06-22T20:28:34.199Z"
   },
   {
    "duration": 3,
    "start_time": "2022-06-22T20:28:39.664Z"
   },
   {
    "duration": 6,
    "start_time": "2022-06-22T20:28:39.668Z"
   },
   {
    "duration": 7,
    "start_time": "2022-06-22T20:28:39.675Z"
   },
   {
    "duration": 8,
    "start_time": "2022-06-22T20:28:39.683Z"
   },
   {
    "duration": 5,
    "start_time": "2022-06-22T20:28:39.692Z"
   },
   {
    "duration": 47,
    "start_time": "2022-06-22T20:28:39.698Z"
   },
   {
    "duration": 11,
    "start_time": "2022-06-22T20:28:39.747Z"
   },
   {
    "duration": 11,
    "start_time": "2022-06-22T20:28:39.759Z"
   },
   {
    "duration": 12,
    "start_time": "2022-06-22T20:28:39.772Z"
   },
   {
    "duration": 14,
    "start_time": "2022-06-22T20:28:39.786Z"
   },
   {
    "duration": 8,
    "start_time": "2022-06-22T20:28:39.801Z"
   },
   {
    "duration": 7,
    "start_time": "2022-06-22T20:28:39.810Z"
   },
   {
    "duration": 6,
    "start_time": "2022-06-22T20:28:39.818Z"
   },
   {
    "duration": 29,
    "start_time": "2022-06-22T20:28:39.825Z"
   },
   {
    "duration": 5,
    "start_time": "2022-06-22T20:28:39.855Z"
   },
   {
    "duration": 18,
    "start_time": "2022-06-22T20:28:39.862Z"
   },
   {
    "duration": 5,
    "start_time": "2022-06-22T20:28:39.882Z"
   },
   {
    "duration": 5,
    "start_time": "2022-06-22T20:28:39.888Z"
   },
   {
    "duration": 5,
    "start_time": "2022-06-22T20:28:39.895Z"
   },
   {
    "duration": 6,
    "start_time": "2022-06-22T20:28:39.901Z"
   },
   {
    "duration": 8,
    "start_time": "2022-06-22T20:28:39.908Z"
   },
   {
    "duration": 38,
    "start_time": "2022-06-22T20:28:39.917Z"
   },
   {
    "duration": 5,
    "start_time": "2022-06-22T20:28:39.956Z"
   },
   {
    "duration": 14,
    "start_time": "2022-06-22T20:28:39.963Z"
   },
   {
    "duration": 14,
    "start_time": "2022-06-22T20:28:39.978Z"
   },
   {
    "duration": 206,
    "start_time": "2022-06-22T20:28:39.993Z"
   },
   {
    "duration": 218,
    "start_time": "2022-06-22T20:28:42.290Z"
   },
   {
    "duration": 179,
    "start_time": "2022-06-22T20:29:38.339Z"
   },
   {
    "duration": 174,
    "start_time": "2022-06-22T20:29:46.272Z"
   },
   {
    "duration": 173,
    "start_time": "2022-06-22T20:30:14.580Z"
   },
   {
    "duration": 167,
    "start_time": "2022-06-22T20:30:45.297Z"
   },
   {
    "duration": 217,
    "start_time": "2022-06-22T20:31:04.463Z"
   },
   {
    "duration": 176,
    "start_time": "2022-06-22T20:31:16.120Z"
   },
   {
    "duration": 190,
    "start_time": "2022-06-22T20:32:24.235Z"
   },
   {
    "duration": 301,
    "start_time": "2022-06-22T20:32:50.200Z"
   },
   {
    "duration": 192,
    "start_time": "2022-06-22T20:33:03.149Z"
   },
   {
    "duration": 213,
    "start_time": "2022-06-22T20:33:29.729Z"
   },
   {
    "duration": 178,
    "start_time": "2022-06-22T20:33:47.762Z"
   },
   {
    "duration": 185,
    "start_time": "2022-06-22T20:34:11.162Z"
   },
   {
    "duration": 177,
    "start_time": "2022-06-22T20:34:22.486Z"
   },
   {
    "duration": 189,
    "start_time": "2022-06-22T20:34:35.238Z"
   },
   {
    "duration": 194,
    "start_time": "2022-06-22T20:34:51.444Z"
   },
   {
    "duration": 183,
    "start_time": "2022-06-22T20:35:08.265Z"
   },
   {
    "duration": 29,
    "start_time": "2022-06-22T20:38:13.094Z"
   },
   {
    "duration": 196,
    "start_time": "2022-06-22T20:39:36.671Z"
   },
   {
    "duration": 205,
    "start_time": "2022-06-22T20:47:35.317Z"
   },
   {
    "duration": 313,
    "start_time": "2022-06-22T20:49:46.586Z"
   },
   {
    "duration": 104,
    "start_time": "2022-06-22T20:50:49.250Z"
   },
   {
    "duration": 2,
    "start_time": "2022-06-22T20:50:55.573Z"
   },
   {
    "duration": 6,
    "start_time": "2022-06-22T20:50:55.577Z"
   },
   {
    "duration": 5,
    "start_time": "2022-06-22T20:50:55.584Z"
   },
   {
    "duration": 5,
    "start_time": "2022-06-22T20:50:55.591Z"
   },
   {
    "duration": 4,
    "start_time": "2022-06-22T20:50:55.597Z"
   },
   {
    "duration": 48,
    "start_time": "2022-06-22T20:50:55.603Z"
   },
   {
    "duration": 20,
    "start_time": "2022-06-22T20:50:55.653Z"
   },
   {
    "duration": 12,
    "start_time": "2022-06-22T20:50:55.674Z"
   },
   {
    "duration": 24,
    "start_time": "2022-06-22T20:50:55.688Z"
   },
   {
    "duration": 14,
    "start_time": "2022-06-22T20:50:55.714Z"
   },
   {
    "duration": 33,
    "start_time": "2022-06-22T20:50:55.729Z"
   },
   {
    "duration": 7,
    "start_time": "2022-06-22T20:50:55.764Z"
   },
   {
    "duration": 6,
    "start_time": "2022-06-22T20:50:55.773Z"
   },
   {
    "duration": 6,
    "start_time": "2022-06-22T20:50:55.780Z"
   },
   {
    "duration": 6,
    "start_time": "2022-06-22T20:50:55.787Z"
   },
   {
    "duration": 20,
    "start_time": "2022-06-22T20:50:55.794Z"
   },
   {
    "duration": 5,
    "start_time": "2022-06-22T20:50:55.815Z"
   },
   {
    "duration": 4,
    "start_time": "2022-06-22T20:50:55.821Z"
   },
   {
    "duration": 25,
    "start_time": "2022-06-22T20:50:55.826Z"
   },
   {
    "duration": 4,
    "start_time": "2022-06-22T20:50:55.853Z"
   },
   {
    "duration": 22,
    "start_time": "2022-06-22T20:50:55.860Z"
   },
   {
    "duration": 12,
    "start_time": "2022-06-22T20:50:55.884Z"
   },
   {
    "duration": 4,
    "start_time": "2022-06-22T20:50:55.897Z"
   },
   {
    "duration": 12,
    "start_time": "2022-06-22T20:50:55.903Z"
   },
   {
    "duration": 34,
    "start_time": "2022-06-22T20:50:55.917Z"
   },
   {
    "duration": 190,
    "start_time": "2022-06-22T20:50:55.952Z"
   },
   {
    "duration": 16,
    "start_time": "2022-06-22T20:50:56.143Z"
   },
   {
    "duration": 142,
    "start_time": "2022-06-22T20:50:56.161Z"
   },
   {
    "duration": 219,
    "start_time": "2022-06-22T20:50:56.304Z"
   },
   {
    "duration": 13,
    "start_time": "2022-06-22T20:50:56.525Z"
   },
   {
    "duration": 20,
    "start_time": "2022-06-22T20:50:56.539Z"
   },
   {
    "duration": 105,
    "start_time": "2022-06-22T20:50:56.561Z"
   },
   {
    "duration": 20,
    "start_time": "2022-06-22T20:50:56.667Z"
   },
   {
    "duration": 6,
    "start_time": "2022-06-22T20:50:56.689Z"
   },
   {
    "duration": 13,
    "start_time": "2022-06-22T20:50:56.696Z"
   },
   {
    "duration": 12,
    "start_time": "2022-06-22T20:50:56.710Z"
   },
   {
    "duration": 299,
    "start_time": "2022-06-22T20:50:56.723Z"
   },
   {
    "duration": 218,
    "start_time": "2022-06-22T20:50:57.023Z"
   },
   {
    "duration": 133,
    "start_time": "2022-06-22T20:50:57.243Z"
   },
   {
    "duration": 138,
    "start_time": "2022-06-22T20:50:57.377Z"
   },
   {
    "duration": 9,
    "start_time": "2022-06-22T20:50:57.516Z"
   },
   {
    "duration": 31,
    "start_time": "2022-06-22T20:50:57.526Z"
   },
   {
    "duration": 27,
    "start_time": "2022-06-22T20:50:57.558Z"
   },
   {
    "duration": 112,
    "start_time": "2022-06-22T20:50:57.586Z"
   },
   {
    "duration": 153,
    "start_time": "2022-06-22T20:50:57.700Z"
   },
   {
    "duration": 11,
    "start_time": "2022-06-22T20:50:57.854Z"
   },
   {
    "duration": 38,
    "start_time": "2022-06-22T20:50:57.866Z"
   },
   {
    "duration": 150,
    "start_time": "2022-06-22T20:50:57.906Z"
   },
   {
    "duration": 32,
    "start_time": "2022-06-22T20:50:58.057Z"
   },
   {
    "duration": 121,
    "start_time": "2022-06-22T20:50:58.091Z"
   },
   {
    "duration": 60,
    "start_time": "2022-06-22T20:51:35.826Z"
   },
   {
    "duration": 111,
    "start_time": "2022-06-22T20:51:54.362Z"
   },
   {
    "duration": 97,
    "start_time": "2022-06-22T20:52:26.470Z"
   },
   {
    "duration": 97,
    "start_time": "2022-06-22T20:52:32.681Z"
   },
   {
    "duration": 2,
    "start_time": "2022-06-22T20:52:37.845Z"
   },
   {
    "duration": 18,
    "start_time": "2022-06-22T20:52:37.849Z"
   },
   {
    "duration": 5,
    "start_time": "2022-06-22T20:52:37.868Z"
   },
   {
    "duration": 6,
    "start_time": "2022-06-22T20:52:37.874Z"
   },
   {
    "duration": 6,
    "start_time": "2022-06-22T20:52:37.882Z"
   },
   {
    "duration": 47,
    "start_time": "2022-06-22T20:52:37.889Z"
   },
   {
    "duration": 11,
    "start_time": "2022-06-22T20:52:37.938Z"
   },
   {
    "duration": 22,
    "start_time": "2022-06-22T20:52:37.950Z"
   },
   {
    "duration": 15,
    "start_time": "2022-06-22T20:52:37.974Z"
   },
   {
    "duration": 18,
    "start_time": "2022-06-22T20:52:37.990Z"
   },
   {
    "duration": 7,
    "start_time": "2022-06-22T20:52:38.010Z"
   },
   {
    "duration": 4,
    "start_time": "2022-06-22T20:52:38.018Z"
   },
   {
    "duration": 5,
    "start_time": "2022-06-22T20:52:38.024Z"
   },
   {
    "duration": 25,
    "start_time": "2022-06-22T20:52:38.030Z"
   },
   {
    "duration": 12,
    "start_time": "2022-06-22T20:52:38.057Z"
   },
   {
    "duration": 19,
    "start_time": "2022-06-22T20:52:38.070Z"
   },
   {
    "duration": 5,
    "start_time": "2022-06-22T20:52:38.091Z"
   },
   {
    "duration": 4,
    "start_time": "2022-06-22T20:52:38.097Z"
   },
   {
    "duration": 4,
    "start_time": "2022-06-22T20:52:38.103Z"
   },
   {
    "duration": 7,
    "start_time": "2022-06-22T20:52:38.108Z"
   },
   {
    "duration": 12,
    "start_time": "2022-06-22T20:52:38.116Z"
   },
   {
    "duration": 26,
    "start_time": "2022-06-22T20:52:38.130Z"
   },
   {
    "duration": 4,
    "start_time": "2022-06-22T20:52:38.157Z"
   },
   {
    "duration": 17,
    "start_time": "2022-06-22T20:52:38.163Z"
   },
   {
    "duration": 14,
    "start_time": "2022-06-22T20:52:38.182Z"
   },
   {
    "duration": 201,
    "start_time": "2022-06-22T20:52:38.198Z"
   },
   {
    "duration": 11,
    "start_time": "2022-06-22T20:52:38.400Z"
   },
   {
    "duration": 160,
    "start_time": "2022-06-22T20:52:38.412Z"
   },
   {
    "duration": 222,
    "start_time": "2022-06-22T20:52:38.573Z"
   },
   {
    "duration": 14,
    "start_time": "2022-06-22T20:52:38.797Z"
   },
   {
    "duration": 7,
    "start_time": "2022-06-22T20:52:38.813Z"
   },
   {
    "duration": 112,
    "start_time": "2022-06-22T20:52:38.821Z"
   },
   {
    "duration": 27,
    "start_time": "2022-06-22T20:52:38.934Z"
   },
   {
    "duration": 4,
    "start_time": "2022-06-22T20:52:38.963Z"
   },
   {
    "duration": 11,
    "start_time": "2022-06-22T20:52:38.969Z"
   },
   {
    "duration": 15,
    "start_time": "2022-06-22T20:52:38.981Z"
   },
   {
    "duration": 289,
    "start_time": "2022-06-22T20:52:38.999Z"
   },
   {
    "duration": 218,
    "start_time": "2022-06-22T20:52:39.290Z"
   },
   {
    "duration": 126,
    "start_time": "2022-06-22T20:52:39.510Z"
   },
   {
    "duration": 140,
    "start_time": "2022-06-22T20:52:39.637Z"
   },
   {
    "duration": 10,
    "start_time": "2022-06-22T20:52:39.779Z"
   },
   {
    "duration": 24,
    "start_time": "2022-06-22T20:52:39.790Z"
   },
   {
    "duration": 36,
    "start_time": "2022-06-22T20:52:39.815Z"
   },
   {
    "duration": 121,
    "start_time": "2022-06-22T20:52:39.853Z"
   },
   {
    "duration": 138,
    "start_time": "2022-06-22T20:52:39.976Z"
   },
   {
    "duration": 10,
    "start_time": "2022-06-22T20:52:40.115Z"
   },
   {
    "duration": 49,
    "start_time": "2022-06-22T20:52:40.126Z"
   },
   {
    "duration": 168,
    "start_time": "2022-06-22T20:52:40.177Z"
   },
   {
    "duration": 40,
    "start_time": "2022-06-22T20:52:40.346Z"
   },
   {
    "duration": 118,
    "start_time": "2022-06-22T20:52:40.387Z"
   },
   {
    "duration": 97,
    "start_time": "2022-06-22T20:52:41.895Z"
   },
   {
    "duration": 29,
    "start_time": "2022-06-22T20:53:14.991Z"
   },
   {
    "duration": 109,
    "start_time": "2022-06-22T20:53:25.886Z"
   },
   {
    "duration": 146,
    "start_time": "2022-06-22T20:56:21.659Z"
   },
   {
    "duration": 146,
    "start_time": "2022-06-22T20:57:08.900Z"
   },
   {
    "duration": 151,
    "start_time": "2022-06-22T20:58:31.001Z"
   },
   {
    "duration": 14,
    "start_time": "2022-06-22T20:59:30.005Z"
   },
   {
    "duration": 14,
    "start_time": "2022-06-22T21:00:32.948Z"
   },
   {
    "duration": 149,
    "start_time": "2022-06-22T21:00:52.003Z"
   },
   {
    "duration": 131,
    "start_time": "2022-06-22T21:01:08.964Z"
   },
   {
    "duration": 159,
    "start_time": "2022-06-22T21:01:43.410Z"
   },
   {
    "duration": 165,
    "start_time": "2022-06-22T21:02:17.147Z"
   },
   {
    "duration": 98,
    "start_time": "2022-06-23T10:38:21.212Z"
   },
   {
    "duration": 446,
    "start_time": "2022-06-23T10:38:31.621Z"
   },
   {
    "duration": 4,
    "start_time": "2022-06-23T10:38:32.069Z"
   },
   {
    "duration": 561,
    "start_time": "2022-06-23T10:38:32.076Z"
   },
   {
    "duration": 567,
    "start_time": "2022-06-23T10:38:32.639Z"
   },
   {
    "duration": 73,
    "start_time": "2022-06-23T10:38:33.208Z"
   },
   {
    "duration": 135,
    "start_time": "2022-06-23T10:38:33.286Z"
   },
   {
    "duration": 19,
    "start_time": "2022-06-23T10:38:33.423Z"
   },
   {
    "duration": 18,
    "start_time": "2022-06-23T10:38:33.444Z"
   },
   {
    "duration": 36,
    "start_time": "2022-06-23T10:38:33.465Z"
   },
   {
    "duration": 29,
    "start_time": "2022-06-23T10:38:33.505Z"
   },
   {
    "duration": 11,
    "start_time": "2022-06-23T10:38:33.536Z"
   },
   {
    "duration": 7,
    "start_time": "2022-06-23T10:38:33.549Z"
   },
   {
    "duration": 11,
    "start_time": "2022-06-23T10:38:33.558Z"
   },
   {
    "duration": 61,
    "start_time": "2022-06-23T10:38:33.573Z"
   },
   {
    "duration": 13,
    "start_time": "2022-06-23T10:38:33.636Z"
   },
   {
    "duration": 46,
    "start_time": "2022-06-23T10:38:33.651Z"
   },
   {
    "duration": 22,
    "start_time": "2022-06-23T10:38:33.701Z"
   },
   {
    "duration": 5,
    "start_time": "2022-06-23T10:38:33.725Z"
   },
   {
    "duration": 7,
    "start_time": "2022-06-23T10:38:33.731Z"
   },
   {
    "duration": 8,
    "start_time": "2022-06-23T10:38:33.740Z"
   },
   {
    "duration": 11,
    "start_time": "2022-06-23T10:38:33.749Z"
   },
   {
    "duration": 22,
    "start_time": "2022-06-23T10:38:33.761Z"
   },
   {
    "duration": 37,
    "start_time": "2022-06-23T10:38:33.787Z"
   },
   {
    "duration": 20,
    "start_time": "2022-06-23T10:38:33.826Z"
   },
   {
    "duration": 22,
    "start_time": "2022-06-23T10:38:33.848Z"
   },
   {
    "duration": 321,
    "start_time": "2022-06-23T10:38:33.872Z"
   },
   {
    "duration": 20,
    "start_time": "2022-06-23T10:38:34.196Z"
   },
   {
    "duration": 219,
    "start_time": "2022-06-23T10:38:34.219Z"
   },
   {
    "duration": 343,
    "start_time": "2022-06-23T10:38:34.440Z"
   },
   {
    "duration": 21,
    "start_time": "2022-06-23T10:38:34.785Z"
   },
   {
    "duration": 29,
    "start_time": "2022-06-23T10:38:34.808Z"
   },
   {
    "duration": 188,
    "start_time": "2022-06-23T10:38:34.839Z"
   },
   {
    "duration": 24,
    "start_time": "2022-06-23T10:38:35.029Z"
   },
   {
    "duration": 8,
    "start_time": "2022-06-23T10:38:35.055Z"
   },
   {
    "duration": 51,
    "start_time": "2022-06-23T10:38:35.065Z"
   },
   {
    "duration": 36,
    "start_time": "2022-06-23T10:38:35.118Z"
   },
   {
    "duration": 403,
    "start_time": "2022-06-23T10:38:35.156Z"
   },
   {
    "duration": 347,
    "start_time": "2022-06-23T10:38:35.561Z"
   },
   {
    "duration": 316,
    "start_time": "2022-06-23T10:38:35.910Z"
   },
   {
    "duration": 231,
    "start_time": "2022-06-23T10:38:36.229Z"
   },
   {
    "duration": 17,
    "start_time": "2022-06-23T10:38:36.467Z"
   },
   {
    "duration": 57,
    "start_time": "2022-06-23T10:38:36.486Z"
   },
   {
    "duration": 35,
    "start_time": "2022-06-23T10:38:36.545Z"
   },
   {
    "duration": 165,
    "start_time": "2022-06-23T10:38:36.582Z"
   },
   {
    "duration": 206,
    "start_time": "2022-06-23T10:38:36.749Z"
   },
   {
    "duration": 22,
    "start_time": "2022-06-23T10:38:36.957Z"
   },
   {
    "duration": 241,
    "start_time": "2022-06-23T10:38:36.982Z"
   },
   {
    "duration": 224,
    "start_time": "2022-06-23T10:38:37.225Z"
   },
   {
    "duration": 54,
    "start_time": "2022-06-23T10:38:37.451Z"
   },
   {
    "duration": 71,
    "start_time": "2022-06-23T10:38:37.508Z"
   },
   {
    "duration": 107,
    "start_time": "2022-06-23T10:38:37.581Z"
   },
   {
    "duration": 283,
    "start_time": "2022-06-23T10:38:37.690Z"
   },
   {
    "duration": 0,
    "start_time": "2022-06-23T10:38:37.974Z"
   },
   {
    "duration": 0,
    "start_time": "2022-06-23T10:38:37.975Z"
   },
   {
    "duration": 0,
    "start_time": "2022-06-23T10:38:37.977Z"
   },
   {
    "duration": 0,
    "start_time": "2022-06-23T10:38:37.978Z"
   },
   {
    "duration": 0,
    "start_time": "2022-06-23T10:38:37.979Z"
   },
   {
    "duration": 0,
    "start_time": "2022-06-23T10:38:37.980Z"
   },
   {
    "duration": 204,
    "start_time": "2022-06-23T10:41:16.635Z"
   },
   {
    "duration": 286,
    "start_time": "2022-06-23T10:42:07.537Z"
   },
   {
    "duration": 10,
    "start_time": "2022-06-23T11:39:46.241Z"
   },
   {
    "duration": 2,
    "start_time": "2022-06-23T11:40:13.075Z"
   },
   {
    "duration": 6,
    "start_time": "2022-06-23T11:40:13.080Z"
   },
   {
    "duration": 4,
    "start_time": "2022-06-23T11:40:13.088Z"
   },
   {
    "duration": 5,
    "start_time": "2022-06-23T11:40:13.094Z"
   },
   {
    "duration": 5,
    "start_time": "2022-06-23T11:40:13.101Z"
   },
   {
    "duration": 59,
    "start_time": "2022-06-23T11:40:13.107Z"
   },
   {
    "duration": 14,
    "start_time": "2022-06-23T11:40:13.169Z"
   },
   {
    "duration": 17,
    "start_time": "2022-06-23T11:40:13.185Z"
   },
   {
    "duration": 16,
    "start_time": "2022-06-23T11:40:13.205Z"
   },
   {
    "duration": 50,
    "start_time": "2022-06-23T11:40:13.223Z"
   },
   {
    "duration": 10,
    "start_time": "2022-06-23T11:40:13.274Z"
   },
   {
    "duration": 11,
    "start_time": "2022-06-23T11:40:13.285Z"
   },
   {
    "duration": 6,
    "start_time": "2022-06-23T11:40:13.298Z"
   },
   {
    "duration": 7,
    "start_time": "2022-06-23T11:40:13.306Z"
   },
   {
    "duration": 8,
    "start_time": "2022-06-23T11:40:13.315Z"
   },
   {
    "duration": 52,
    "start_time": "2022-06-23T11:40:13.326Z"
   },
   {
    "duration": 7,
    "start_time": "2022-06-23T11:40:13.380Z"
   },
   {
    "duration": 6,
    "start_time": "2022-06-23T11:40:13.389Z"
   },
   {
    "duration": 6,
    "start_time": "2022-06-23T11:40:13.396Z"
   },
   {
    "duration": 7,
    "start_time": "2022-06-23T11:40:13.404Z"
   },
   {
    "duration": 18,
    "start_time": "2022-06-23T11:40:13.413Z"
   },
   {
    "duration": 39,
    "start_time": "2022-06-23T11:40:13.433Z"
   },
   {
    "duration": 4,
    "start_time": "2022-06-23T11:40:13.473Z"
   },
   {
    "duration": 27,
    "start_time": "2022-06-23T11:40:13.479Z"
   },
   {
    "duration": 17,
    "start_time": "2022-06-23T11:40:13.507Z"
   },
   {
    "duration": 283,
    "start_time": "2022-06-23T11:40:13.526Z"
   },
   {
    "duration": 14,
    "start_time": "2022-06-23T11:40:13.810Z"
   },
   {
    "duration": 192,
    "start_time": "2022-06-23T11:40:13.827Z"
   },
   {
    "duration": 361,
    "start_time": "2022-06-23T11:40:14.021Z"
   },
   {
    "duration": 18,
    "start_time": "2022-06-23T11:40:14.384Z"
   },
   {
    "duration": 11,
    "start_time": "2022-06-23T11:40:14.403Z"
   },
   {
    "duration": 147,
    "start_time": "2022-06-23T11:40:14.415Z"
   },
   {
    "duration": 25,
    "start_time": "2022-06-23T11:40:14.564Z"
   },
   {
    "duration": 5,
    "start_time": "2022-06-23T11:40:14.591Z"
   },
   {
    "duration": 15,
    "start_time": "2022-06-23T11:40:14.598Z"
   },
   {
    "duration": 39,
    "start_time": "2022-06-23T11:40:14.615Z"
   },
   {
    "duration": 396,
    "start_time": "2022-06-23T11:40:14.656Z"
   },
   {
    "duration": 285,
    "start_time": "2022-06-23T11:40:15.054Z"
   },
   {
    "duration": 161,
    "start_time": "2022-06-23T11:40:15.341Z"
   },
   {
    "duration": 176,
    "start_time": "2022-06-23T11:40:15.503Z"
   },
   {
    "duration": 13,
    "start_time": "2022-06-23T11:40:15.681Z"
   },
   {
    "duration": 27,
    "start_time": "2022-06-23T11:40:15.695Z"
   },
   {
    "duration": 44,
    "start_time": "2022-06-23T11:40:15.725Z"
   },
   {
    "duration": 142,
    "start_time": "2022-06-23T11:40:15.771Z"
   },
   {
    "duration": 175,
    "start_time": "2022-06-23T11:40:15.915Z"
   },
   {
    "duration": 14,
    "start_time": "2022-06-23T11:40:16.091Z"
   },
   {
    "duration": 187,
    "start_time": "2022-06-23T11:40:16.108Z"
   },
   {
    "duration": 254,
    "start_time": "2022-06-23T11:40:16.296Z"
   },
   {
    "duration": 166,
    "start_time": "2022-06-23T11:40:16.552Z"
   },
   {
    "duration": 54,
    "start_time": "2022-06-23T11:40:16.719Z"
   },
   {
    "duration": 36,
    "start_time": "2022-06-23T11:40:16.774Z"
   },
   {
    "duration": 4,
    "start_time": "2022-06-23T11:40:16.811Z"
   },
   {
    "duration": 7,
    "start_time": "2022-06-23T11:40:16.817Z"
   },
   {
    "duration": 9,
    "start_time": "2022-06-23T11:40:16.825Z"
   },
   {
    "duration": 37,
    "start_time": "2022-06-23T11:40:16.835Z"
   },
   {
    "duration": 5,
    "start_time": "2022-06-23T11:40:16.874Z"
   },
   {
    "duration": 9,
    "start_time": "2022-06-23T11:40:16.881Z"
   },
   {
    "duration": 3,
    "start_time": "2022-06-23T11:57:00.079Z"
   },
   {
    "duration": 10,
    "start_time": "2022-06-23T11:57:00.083Z"
   },
   {
    "duration": 6,
    "start_time": "2022-06-23T11:57:00.095Z"
   },
   {
    "duration": 21,
    "start_time": "2022-06-23T11:57:00.103Z"
   },
   {
    "duration": 8,
    "start_time": "2022-06-23T11:57:00.125Z"
   },
   {
    "duration": 67,
    "start_time": "2022-06-23T11:57:00.135Z"
   },
   {
    "duration": 13,
    "start_time": "2022-06-23T11:57:00.204Z"
   },
   {
    "duration": 23,
    "start_time": "2022-06-23T11:57:00.218Z"
   },
   {
    "duration": 38,
    "start_time": "2022-06-23T11:57:00.243Z"
   },
   {
    "duration": 19,
    "start_time": "2022-06-23T11:57:00.282Z"
   },
   {
    "duration": 11,
    "start_time": "2022-06-23T11:57:00.303Z"
   },
   {
    "duration": 28,
    "start_time": "2022-06-23T11:57:00.315Z"
   },
   {
    "duration": 16,
    "start_time": "2022-06-23T11:57:00.344Z"
   },
   {
    "duration": 21,
    "start_time": "2022-06-23T11:57:00.361Z"
   },
   {
    "duration": 16,
    "start_time": "2022-06-23T11:57:00.384Z"
   },
   {
    "duration": 29,
    "start_time": "2022-06-23T11:57:00.401Z"
   },
   {
    "duration": 7,
    "start_time": "2022-06-23T11:57:00.432Z"
   },
   {
    "duration": 15,
    "start_time": "2022-06-23T11:57:00.441Z"
   },
   {
    "duration": 28,
    "start_time": "2022-06-23T11:57:00.457Z"
   },
   {
    "duration": 39,
    "start_time": "2022-06-23T11:57:00.487Z"
   },
   {
    "duration": 24,
    "start_time": "2022-06-23T11:57:00.528Z"
   },
   {
    "duration": 46,
    "start_time": "2022-06-23T11:57:00.554Z"
   },
   {
    "duration": 27,
    "start_time": "2022-06-23T11:57:00.601Z"
   },
   {
    "duration": 68,
    "start_time": "2022-06-23T11:57:00.631Z"
   },
   {
    "duration": 53,
    "start_time": "2022-06-23T11:57:00.701Z"
   },
   {
    "duration": 299,
    "start_time": "2022-06-23T11:57:00.757Z"
   },
   {
    "duration": 27,
    "start_time": "2022-06-23T11:57:01.057Z"
   },
   {
    "duration": 237,
    "start_time": "2022-06-23T11:57:01.087Z"
   },
   {
    "duration": 310,
    "start_time": "2022-06-23T11:57:01.326Z"
   },
   {
    "duration": 17,
    "start_time": "2022-06-23T11:57:01.638Z"
   },
   {
    "duration": 36,
    "start_time": "2022-06-23T11:57:01.657Z"
   },
   {
    "duration": 186,
    "start_time": "2022-06-23T11:57:01.695Z"
   },
   {
    "duration": 21,
    "start_time": "2022-06-23T11:57:01.883Z"
   },
   {
    "duration": 27,
    "start_time": "2022-06-23T11:57:01.906Z"
   },
   {
    "duration": 67,
    "start_time": "2022-06-23T11:57:01.934Z"
   },
   {
    "duration": 29,
    "start_time": "2022-06-23T11:57:02.002Z"
   },
   {
    "duration": 354,
    "start_time": "2022-06-23T11:57:02.033Z"
   },
   {
    "duration": 261,
    "start_time": "2022-06-23T11:57:02.388Z"
   },
   {
    "duration": 252,
    "start_time": "2022-06-23T11:57:02.650Z"
   },
   {
    "duration": 156,
    "start_time": "2022-06-23T11:57:02.904Z"
   },
   {
    "duration": 21,
    "start_time": "2022-06-23T11:57:03.062Z"
   },
   {
    "duration": 25,
    "start_time": "2022-06-23T11:57:03.085Z"
   },
   {
    "duration": 29,
    "start_time": "2022-06-23T11:57:03.112Z"
   },
   {
    "duration": 170,
    "start_time": "2022-06-23T11:57:03.144Z"
   },
   {
    "duration": 164,
    "start_time": "2022-06-23T11:57:03.316Z"
   },
   {
    "duration": 11,
    "start_time": "2022-06-23T11:57:03.482Z"
   },
   {
    "duration": 171,
    "start_time": "2022-06-23T11:57:03.495Z"
   },
   {
    "duration": 174,
    "start_time": "2022-06-23T11:57:03.667Z"
   },
   {
    "duration": 162,
    "start_time": "2022-06-23T11:57:03.843Z"
   },
   {
    "duration": 35,
    "start_time": "2022-06-23T11:57:04.006Z"
   },
   {
    "duration": 55,
    "start_time": "2022-06-23T11:57:04.042Z"
   },
   {
    "duration": 3,
    "start_time": "2022-06-23T11:57:04.099Z"
   },
   {
    "duration": 5,
    "start_time": "2022-06-23T11:57:04.104Z"
   },
   {
    "duration": 14,
    "start_time": "2022-06-23T11:57:04.111Z"
   },
   {
    "duration": 10,
    "start_time": "2022-06-23T11:57:04.127Z"
   },
   {
    "duration": 11,
    "start_time": "2022-06-23T11:57:04.139Z"
   },
   {
    "duration": 31,
    "start_time": "2022-06-23T11:57:04.151Z"
   },
   {
    "duration": 631,
    "start_time": "2022-06-23T11:57:27.421Z"
   },
   {
    "duration": 2,
    "start_time": "2022-06-23T11:57:28.055Z"
   },
   {
    "duration": 268,
    "start_time": "2022-06-23T11:57:28.059Z"
   },
   {
    "duration": 1083,
    "start_time": "2022-06-23T11:57:28.329Z"
   },
   {
    "duration": 149,
    "start_time": "2022-06-23T11:57:29.414Z"
   },
   {
    "duration": 105,
    "start_time": "2022-06-23T11:57:29.565Z"
   },
   {
    "duration": 15,
    "start_time": "2022-06-23T11:57:29.672Z"
   },
   {
    "duration": 19,
    "start_time": "2022-06-23T11:57:29.689Z"
   },
   {
    "duration": 16,
    "start_time": "2022-06-23T11:57:29.710Z"
   },
   {
    "duration": 46,
    "start_time": "2022-06-23T11:57:29.729Z"
   },
   {
    "duration": 11,
    "start_time": "2022-06-23T11:57:29.777Z"
   },
   {
    "duration": 5,
    "start_time": "2022-06-23T11:57:29.790Z"
   },
   {
    "duration": 6,
    "start_time": "2022-06-23T11:57:29.797Z"
   },
   {
    "duration": 10,
    "start_time": "2022-06-23T11:57:29.805Z"
   },
   {
    "duration": 12,
    "start_time": "2022-06-23T11:57:29.818Z"
   },
   {
    "duration": 45,
    "start_time": "2022-06-23T11:57:29.832Z"
   },
   {
    "duration": 7,
    "start_time": "2022-06-23T11:57:29.879Z"
   },
   {
    "duration": 4,
    "start_time": "2022-06-23T11:57:29.888Z"
   },
   {
    "duration": 9,
    "start_time": "2022-06-23T11:57:29.894Z"
   },
   {
    "duration": 8,
    "start_time": "2022-06-23T11:57:29.905Z"
   },
   {
    "duration": 10,
    "start_time": "2022-06-23T11:57:29.915Z"
   },
   {
    "duration": 14,
    "start_time": "2022-06-23T11:57:29.927Z"
   },
   {
    "duration": 25,
    "start_time": "2022-06-23T11:57:29.943Z"
   },
   {
    "duration": 16,
    "start_time": "2022-06-23T11:57:29.970Z"
   },
   {
    "duration": 18,
    "start_time": "2022-06-23T11:57:29.988Z"
   },
   {
    "duration": 261,
    "start_time": "2022-06-23T11:57:30.008Z"
   },
   {
    "duration": 14,
    "start_time": "2022-06-23T11:57:30.271Z"
   },
   {
    "duration": 180,
    "start_time": "2022-06-23T11:57:30.289Z"
   },
   {
    "duration": 268,
    "start_time": "2022-06-23T11:57:30.472Z"
   },
   {
    "duration": 26,
    "start_time": "2022-06-23T11:57:30.742Z"
   },
   {
    "duration": 11,
    "start_time": "2022-06-23T11:57:30.770Z"
   },
   {
    "duration": 134,
    "start_time": "2022-06-23T11:57:30.782Z"
   },
   {
    "duration": 23,
    "start_time": "2022-06-23T11:57:30.918Z"
   },
   {
    "duration": 5,
    "start_time": "2022-06-23T11:57:30.943Z"
   },
   {
    "duration": 11,
    "start_time": "2022-06-23T11:57:30.966Z"
   },
   {
    "duration": 24,
    "start_time": "2022-06-23T11:57:30.979Z"
   },
   {
    "duration": 347,
    "start_time": "2022-06-23T11:57:31.005Z"
   },
   {
    "duration": 273,
    "start_time": "2022-06-23T11:57:31.354Z"
   },
   {
    "duration": 228,
    "start_time": "2022-06-23T11:57:31.629Z"
   },
   {
    "duration": 159,
    "start_time": "2022-06-23T11:57:31.859Z"
   },
   {
    "duration": 12,
    "start_time": "2022-06-23T11:57:32.020Z"
   },
   {
    "duration": 38,
    "start_time": "2022-06-23T11:57:32.034Z"
   },
   {
    "duration": 26,
    "start_time": "2022-06-23T11:57:32.073Z"
   },
   {
    "duration": 159,
    "start_time": "2022-06-23T11:57:32.101Z"
   },
   {
    "duration": 170,
    "start_time": "2022-06-23T11:57:32.266Z"
   },
   {
    "duration": 12,
    "start_time": "2022-06-23T11:57:32.438Z"
   },
   {
    "duration": 176,
    "start_time": "2022-06-23T11:57:32.452Z"
   },
   {
    "duration": 196,
    "start_time": "2022-06-23T11:57:32.631Z"
   },
   {
    "duration": 167,
    "start_time": "2022-06-23T11:57:32.828Z"
   },
   {
    "duration": 39,
    "start_time": "2022-06-23T11:57:32.996Z"
   },
   {
    "duration": 56,
    "start_time": "2022-06-23T11:57:33.036Z"
   },
   {
    "duration": 5,
    "start_time": "2022-06-23T11:57:33.094Z"
   },
   {
    "duration": 7,
    "start_time": "2022-06-23T11:57:33.101Z"
   },
   {
    "duration": 19,
    "start_time": "2022-06-23T11:57:33.109Z"
   },
   {
    "duration": 8,
    "start_time": "2022-06-23T11:57:33.130Z"
   },
   {
    "duration": 28,
    "start_time": "2022-06-23T11:57:33.140Z"
   },
   {
    "duration": 12,
    "start_time": "2022-06-23T11:57:33.170Z"
   },
   {
    "duration": 366,
    "start_time": "2022-06-24T08:26:26.476Z"
   },
   {
    "duration": 3,
    "start_time": "2022-06-24T08:26:27.847Z"
   },
   {
    "duration": 426,
    "start_time": "2022-06-24T08:26:28.953Z"
   },
   {
    "duration": 455,
    "start_time": "2022-06-24T08:26:30.378Z"
   },
   {
    "duration": 56,
    "start_time": "2022-06-24T08:26:31.642Z"
   },
   {
    "duration": 100,
    "start_time": "2022-06-24T08:27:32.111Z"
   },
   {
    "duration": 17,
    "start_time": "2022-06-24T08:28:34.674Z"
   },
   {
    "duration": 6,
    "start_time": "2022-06-24T08:31:04.685Z"
   },
   {
    "duration": 7,
    "start_time": "2022-06-24T08:31:06.471Z"
   },
   {
    "duration": 7,
    "start_time": "2022-06-24T08:31:09.032Z"
   },
   {
    "duration": 11,
    "start_time": "2022-06-24T08:31:11.046Z"
   },
   {
    "duration": 5,
    "start_time": "2022-06-24T08:31:16.909Z"
   },
   {
    "duration": 24,
    "start_time": "2022-06-24T08:31:37.415Z"
   },
   {
    "duration": 281,
    "start_time": "2022-06-24T08:31:40.918Z"
   },
   {
    "duration": 12,
    "start_time": "2022-06-24T08:32:58.973Z"
   },
   {
    "duration": 20,
    "start_time": "2022-06-24T08:35:48.386Z"
   },
   {
    "duration": 46,
    "start_time": "2022-06-24T17:51:31.320Z"
   },
   {
    "duration": 1207,
    "start_time": "2022-06-24T17:51:37.390Z"
   },
   {
    "duration": 174,
    "start_time": "2022-06-24T17:51:38.599Z"
   },
   {
    "duration": 14,
    "start_time": "2022-06-24T17:51:38.774Z"
   },
   {
    "duration": 14,
    "start_time": "2022-06-24T17:51:38.790Z"
   },
   {
    "duration": 13,
    "start_time": "2022-06-24T17:51:38.806Z"
   },
   {
    "duration": 19,
    "start_time": "2022-06-24T17:51:38.820Z"
   },
   {
    "duration": 8,
    "start_time": "2022-06-24T17:51:38.840Z"
   },
   {
    "duration": 4,
    "start_time": "2022-06-24T17:51:38.850Z"
   },
   {
    "duration": 7,
    "start_time": "2022-06-24T17:51:38.856Z"
   },
   {
    "duration": 7,
    "start_time": "2022-06-24T17:51:38.865Z"
   },
   {
    "duration": 7,
    "start_time": "2022-06-24T17:51:38.873Z"
   },
   {
    "duration": 25,
    "start_time": "2022-06-24T17:51:38.882Z"
   },
   {
    "duration": 8,
    "start_time": "2022-06-24T17:51:38.929Z"
   },
   {
    "duration": 4,
    "start_time": "2022-06-24T17:51:38.940Z"
   },
   {
    "duration": 10,
    "start_time": "2022-06-24T17:51:38.946Z"
   },
   {
    "duration": 7,
    "start_time": "2022-06-24T17:51:38.957Z"
   },
   {
    "duration": 9,
    "start_time": "2022-06-24T17:51:38.966Z"
   },
   {
    "duration": 21,
    "start_time": "2022-06-24T17:51:38.976Z"
   },
   {
    "duration": 7,
    "start_time": "2022-06-24T17:51:38.999Z"
   },
   {
    "duration": 34,
    "start_time": "2022-06-24T17:51:39.007Z"
   },
   {
    "duration": 16,
    "start_time": "2022-06-24T17:51:39.042Z"
   },
   {
    "duration": 253,
    "start_time": "2022-06-24T17:51:39.060Z"
   },
   {
    "duration": 20,
    "start_time": "2022-06-24T17:51:39.315Z"
   },
   {
    "duration": 170,
    "start_time": "2022-06-24T17:51:39.336Z"
   },
   {
    "duration": 236,
    "start_time": "2022-06-24T17:51:39.508Z"
   },
   {
    "duration": 15,
    "start_time": "2022-06-24T17:51:39.745Z"
   },
   {
    "duration": 9,
    "start_time": "2022-06-24T17:51:39.762Z"
   },
   {
    "duration": 130,
    "start_time": "2022-06-24T17:51:39.772Z"
   },
   {
    "duration": 30,
    "start_time": "2022-06-24T17:51:39.903Z"
   },
   {
    "duration": 11,
    "start_time": "2022-06-24T17:51:39.935Z"
   },
   {
    "duration": 25,
    "start_time": "2022-06-24T17:51:39.947Z"
   },
   {
    "duration": 20,
    "start_time": "2022-06-24T17:51:39.974Z"
   },
   {
    "duration": 283,
    "start_time": "2022-06-24T17:51:39.996Z"
   },
   {
    "duration": 233,
    "start_time": "2022-06-24T17:51:40.280Z"
   },
   {
    "duration": 215,
    "start_time": "2022-06-24T17:51:40.515Z"
   },
   {
    "duration": 145,
    "start_time": "2022-06-24T17:51:40.732Z"
   },
   {
    "duration": 12,
    "start_time": "2022-06-24T17:51:40.879Z"
   },
   {
    "duration": 36,
    "start_time": "2022-06-24T17:51:40.893Z"
   },
   {
    "duration": 19,
    "start_time": "2022-06-24T17:51:40.930Z"
   },
   {
    "duration": 125,
    "start_time": "2022-06-24T17:51:40.950Z"
   },
   {
    "duration": 165,
    "start_time": "2022-06-24T17:51:41.079Z"
   },
   {
    "duration": 10,
    "start_time": "2022-06-24T17:51:41.245Z"
   },
   {
    "duration": 156,
    "start_time": "2022-06-24T17:51:41.257Z"
   },
   {
    "duration": 148,
    "start_time": "2022-06-24T17:51:41.415Z"
   },
   {
    "duration": 136,
    "start_time": "2022-06-24T17:51:41.564Z"
   },
   {
    "duration": 44,
    "start_time": "2022-06-24T17:51:41.702Z"
   },
   {
    "duration": 30,
    "start_time": "2022-06-24T17:51:41.748Z"
   },
   {
    "duration": 4,
    "start_time": "2022-06-24T17:51:41.779Z"
   },
   {
    "duration": 6,
    "start_time": "2022-06-24T17:51:41.785Z"
   },
   {
    "duration": 12,
    "start_time": "2022-06-24T17:51:41.792Z"
   },
   {
    "duration": 5,
    "start_time": "2022-06-24T17:51:41.829Z"
   },
   {
    "duration": 5,
    "start_time": "2022-06-24T17:51:41.835Z"
   },
   {
    "duration": 9,
    "start_time": "2022-06-24T17:51:41.841Z"
   },
   {
    "duration": 108,
    "start_time": "2022-06-24T17:54:33.732Z"
   },
   {
    "duration": 4,
    "start_time": "2022-06-24T17:54:39.548Z"
   },
   {
    "duration": 1119,
    "start_time": "2022-06-24T17:54:55.803Z"
   },
   {
    "duration": 1103,
    "start_time": "2022-06-24T17:55:53.432Z"
   },
   {
    "duration": 3,
    "start_time": "2022-06-24T17:56:01.491Z"
   },
   {
    "duration": 52,
    "start_time": "2022-06-24T17:56:01.497Z"
   },
   {
    "duration": 11,
    "start_time": "2022-06-24T17:56:01.551Z"
   },
   {
    "duration": 12,
    "start_time": "2022-06-24T17:56:01.564Z"
   },
   {
    "duration": 23,
    "start_time": "2022-06-24T17:56:01.577Z"
   },
   {
    "duration": 39,
    "start_time": "2022-06-24T17:56:01.602Z"
   },
   {
    "duration": 9,
    "start_time": "2022-06-24T17:56:01.642Z"
   },
   {
    "duration": 13,
    "start_time": "2022-06-24T17:56:01.653Z"
   },
   {
    "duration": 12,
    "start_time": "2022-06-24T17:56:01.668Z"
   },
   {
    "duration": 11,
    "start_time": "2022-06-24T17:56:01.681Z"
   },
   {
    "duration": 14,
    "start_time": "2022-06-24T17:56:01.694Z"
   },
   {
    "duration": 26,
    "start_time": "2022-06-24T17:56:01.710Z"
   },
   {
    "duration": 6,
    "start_time": "2022-06-24T17:56:01.737Z"
   },
   {
    "duration": 12,
    "start_time": "2022-06-24T17:56:01.745Z"
   },
   {
    "duration": 7,
    "start_time": "2022-06-24T17:56:01.759Z"
   },
   {
    "duration": 9,
    "start_time": "2022-06-24T17:56:01.767Z"
   },
   {
    "duration": 10,
    "start_time": "2022-06-24T17:56:01.777Z"
   },
   {
    "duration": 26,
    "start_time": "2022-06-24T17:56:01.788Z"
   },
   {
    "duration": 47,
    "start_time": "2022-06-24T17:56:01.816Z"
   },
   {
    "duration": 26,
    "start_time": "2022-06-24T17:56:01.865Z"
   },
   {
    "duration": 28,
    "start_time": "2022-06-24T17:56:01.893Z"
   },
   {
    "duration": 102,
    "start_time": "2022-06-24T17:57:59.911Z"
   },
   {
    "duration": 11,
    "start_time": "2022-06-24T17:58:17.029Z"
   },
   {
    "duration": 11,
    "start_time": "2022-06-24T17:58:34.760Z"
   },
   {
    "duration": 281,
    "start_time": "2022-06-24T18:00:40.807Z"
   },
   {
    "duration": 23,
    "start_time": "2022-06-24T18:06:40.337Z"
   },
   {
    "duration": 19,
    "start_time": "2022-06-24T18:06:45.972Z"
   },
   {
    "duration": 134,
    "start_time": "2022-06-24T18:07:17.199Z"
   },
   {
    "duration": 160,
    "start_time": "2022-06-24T18:07:26.866Z"
   },
   {
    "duration": 11,
    "start_time": "2022-06-24T18:07:31.253Z"
   },
   {
    "duration": 10,
    "start_time": "2022-06-24T18:13:16.143Z"
   },
   {
    "duration": 9,
    "start_time": "2022-06-24T18:13:31.798Z"
   },
   {
    "duration": 2,
    "start_time": "2022-06-24T18:13:55.665Z"
   },
   {
    "duration": 53,
    "start_time": "2022-06-24T18:13:55.669Z"
   },
   {
    "duration": 13,
    "start_time": "2022-06-24T18:13:55.723Z"
   },
   {
    "duration": 12,
    "start_time": "2022-06-24T18:13:55.739Z"
   },
   {
    "duration": 15,
    "start_time": "2022-06-24T18:13:55.752Z"
   },
   {
    "duration": 16,
    "start_time": "2022-06-24T18:13:55.768Z"
   },
   {
    "duration": 8,
    "start_time": "2022-06-24T18:13:55.786Z"
   },
   {
    "duration": 34,
    "start_time": "2022-06-24T18:13:55.796Z"
   },
   {
    "duration": 71,
    "start_time": "2022-06-24T18:13:55.833Z"
   },
   {
    "duration": 5,
    "start_time": "2022-06-24T18:13:55.929Z"
   },
   {
    "duration": 5,
    "start_time": "2022-06-24T18:13:55.936Z"
   },
   {
    "duration": 21,
    "start_time": "2022-06-24T18:13:55.943Z"
   },
   {
    "duration": 6,
    "start_time": "2022-06-24T18:13:55.966Z"
   },
   {
    "duration": 4,
    "start_time": "2022-06-24T18:13:55.974Z"
   },
   {
    "duration": 6,
    "start_time": "2022-06-24T18:13:55.980Z"
   },
   {
    "duration": 9,
    "start_time": "2022-06-24T18:13:55.987Z"
   },
   {
    "duration": 45,
    "start_time": "2022-06-24T18:13:55.997Z"
   },
   {
    "duration": 17,
    "start_time": "2022-06-24T18:13:56.044Z"
   },
   {
    "duration": 5,
    "start_time": "2022-06-24T18:13:56.063Z"
   },
   {
    "duration": 18,
    "start_time": "2022-06-24T18:13:56.070Z"
   },
   {
    "duration": 19,
    "start_time": "2022-06-24T18:13:56.090Z"
   },
   {
    "duration": 27,
    "start_time": "2022-06-24T18:13:56.111Z"
   },
   {
    "duration": 230,
    "start_time": "2022-06-24T18:13:56.140Z"
   },
   {
    "duration": 12,
    "start_time": "2022-06-24T18:13:56.373Z"
   },
   {
    "duration": 286,
    "start_time": "2022-06-24T18:13:56.387Z"
   },
   {
    "duration": 234,
    "start_time": "2022-06-24T18:13:56.675Z"
   },
   {
    "duration": 22,
    "start_time": "2022-06-24T18:13:56.911Z"
   },
   {
    "duration": 8,
    "start_time": "2022-06-24T18:13:56.934Z"
   },
   {
    "duration": 115,
    "start_time": "2022-06-24T18:13:56.944Z"
   },
   {
    "duration": 18,
    "start_time": "2022-06-24T18:13:57.060Z"
   },
   {
    "duration": 7,
    "start_time": "2022-06-24T18:13:57.079Z"
   },
   {
    "duration": 10,
    "start_time": "2022-06-24T18:13:57.088Z"
   },
   {
    "duration": 32,
    "start_time": "2022-06-24T18:13:57.099Z"
   },
   {
    "duration": 297,
    "start_time": "2022-06-24T18:13:57.132Z"
   },
   {
    "duration": 230,
    "start_time": "2022-06-24T18:13:57.430Z"
   },
   {
    "duration": 139,
    "start_time": "2022-06-24T18:13:57.662Z"
   },
   {
    "duration": 135,
    "start_time": "2022-06-24T18:13:57.802Z"
   },
   {
    "duration": 11,
    "start_time": "2022-06-24T18:13:57.938Z"
   },
   {
    "duration": 22,
    "start_time": "2022-06-24T18:13:57.950Z"
   },
   {
    "duration": 17,
    "start_time": "2022-06-24T18:13:57.974Z"
   },
   {
    "duration": 213,
    "start_time": "2022-06-24T18:13:57.992Z"
   },
   {
    "duration": 145,
    "start_time": "2022-06-24T18:13:58.206Z"
   },
   {
    "duration": 9,
    "start_time": "2022-06-24T18:13:58.353Z"
   },
   {
    "duration": 9,
    "start_time": "2022-06-24T18:14:00.950Z"
   },
   {
    "duration": 9,
    "start_time": "2022-06-24T18:14:19.034Z"
   },
   {
    "duration": 11,
    "start_time": "2022-06-24T18:15:22.110Z"
   },
   {
    "duration": 90,
    "start_time": "2022-06-24T18:16:59.971Z"
   },
   {
    "duration": 106,
    "start_time": "2022-06-24T18:18:05.865Z"
   },
   {
    "duration": 10,
    "start_time": "2022-06-24T18:18:44.051Z"
   },
   {
    "duration": 11,
    "start_time": "2022-06-24T18:19:24.588Z"
   },
   {
    "duration": 10,
    "start_time": "2022-06-24T18:19:40.196Z"
   },
   {
    "duration": 10,
    "start_time": "2022-06-24T18:19:51.418Z"
   },
   {
    "duration": 11,
    "start_time": "2022-06-24T18:26:50.658Z"
   },
   {
    "duration": 10,
    "start_time": "2022-06-24T18:27:11.681Z"
   },
   {
    "duration": 12,
    "start_time": "2022-06-24T18:33:46.240Z"
   },
   {
    "duration": 14,
    "start_time": "2022-06-24T18:34:45.634Z"
   },
   {
    "duration": 12,
    "start_time": "2022-06-24T18:35:11.341Z"
   },
   {
    "duration": 12,
    "start_time": "2022-06-24T18:35:49.953Z"
   },
   {
    "duration": 12,
    "start_time": "2022-06-24T18:40:22.564Z"
   },
   {
    "duration": 143,
    "start_time": "2022-06-24T18:42:25.145Z"
   },
   {
    "duration": 135,
    "start_time": "2022-06-24T18:43:41.590Z"
   },
   {
    "duration": 4,
    "start_time": "2022-06-24T18:44:58.465Z"
   },
   {
    "duration": 60,
    "start_time": "2022-06-24T18:44:58.471Z"
   },
   {
    "duration": 19,
    "start_time": "2022-06-24T18:44:58.533Z"
   },
   {
    "duration": 21,
    "start_time": "2022-06-24T18:44:58.554Z"
   },
   {
    "duration": 18,
    "start_time": "2022-06-24T18:44:58.577Z"
   },
   {
    "duration": 41,
    "start_time": "2022-06-24T18:44:58.597Z"
   },
   {
    "duration": 10,
    "start_time": "2022-06-24T18:44:58.640Z"
   },
   {
    "duration": 6,
    "start_time": "2022-06-24T18:44:58.652Z"
   },
   {
    "duration": 7,
    "start_time": "2022-06-24T18:44:58.661Z"
   },
   {
    "duration": 8,
    "start_time": "2022-06-24T18:44:58.669Z"
   },
   {
    "duration": 7,
    "start_time": "2022-06-24T18:44:58.679Z"
   },
   {
    "duration": 60,
    "start_time": "2022-06-24T18:44:58.687Z"
   },
   {
    "duration": 8,
    "start_time": "2022-06-24T18:44:58.749Z"
   },
   {
    "duration": 7,
    "start_time": "2022-06-24T18:44:58.759Z"
   },
   {
    "duration": 7,
    "start_time": "2022-06-24T18:44:58.768Z"
   },
   {
    "duration": 8,
    "start_time": "2022-06-24T18:44:58.776Z"
   },
   {
    "duration": 12,
    "start_time": "2022-06-24T18:44:58.786Z"
   },
   {
    "duration": 20,
    "start_time": "2022-06-24T18:44:58.828Z"
   },
   {
    "duration": 6,
    "start_time": "2022-06-24T18:44:58.850Z"
   },
   {
    "duration": 18,
    "start_time": "2022-06-24T18:44:58.857Z"
   },
   {
    "duration": 17,
    "start_time": "2022-06-24T18:44:58.877Z"
   },
   {
    "duration": 35,
    "start_time": "2022-06-24T18:44:58.896Z"
   },
   {
    "duration": 227,
    "start_time": "2022-06-24T18:44:58.932Z"
   },
   {
    "duration": 15,
    "start_time": "2022-06-24T18:44:59.162Z"
   },
   {
    "duration": 293,
    "start_time": "2022-06-24T18:44:59.178Z"
   },
   {
    "duration": 244,
    "start_time": "2022-06-24T18:44:59.472Z"
   },
   {
    "duration": 31,
    "start_time": "2022-06-24T18:44:59.718Z"
   },
   {
    "duration": 10,
    "start_time": "2022-06-24T18:44:59.752Z"
   },
   {
    "duration": 139,
    "start_time": "2022-06-24T18:44:59.764Z"
   },
   {
    "duration": 26,
    "start_time": "2022-06-24T18:44:59.904Z"
   },
   {
    "duration": 4,
    "start_time": "2022-06-24T18:44:59.932Z"
   },
   {
    "duration": 18,
    "start_time": "2022-06-24T18:44:59.937Z"
   },
   {
    "duration": 16,
    "start_time": "2022-06-24T18:44:59.957Z"
   },
   {
    "duration": 375,
    "start_time": "2022-06-24T18:44:59.974Z"
   },
   {
    "duration": 233,
    "start_time": "2022-06-24T18:45:00.351Z"
   },
   {
    "duration": 135,
    "start_time": "2022-06-24T18:45:00.585Z"
   },
   {
    "duration": 142,
    "start_time": "2022-06-24T18:45:00.722Z"
   },
   {
    "duration": 12,
    "start_time": "2022-06-24T18:45:00.866Z"
   },
   {
    "duration": 25,
    "start_time": "2022-06-24T18:45:00.880Z"
   },
   {
    "duration": 32,
    "start_time": "2022-06-24T18:45:00.906Z"
   },
   {
    "duration": 123,
    "start_time": "2022-06-24T18:45:00.940Z"
   },
   {
    "duration": 150,
    "start_time": "2022-06-24T18:45:01.065Z"
   },
   {
    "duration": 22,
    "start_time": "2022-06-24T18:45:01.216Z"
   },
   {
    "duration": 137,
    "start_time": "2022-06-24T18:45:01.240Z"
   },
   {
    "duration": 143,
    "start_time": "2022-06-24T18:45:01.379Z"
   },
   {
    "duration": 153,
    "start_time": "2022-06-24T18:45:01.523Z"
   },
   {
    "duration": 33,
    "start_time": "2022-06-24T18:45:01.677Z"
   },
   {
    "duration": 44,
    "start_time": "2022-06-24T18:45:01.711Z"
   },
   {
    "duration": 4,
    "start_time": "2022-06-24T18:45:01.756Z"
   },
   {
    "duration": 21,
    "start_time": "2022-06-24T18:45:01.761Z"
   },
   {
    "duration": 12,
    "start_time": "2022-06-24T18:45:01.784Z"
   },
   {
    "duration": 20,
    "start_time": "2022-06-24T18:45:01.797Z"
   },
   {
    "duration": 7,
    "start_time": "2022-06-24T18:45:01.818Z"
   },
   {
    "duration": 12,
    "start_time": "2022-06-24T18:45:01.827Z"
   },
   {
    "duration": 23,
    "start_time": "2022-06-24T18:56:54.135Z"
   },
   {
    "duration": 24,
    "start_time": "2022-06-24T18:57:43.879Z"
   },
   {
    "duration": 33,
    "start_time": "2022-06-24T18:59:28.789Z"
   },
   {
    "duration": 33,
    "start_time": "2022-06-24T19:00:03.027Z"
   },
   {
    "duration": 3,
    "start_time": "2022-06-24T19:04:13.013Z"
   },
   {
    "duration": 63,
    "start_time": "2022-06-24T19:04:13.018Z"
   },
   {
    "duration": 12,
    "start_time": "2022-06-24T19:04:13.083Z"
   },
   {
    "duration": 12,
    "start_time": "2022-06-24T19:04:13.097Z"
   },
   {
    "duration": 13,
    "start_time": "2022-06-24T19:04:13.111Z"
   },
   {
    "duration": 18,
    "start_time": "2022-06-24T19:04:13.126Z"
   },
   {
    "duration": 8,
    "start_time": "2022-06-24T19:04:13.145Z"
   },
   {
    "duration": 8,
    "start_time": "2022-06-24T19:04:13.154Z"
   },
   {
    "duration": 5,
    "start_time": "2022-06-24T19:04:13.166Z"
   },
   {
    "duration": 9,
    "start_time": "2022-06-24T19:04:13.172Z"
   },
   {
    "duration": 7,
    "start_time": "2022-06-24T19:04:13.183Z"
   },
   {
    "duration": 49,
    "start_time": "2022-06-24T19:04:13.192Z"
   },
   {
    "duration": 6,
    "start_time": "2022-06-24T19:04:13.242Z"
   },
   {
    "duration": 5,
    "start_time": "2022-06-24T19:04:13.250Z"
   },
   {
    "duration": 10,
    "start_time": "2022-06-24T19:04:13.256Z"
   },
   {
    "duration": 12,
    "start_time": "2022-06-24T19:04:13.267Z"
   },
   {
    "duration": 9,
    "start_time": "2022-06-24T19:04:13.281Z"
   },
   {
    "duration": 11,
    "start_time": "2022-06-24T19:04:13.291Z"
   },
   {
    "duration": 4,
    "start_time": "2022-06-24T19:04:13.304Z"
   },
   {
    "duration": 13,
    "start_time": "2022-06-24T19:04:13.329Z"
   },
   {
    "duration": 17,
    "start_time": "2022-06-24T19:04:13.343Z"
   },
   {
    "duration": 9,
    "start_time": "2022-06-24T19:04:13.361Z"
   },
   {
    "duration": 354,
    "start_time": "2022-06-24T19:04:13.371Z"
   },
   {
    "duration": 13,
    "start_time": "2022-06-24T19:04:13.728Z"
   },
   {
    "duration": 332,
    "start_time": "2022-06-24T19:04:13.743Z"
   },
   {
    "duration": 227,
    "start_time": "2022-06-24T19:04:14.077Z"
   },
   {
    "duration": 23,
    "start_time": "2022-06-24T19:04:14.306Z"
   },
   {
    "duration": 8,
    "start_time": "2022-06-24T19:04:14.330Z"
   },
   {
    "duration": 112,
    "start_time": "2022-06-24T19:04:14.340Z"
   },
   {
    "duration": 19,
    "start_time": "2022-06-24T19:04:14.454Z"
   },
   {
    "duration": 4,
    "start_time": "2022-06-24T19:04:14.474Z"
   },
   {
    "duration": 10,
    "start_time": "2022-06-24T19:04:14.480Z"
   },
   {
    "duration": 38,
    "start_time": "2022-06-24T19:04:14.491Z"
   },
   {
    "duration": 284,
    "start_time": "2022-06-24T19:04:14.530Z"
   },
   {
    "duration": 225,
    "start_time": "2022-06-24T19:04:14.815Z"
   },
   {
    "duration": 154,
    "start_time": "2022-06-24T19:04:15.041Z"
   },
   {
    "duration": 149,
    "start_time": "2022-06-24T19:04:15.197Z"
   },
   {
    "duration": 11,
    "start_time": "2022-06-24T19:04:15.348Z"
   },
   {
    "duration": 25,
    "start_time": "2022-06-24T19:04:15.360Z"
   },
   {
    "duration": 19,
    "start_time": "2022-06-24T19:04:15.387Z"
   },
   {
    "duration": 226,
    "start_time": "2022-06-24T19:04:15.407Z"
   },
   {
    "duration": 147,
    "start_time": "2022-06-24T19:04:15.634Z"
   },
   {
    "duration": 12,
    "start_time": "2022-06-24T19:04:15.783Z"
   },
   {
    "duration": 149,
    "start_time": "2022-06-24T19:04:15.796Z"
   },
   {
    "duration": 179,
    "start_time": "2022-06-24T19:04:15.946Z"
   },
   {
    "duration": 155,
    "start_time": "2022-06-24T19:04:16.129Z"
   },
   {
    "duration": 44,
    "start_time": "2022-06-24T19:04:16.285Z"
   },
   {
    "duration": 29,
    "start_time": "2022-06-24T19:04:16.331Z"
   },
   {
    "duration": 3,
    "start_time": "2022-06-24T19:04:16.362Z"
   },
   {
    "duration": 20,
    "start_time": "2022-06-24T19:04:16.366Z"
   },
   {
    "duration": 14,
    "start_time": "2022-06-24T19:04:16.387Z"
   },
   {
    "duration": 5,
    "start_time": "2022-06-24T19:04:16.404Z"
   },
   {
    "duration": 17,
    "start_time": "2022-06-24T19:04:16.411Z"
   },
   {
    "duration": 14,
    "start_time": "2022-06-24T19:04:16.429Z"
   },
   {
    "duration": 1086,
    "start_time": "2022-06-24T19:04:39.396Z"
   },
   {
    "duration": 51,
    "start_time": "2022-06-24T19:04:40.483Z"
   },
   {
    "duration": 13,
    "start_time": "2022-06-24T19:04:40.535Z"
   },
   {
    "duration": 13,
    "start_time": "2022-06-24T19:04:40.550Z"
   },
   {
    "duration": 12,
    "start_time": "2022-06-24T19:04:40.565Z"
   },
   {
    "duration": 16,
    "start_time": "2022-06-24T19:04:40.578Z"
   },
   {
    "duration": 7,
    "start_time": "2022-06-24T19:04:40.595Z"
   },
   {
    "duration": 5,
    "start_time": "2022-06-24T19:04:40.628Z"
   },
   {
    "duration": 8,
    "start_time": "2022-06-24T19:04:40.634Z"
   },
   {
    "duration": 7,
    "start_time": "2022-06-24T19:04:40.643Z"
   },
   {
    "duration": 6,
    "start_time": "2022-06-24T19:04:40.651Z"
   },
   {
    "duration": 19,
    "start_time": "2022-06-24T19:04:40.658Z"
   },
   {
    "duration": 5,
    "start_time": "2022-06-24T19:04:40.679Z"
   },
   {
    "duration": 3,
    "start_time": "2022-06-24T19:04:40.687Z"
   },
   {
    "duration": 8,
    "start_time": "2022-06-24T19:04:40.692Z"
   },
   {
    "duration": 30,
    "start_time": "2022-06-24T19:04:40.701Z"
   },
   {
    "duration": 10,
    "start_time": "2022-06-24T19:04:40.732Z"
   },
   {
    "duration": 12,
    "start_time": "2022-06-24T19:04:40.743Z"
   },
   {
    "duration": 4,
    "start_time": "2022-06-24T19:04:40.756Z"
   },
   {
    "duration": 15,
    "start_time": "2022-06-24T19:04:40.761Z"
   },
   {
    "duration": 16,
    "start_time": "2022-06-24T19:04:40.778Z"
   },
   {
    "duration": 8,
    "start_time": "2022-06-24T19:04:40.796Z"
   },
   {
    "duration": 236,
    "start_time": "2022-06-24T19:04:40.806Z"
   },
   {
    "duration": 12,
    "start_time": "2022-06-24T19:04:41.043Z"
   },
   {
    "duration": 296,
    "start_time": "2022-06-24T19:04:41.056Z"
   },
   {
    "duration": 230,
    "start_time": "2022-06-24T19:04:41.354Z"
   },
   {
    "duration": 16,
    "start_time": "2022-06-24T19:04:41.585Z"
   },
   {
    "duration": 8,
    "start_time": "2022-06-24T19:04:41.602Z"
   },
   {
    "duration": 131,
    "start_time": "2022-06-24T19:04:41.612Z"
   },
   {
    "duration": 20,
    "start_time": "2022-06-24T19:04:41.744Z"
   },
   {
    "duration": 4,
    "start_time": "2022-06-24T19:04:41.765Z"
   },
   {
    "duration": 12,
    "start_time": "2022-06-24T19:04:41.770Z"
   },
   {
    "duration": 12,
    "start_time": "2022-06-24T19:04:41.783Z"
   },
   {
    "duration": 307,
    "start_time": "2022-06-24T19:04:41.797Z"
   },
   {
    "duration": 302,
    "start_time": "2022-06-24T19:04:42.106Z"
   },
   {
    "duration": 156,
    "start_time": "2022-06-24T19:04:42.410Z"
   },
   {
    "duration": 146,
    "start_time": "2022-06-24T19:04:42.568Z"
   },
   {
    "duration": 17,
    "start_time": "2022-06-24T19:04:42.716Z"
   },
   {
    "duration": 23,
    "start_time": "2022-06-24T19:04:42.734Z"
   },
   {
    "duration": 17,
    "start_time": "2022-06-24T19:04:42.758Z"
   },
   {
    "duration": 138,
    "start_time": "2022-06-24T19:04:42.778Z"
   },
   {
    "duration": 155,
    "start_time": "2022-06-24T19:04:42.918Z"
   },
   {
    "duration": 12,
    "start_time": "2022-06-24T19:04:43.074Z"
   },
   {
    "duration": 158,
    "start_time": "2022-06-24T19:04:43.087Z"
   },
   {
    "duration": 156,
    "start_time": "2022-06-24T19:04:43.246Z"
   },
   {
    "duration": 169,
    "start_time": "2022-06-24T19:04:43.403Z"
   },
   {
    "duration": 38,
    "start_time": "2022-06-24T19:04:43.573Z"
   },
   {
    "duration": 44,
    "start_time": "2022-06-24T19:04:43.613Z"
   },
   {
    "duration": 5,
    "start_time": "2022-06-24T19:04:43.659Z"
   },
   {
    "duration": 6,
    "start_time": "2022-06-24T19:04:43.667Z"
   },
   {
    "duration": 12,
    "start_time": "2022-06-24T19:04:43.674Z"
   },
   {
    "duration": 4,
    "start_time": "2022-06-24T19:04:43.687Z"
   },
   {
    "duration": 7,
    "start_time": "2022-06-24T19:04:43.693Z"
   },
   {
    "duration": 13,
    "start_time": "2022-06-24T19:04:43.701Z"
   },
   {
    "duration": 207,
    "start_time": "2022-06-24T19:05:48.900Z"
   },
   {
    "duration": 198,
    "start_time": "2022-06-24T19:05:55.437Z"
   },
   {
    "duration": 202,
    "start_time": "2022-06-24T19:06:02.033Z"
   },
   {
    "duration": 3,
    "start_time": "2022-06-24T19:06:13.331Z"
   },
   {
    "duration": 53,
    "start_time": "2022-06-24T19:06:13.336Z"
   },
   {
    "duration": 13,
    "start_time": "2022-06-24T19:06:13.391Z"
   },
   {
    "duration": 14,
    "start_time": "2022-06-24T19:06:13.406Z"
   },
   {
    "duration": 20,
    "start_time": "2022-06-24T19:06:13.422Z"
   },
   {
    "duration": 18,
    "start_time": "2022-06-24T19:06:13.444Z"
   },
   {
    "duration": 9,
    "start_time": "2022-06-24T19:06:13.464Z"
   },
   {
    "duration": 9,
    "start_time": "2022-06-24T19:06:13.474Z"
   },
   {
    "duration": 124,
    "start_time": "2022-06-24T19:06:13.485Z"
   },
   {
    "duration": 6,
    "start_time": "2022-06-24T19:06:13.629Z"
   },
   {
    "duration": 6,
    "start_time": "2022-06-24T19:06:13.638Z"
   },
   {
    "duration": 26,
    "start_time": "2022-06-24T19:06:13.645Z"
   },
   {
    "duration": 8,
    "start_time": "2022-06-24T19:06:13.673Z"
   },
   {
    "duration": 11,
    "start_time": "2022-06-24T19:06:13.682Z"
   },
   {
    "duration": 36,
    "start_time": "2022-06-24T19:06:13.694Z"
   },
   {
    "duration": 5,
    "start_time": "2022-06-24T19:06:13.732Z"
   },
   {
    "duration": 12,
    "start_time": "2022-06-24T19:06:13.738Z"
   },
   {
    "duration": 12,
    "start_time": "2022-06-24T19:06:13.752Z"
   },
   {
    "duration": 4,
    "start_time": "2022-06-24T19:06:13.766Z"
   },
   {
    "duration": 20,
    "start_time": "2022-06-24T19:06:13.772Z"
   },
   {
    "duration": 44,
    "start_time": "2022-06-24T19:06:13.793Z"
   },
   {
    "duration": 10,
    "start_time": "2022-06-24T19:06:13.838Z"
   },
   {
    "duration": 234,
    "start_time": "2022-06-24T19:06:13.850Z"
   },
   {
    "duration": 13,
    "start_time": "2022-06-24T19:06:14.086Z"
   },
   {
    "duration": 292,
    "start_time": "2022-06-24T19:06:14.101Z"
   },
   {
    "duration": 244,
    "start_time": "2022-06-24T19:06:14.395Z"
   },
   {
    "duration": 15,
    "start_time": "2022-06-24T19:06:14.640Z"
   },
   {
    "duration": 10,
    "start_time": "2022-06-24T19:06:14.657Z"
   },
   {
    "duration": 131,
    "start_time": "2022-06-24T19:06:14.671Z"
   },
   {
    "duration": 27,
    "start_time": "2022-06-24T19:06:14.804Z"
   },
   {
    "duration": 5,
    "start_time": "2022-06-24T19:06:14.833Z"
   },
   {
    "duration": 10,
    "start_time": "2022-06-24T19:06:14.839Z"
   },
   {
    "duration": 14,
    "start_time": "2022-06-24T19:06:14.851Z"
   },
   {
    "duration": 320,
    "start_time": "2022-06-24T19:06:14.866Z"
   },
   {
    "duration": 275,
    "start_time": "2022-06-24T19:06:15.188Z"
   },
   {
    "duration": 140,
    "start_time": "2022-06-24T19:06:15.465Z"
   },
   {
    "duration": 139,
    "start_time": "2022-06-24T19:06:15.607Z"
   },
   {
    "duration": 11,
    "start_time": "2022-06-24T19:06:15.748Z"
   },
   {
    "duration": 22,
    "start_time": "2022-06-24T19:06:15.760Z"
   },
   {
    "duration": 18,
    "start_time": "2022-06-24T19:06:15.784Z"
   },
   {
    "duration": 214,
    "start_time": "2022-06-24T19:06:15.804Z"
   },
   {
    "duration": 144,
    "start_time": "2022-06-24T19:06:16.019Z"
   },
   {
    "duration": 12,
    "start_time": "2022-06-24T19:06:16.164Z"
   },
   {
    "duration": 157,
    "start_time": "2022-06-24T19:06:16.177Z"
   },
   {
    "duration": 181,
    "start_time": "2022-06-24T19:06:16.335Z"
   },
   {
    "duration": 143,
    "start_time": "2022-06-24T19:06:16.518Z"
   },
   {
    "duration": 32,
    "start_time": "2022-06-24T19:06:16.663Z"
   },
   {
    "duration": 43,
    "start_time": "2022-06-24T19:06:16.696Z"
   },
   {
    "duration": 4,
    "start_time": "2022-06-24T19:06:16.740Z"
   },
   {
    "duration": 5,
    "start_time": "2022-06-24T19:06:16.746Z"
   },
   {
    "duration": 13,
    "start_time": "2022-06-24T19:06:16.753Z"
   },
   {
    "duration": 6,
    "start_time": "2022-06-24T19:06:16.767Z"
   },
   {
    "duration": 17,
    "start_time": "2022-06-24T19:06:16.775Z"
   },
   {
    "duration": 10,
    "start_time": "2022-06-24T19:06:16.793Z"
   },
   {
    "duration": 1081,
    "start_time": "2022-06-24T19:06:25.660Z"
   },
   {
    "duration": 50,
    "start_time": "2022-06-24T19:06:26.744Z"
   },
   {
    "duration": 14,
    "start_time": "2022-06-24T19:06:26.795Z"
   },
   {
    "duration": 16,
    "start_time": "2022-06-24T19:06:26.811Z"
   },
   {
    "duration": 13,
    "start_time": "2022-06-24T19:06:26.828Z"
   },
   {
    "duration": 16,
    "start_time": "2022-06-24T19:06:26.843Z"
   },
   {
    "duration": 7,
    "start_time": "2022-06-24T19:06:26.860Z"
   },
   {
    "duration": 5,
    "start_time": "2022-06-24T19:06:26.869Z"
   },
   {
    "duration": 10,
    "start_time": "2022-06-24T19:06:26.875Z"
   },
   {
    "duration": 7,
    "start_time": "2022-06-24T19:06:26.887Z"
   },
   {
    "duration": 19,
    "start_time": "2022-06-24T19:06:26.896Z"
   },
   {
    "duration": 20,
    "start_time": "2022-06-24T19:06:26.928Z"
   },
   {
    "duration": 6,
    "start_time": "2022-06-24T19:06:26.949Z"
   },
   {
    "duration": 4,
    "start_time": "2022-06-24T19:06:26.956Z"
   },
   {
    "duration": 6,
    "start_time": "2022-06-24T19:06:26.961Z"
   },
   {
    "duration": 9,
    "start_time": "2022-06-24T19:06:26.968Z"
   },
   {
    "duration": 8,
    "start_time": "2022-06-24T19:06:26.978Z"
   },
   {
    "duration": 11,
    "start_time": "2022-06-24T19:06:26.988Z"
   },
   {
    "duration": 30,
    "start_time": "2022-06-24T19:06:27.000Z"
   },
   {
    "duration": 18,
    "start_time": "2022-06-24T19:06:27.031Z"
   },
   {
    "duration": 16,
    "start_time": "2022-06-24T19:06:27.050Z"
   },
   {
    "duration": 10,
    "start_time": "2022-06-24T19:06:27.067Z"
   },
   {
    "duration": 228,
    "start_time": "2022-06-24T19:06:27.078Z"
   },
   {
    "duration": 11,
    "start_time": "2022-06-24T19:06:27.308Z"
   },
   {
    "duration": 285,
    "start_time": "2022-06-24T19:06:27.329Z"
   },
   {
    "duration": 234,
    "start_time": "2022-06-24T19:06:27.616Z"
   },
   {
    "duration": 15,
    "start_time": "2022-06-24T19:06:27.852Z"
   },
   {
    "duration": 8,
    "start_time": "2022-06-24T19:06:27.870Z"
   },
   {
    "duration": 121,
    "start_time": "2022-06-24T19:06:27.879Z"
   },
   {
    "duration": 28,
    "start_time": "2022-06-24T19:06:28.002Z"
   },
   {
    "duration": 4,
    "start_time": "2022-06-24T19:06:28.032Z"
   },
   {
    "duration": 10,
    "start_time": "2022-06-24T19:06:28.037Z"
   },
   {
    "duration": 12,
    "start_time": "2022-06-24T19:06:28.049Z"
   },
   {
    "duration": 311,
    "start_time": "2022-06-24T19:06:28.062Z"
   },
   {
    "duration": 304,
    "start_time": "2022-06-24T19:06:28.374Z"
   },
   {
    "duration": 139,
    "start_time": "2022-06-24T19:06:28.679Z"
   },
   {
    "duration": 145,
    "start_time": "2022-06-24T19:06:28.820Z"
   },
   {
    "duration": 10,
    "start_time": "2022-06-24T19:06:28.967Z"
   },
   {
    "duration": 23,
    "start_time": "2022-06-24T19:06:28.979Z"
   },
   {
    "duration": 33,
    "start_time": "2022-06-24T19:06:29.003Z"
   },
   {
    "duration": 135,
    "start_time": "2022-06-24T19:06:29.038Z"
   },
   {
    "duration": 145,
    "start_time": "2022-06-24T19:06:29.175Z"
   },
   {
    "duration": 15,
    "start_time": "2022-06-24T19:06:29.321Z"
   },
   {
    "duration": 145,
    "start_time": "2022-06-24T19:06:29.338Z"
   },
   {
    "duration": 146,
    "start_time": "2022-06-24T19:06:29.485Z"
   },
   {
    "duration": 142,
    "start_time": "2022-06-24T19:06:29.633Z"
   },
   {
    "duration": 32,
    "start_time": "2022-06-24T19:06:29.776Z"
   },
   {
    "duration": 42,
    "start_time": "2022-06-24T19:06:29.809Z"
   },
   {
    "duration": 4,
    "start_time": "2022-06-24T19:06:29.852Z"
   },
   {
    "duration": 6,
    "start_time": "2022-06-24T19:06:29.857Z"
   },
   {
    "duration": 7,
    "start_time": "2022-06-24T19:06:29.865Z"
   },
   {
    "duration": 6,
    "start_time": "2022-06-24T19:06:29.874Z"
   },
   {
    "duration": 6,
    "start_time": "2022-06-24T19:06:29.881Z"
   },
   {
    "duration": 8,
    "start_time": "2022-06-24T19:06:29.888Z"
   }
  ],
  "kernelspec": {
   "display_name": "Python 3 (ipykernel)",
   "language": "python",
   "name": "python3"
  },
  "language_info": {
   "codemirror_mode": {
    "name": "ipython",
    "version": 3
   },
   "file_extension": ".py",
   "mimetype": "text/x-python",
   "name": "python",
   "nbconvert_exporter": "python",
   "pygments_lexer": "ipython3",
   "version": "3.9.12"
  },
  "toc": {
   "base_numbering": 1,
   "nav_menu": {},
   "number_sections": true,
   "sideBar": true,
   "skip_h1_title": true,
   "title_cell": "Table of Contents",
   "title_sidebar": "Contents",
   "toc_cell": false,
   "toc_position": {},
   "toc_section_display": true,
   "toc_window_display": false
  }
 },
 "nbformat": 4,
 "nbformat_minor": 2
}
